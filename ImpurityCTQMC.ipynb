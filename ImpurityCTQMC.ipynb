{
 "metadata": {
  "name": "ImpurityCTQMC"
 },
 "nbformat": 3,
 "nbformat_minor": 0,
 "worksheets": [
  {
   "cells": [
    {
     "cell_type": "markdown",
     "metadata": {},
     "source": [
      "Solving a quantum impurity problem with CTQMC\n",
      "=============================================\n",
      "\n",
      "The goal here is to solve a simple Anderson impurity problem. The\n",
      "impurity has a local Coulomb repulsion and hybridizes with conduction\n",
      "electrons. The Hamiltonian of the problem is given by\n",
      "\n",
      "$$ H = U n_{d,\\uparrow} n_{d,\\downarrow} + \\epsilon_f n_d - V \\sum_k d^\\dagger_\\sigma c_{k,\\sigma} + \\text{h.c.} $$\n",
      "\n",
      "We will assume that the conduction electron have a dispersion that is\n",
      "such that their density of states is flat (Wilson).\n",
      "\n",
      "To solve this problem we will use the CTQMC solver of TRIQS. Let us first import\n",
      "the relevant libraries and set the parameters"
     ]
    },
    {
     "cell_type": "code",
     "collapsed": false,
     "input": [
      "from pytriqs.Base.GF_Local import *\n",
      "from pytriqs.Solvers.Operators import *\n",
      "from pytriqs.Solvers.HybridizationExpansion import Solver\n",
      "\n",
      "D, V, U = 1.0, 0.2, 2.0\n",
      "e_f, Beta = -U/2.0, 40"
     ],
     "language": "python",
     "metadata": {},
     "outputs": []
    },
    {
     "cell_type": "markdown",
     "metadata": {},
     "source": [
      "We must now construct the impurity solver, specifying both the local Hamiltonian\n",
      "and variables that control the Monte Carlo algorithm:"
     ]
    },
    {
     "cell_type": "code",
     "collapsed": false,
     "input": [
      "S = Solver(Beta = Beta,                             # inverse temperature\n",
      "           GFstruct = [ ('up',[1]), ('down',[1]) ], # Structure of the Green's function \n",
      "           H_Local = U * N('up',1) * N('down',1),   # Local Hamiltonian \n",
      "           Quantum_Numbers = {                      # Quantum Numbers \n",
      "               'Nup' : N('up',1),                   # (operators commuting with H_Local) \n",
      "               'Ndown' : N('down',1) },          \n",
      "           N_Cycles  = 100000,                      # Number of QMC cycles\n",
      "           Length_Cycle = 100,                      # Length of one cycle \n",
      "           N_Warmup_Cycles = 10000,                 # Warmup cycles\n",
      "           N_Legendre_Coeffs = 50,                  # Number of Legendre coefficients\n",
      "           Random_Generator_Name = 'mt19937',       # Name of the random number generator\n",
      "           Use_Segment_Picture = True,              # Use the segment picture\n",
      "           Measured_Operators = {                   # Operators to be averaged\n",
      "             'Nimp' : N('up',1)+N('down',1) },\n",
      "           Global_Moves = [                         # Global move in the QMC\n",
      "               (0.05, lambda (a,alpha,dag) : ( {'up':'down','down':'up'}[a],alpha,dag ) ) ], \n",
      "           )"
     ],
     "language": "python",
     "metadata": {},
     "outputs": []
    },
    {
     "cell_type": "markdown",
     "metadata": {},
     "source": [
      "The CTQMC starts from the non-interacting solution of the problem, so we need\n",
      "to give it the non-interacting Green's function. For the Hamiltonian above this\n",
      "is simply\n",
      "\n",
      "$$ G_0^{-1} = i\\omega_n - \\epsilon_f - V^2  W(i\\omega_n), $$\n",
      "\n",
      "where $W$ is the Green's function of the conduction electrons:"
     ]
    },
    {
     "cell_type": "code",
     "collapsed": false,
     "input": [
      "for spin, g0 in S.G0 :\n",
      "    g0 <<= inverse( iOmega_n - e_f - V**2 * Wilson(D) )"
     ],
     "language": "python",
     "metadata": {},
     "outputs": []
    },
    {
     "cell_type": "markdown",
     "metadata": {},
     "source": [
      "Everything is ready now so let's solve the problem!"
     ]
    },
    {
     "cell_type": "code",
     "collapsed": false,
     "input": [
      "S.Solve() # Run the solver - the result will be in S.G"
     ],
     "language": "python",
     "metadata": {},
     "outputs": []
    },
    {
     "cell_type": "markdown",
     "metadata": {},
     "source": [
      "The result of the calculation is the impurity Green's function in\n",
      "Matsubara frequencies! It is saved in\n",
      "<pre>S.G</pre>\n",
      "We can plot it"
     ]
    },
    {
     "cell_type": "code",
     "collapsed": false,
     "input": [
      "from pytriqs.Base.Plot.MatplotlibInterface import *\n",
      "oplot(S.G, '-x')\n",
      "plt.xlim(0,20)"
     ],
     "language": "python",
     "metadata": {},
     "outputs": []
    }
   ],
   "metadata": {}
  }
 ]
}