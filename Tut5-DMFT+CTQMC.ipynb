{
 "metadata": {
  "name": "Tut5-DMFT+CTQMC"
 },
 "nbformat": 3,
 "nbformat_minor": 0,
 "worksheets": [
  {
   "cells": [
    {
     "cell_type": "markdown",
     "metadata": {},
     "source": [
      "DMFT with the CTQMC impurity solver\n",
      "===================================\n",
      "\n",
      "We will now try a DMFT with the CTQMC solver.\n",
      "\n",
      "Setting the parameters\n",
      "----------------------\n",
      "\n",
      "First we include the necessary libraries and initialize the\n",
      "parameters of the model."
     ]
    },
    {
     "cell_type": "code",
     "collapsed": false,
     "input": [
      "from pytriqs.gf.local import *\n",
      "from pytriqs.operators import *\n",
      "from pytriqs.applications.impurity_solvers.cthyb_matrix import Solver\n",
      "\n",
      "t = 1.0\n",
      "U = 4.0\n",
      "beta = 20\n",
      "n_loops = 20"
     ],
     "language": "python",
     "metadata": {},
     "outputs": []
    },
    {
     "cell_type": "markdown",
     "metadata": {},
     "source": [
      "Defining the CTQMC solver and the DMFT loop\n",
      "-------------------------------------------\n",
      "\n",
      "We must now construct the impurity solver, specifying both the local Hamiltonian\n",
      "and variables that control the Monte Carlo algorithm. Then we just have to do the\n",
      "DMFT loop like we have done earlier."
     ]
    },
    {
     "cell_type": "code",
     "collapsed": false,
     "input": [
      "S = Solver(beta = beta, gf_struct = [ ('up',[1]), ('down',[1]) ])\n",
      "\n",
      "S.G <<= SemiCircular(2*t)\n",
      "Sav = S.G.copy()\n",
      "Sav.zero()\n",
      "\n",
      "for i in range(n_loops):\n",
      "\n",
      "    print \"\\n\\nIteration = %i / %i\" % (i+1, n_loops)\n",
      "    g = 0.5 * ( S.G['up'] + S.G['down'] )\n",
      "    for name, g0block in S.G0:\n",
      "        g0block <<= inverse( iOmega_n + U/2.0 - t**2 * g )\n",
      "        \n",
      "    if i>2: Sav += S.Sigma\n",
      "        \n",
      "    S.solve(H_local = U * N('up',1) * N('down',1),   # Local Hamiltonian \n",
      "            quantum_numbers = {                      # Quantum Numbers \n",
      "               'Nup' : N('up',1),                    # (operators commuting with H_Local) \n",
      "               'Ndown' : N('down',1) },          \n",
      "            n_cycles  = 50000,                       # Number of QMC cycles\n",
      "            length_cycle = 100,                      # Length of one cycle \n",
      "            n_warmup_cycles = 5000,                  # Warmup cycles\n",
      "            n_legendre = 50,                         # Number of Legendre coefficients\n",
      "            random_name = 'mt19937',                 # Name of the random number generator\n",
      "            use_segment_picture = True,              # Use the segment picture\n",
      "            measured_operators = {                   # Operators to be averaged\n",
      "              'Nimp' : N('up',1)+N('down',1) },\n",
      "            global_moves = [                         # Global move in the QMC\n",
      "               (0.05, lambda (a,alpha,dag) : ( {'up':'down','down':'up'}[a],alpha,dag ) ) ]\n",
      "            )\n",
      "\n",
      "    \n",
      "Sav /= n_loops-3"
     ],
     "language": "python",
     "metadata": {},
     "outputs": []
    },
    {
     "cell_type": "markdown",
     "metadata": {},
     "source": [
      "Checking the Matsubara-frequency results\n",
      "----------------------------------------\n",
      "\n",
      "The result of the calculation is the impurity Green's function in\n",
      "Matsubara frequencies! It is saved in\n",
      "<pre>S.G and S.Sigma</pre>\n",
      "We can plot them and see how good the statistics is."
     ]
    },
    {
     "cell_type": "code",
     "collapsed": false,
     "input": [
      "from pytriqs.plot.mpl_interface import *\n",
      "oplot(Sav)\n",
      "plt.xlim(0,20)"
     ],
     "language": "python",
     "metadata": {},
     "outputs": []
    },
    {
     "cell_type": "markdown",
     "metadata": {},
     "source": [
      "Pade continuation of the data\n",
      "-----------------------------\n",
      "\n",
      "Below we do a Pade on the self-energy and then use this self-energy to\n",
      "recompute the Green's function on the real axis."
     ]
    },
    {
     "cell_type": "code",
     "collapsed": false,
     "input": [
      "from pytriqs.dos import *\n",
      "import numpy\n",
      "\n",
      "s_real = GfReFreq(indices = [0], window = [-5,5])\n",
      "g_real = GfReFreq(indices = [0], window = [-5,5])\n",
      "\n",
      "d = DOSFromFunction(lambda x: sqrt(4*t**2-x**2)/(pi*2*t**2), -2*t, 2*t)\n",
      "HT = HilbertTransform(d)\n",
      "\n",
      "for i in range(10):\n",
      "    NL = (i+10)*10\n",
      "    s_real.set_from_pade(Sav['up'], NL, 0.0)\n",
      "    g_real <<= HT(Sigma = s_real, mu=U/2.0)\n",
      "    oplot(g_real, RI='S', label = 'N = %i' % NL)\n",
      "    \n",
      "plt.ylim(0,0.35)"
     ],
     "language": "python",
     "metadata": {},
     "outputs": []
    },
    {
     "cell_type": "code",
     "collapsed": false,
     "input": [],
     "language": "python",
     "metadata": {},
     "outputs": []
    }
   ],
   "metadata": {}
  }
 ]
}