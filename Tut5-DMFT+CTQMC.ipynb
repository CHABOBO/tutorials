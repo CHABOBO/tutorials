{
 "metadata": {
  "name": "Tut4-DMFT+CTQMC"
 },
 "nbformat": 3,
 "nbformat_minor": 0,
 "worksheets": [
  {
   "cells": [
    {
     "cell_type": "markdown",
     "metadata": {},
     "source": [
      "DMFT with the CTQMC impurity solver\n",
      "===================================\n",
      "\n",
      "We will now try a DMFT with the CTQMC solver.\n",
      "\n",
      "Setting the parameters\n",
      "----------------------\n",
      "\n",
      "First we include the necessary libraries and initialize the\n",
      "parameters of the model."
     ]
    },
    {
     "cell_type": "code",
     "collapsed": false,
     "input": [
      "from pytriqs.Base.GF_Local import *\n",
      "from pytriqs.Solvers.Operators import *\n",
      "from pytriqs.Solvers.HybridizationExpansion import Solver\n",
      "\n",
      "t = 1.0\n",
      "U = 4.0\n",
      "beta = 20\n",
      "N_Loops = 20"
     ],
     "language": "python",
     "metadata": {},
     "outputs": [
      {
       "output_type": "stream",
       "stream": "stderr",
       "text": [
        "Starting on 1 Nodes at : 2012-11-01 20:27:26.859447\n"
       ]
      }
     ],
     "prompt_number": 1
    },
    {
     "cell_type": "markdown",
     "metadata": {},
     "source": [
      "Defining the CTQMC solver and the DMFT loop\n",
      "-------------------------------------------\n",
      "\n",
      "We must now construct the impurity solver, specifying both the local Hamiltonian\n",
      "and variables that control the Monte Carlo algorithm. Then we just have to do the\n",
      "DMFT loop like we have done earlier."
     ]
    },
    {
     "cell_type": "code",
     "collapsed": false,
     "input": [
      "S = Solver(Beta = beta,                             # inverse temperature\n",
      "           GFstruct = [ ('up',[1]), ('down',[1]) ], # Structure of the Green's function \n",
      "           H_Local = U * N('up',1) * N('down',1),   # Local Hamiltonian \n",
      "           Quantum_Numbers = {                      # Quantum Numbers \n",
      "               'Nup' : N('up',1),                   # (operators commuting with H_Local) \n",
      "               'Ndown' : N('down',1) },          \n",
      "           N_Cycles  = 50000,                       # Number of QMC cycles\n",
      "           Length_Cycle = 100,                      # Length of one cycle \n",
      "           N_Warmup_Cycles = 5000,                  # Warmup cycles\n",
      "           N_Legendre_Coeffs = 50,                  # Number of Legendre coefficients\n",
      "           Random_Generator_Name = 'mt19937',       # Name of the random number generator\n",
      "           Use_Segment_Picture = True,              # Use the segment picture\n",
      "           Measured_Operators = {                   # Operators to be averaged\n",
      "             'Nimp' : N('up',1)+N('down',1) },\n",
      "           Global_Moves = [                         # Global move in the QMC\n",
      "               (0.05, lambda (a,alpha,dag) : ( {'up':'down','down':'up'}[a],alpha,dag ) ) ], \n",
      "           )\n",
      "\n",
      "S.G <<= SemiCircular(2*t)\n",
      "Sav = S.G.copy()\n",
      "Sav.zero()\n",
      "\n",
      "for i in range(N_Loops):\n",
      "\n",
      "    print \"\\n\\nIteration = %i / %i\" % (i+1, N_Loops)\n",
      "    g = 0.5 * ( S.G['up'] + S.G['down'] )\n",
      "    for name, g0block in S.G0:\n",
      "        g0block <<= inverse( iOmega_n + U/2.0 - t**2 * g )\n",
      "        \n",
      "    if i>2: Sav += S.Sigma\n",
      "        \n",
      "    S.Solve()\n",
      "    \n",
      "Sav /= N_Loops-3"
     ],
     "language": "python",
     "metadata": {},
     "outputs": [
      {
       "output_type": "stream",
       "stream": "stdout",
       "text": [
        "\n",
        "\n",
        "Iteration = 1 / 20\n",
        "\n",
        "Optional parameters defined to their default values: \n",
        " *Fitting_Frequency_Start -> 50\n",
        "   Description :\n",
        "     Frequency at which the fit starts\n",
        "\n",
        " *Record_Statistics_Configurations -> False\n",
        "   Description :\n",
        "     (Expert only) Get the kink length statistics\n",
        "\n",
        " *Quantum_Numbers_Selection -> <function <lambda> at 0xa3b6144>\n",
        "   Description :\n",
        "     (Prototype) A function to select quantum numbers\n",
        "\n",
        " *Use_F -> False\n",
        "   Description :\n",
        "     (Expert only) Compute F\n",
        "\n",
        " *Nmax_Matrix -> 100\n",
        "   Description :\n",
        "     Initial size of the determinant matrices\n",
        "\n",
        " *Keep_Full_MC_Series -> False\n",
        "   Description :\n",
        "     (Expert only) Store the Green's function for later analysis\n",
        "\n",
        " *N_Time_Slices_Gtau -> 10000\n",
        "   Description :\n",
        "     Number of times slices in G_tau\n",
        "\n",
        " *N_Frequencies_Accumulated -> 100\n",
        "   Description :\n",
        "     Number of frequencies to accumulate\n",
        "\n",
        " *Time_Accumulation -> False\n",
        "   Description :\n",
        "     Do we accumulate in imaginary-time?\n",
        "\n",
        " *Random_Seed -> 34788\n",
        "   Description :\n",
        "     Seed for the random generator\n",
        "\n",
        " *Eta -> 0.0\n",
        "   Description :\n",
        "     (Expert only) Value of eta, the minimum value of the det\n",
        "\n",
        " *Legendre_Accumulation -> True\n",
        "   Description :\n",
        "     Do we accumulate in legendre?\n",
        "\n",
        " *Proba_Move -> 1.0\n",
        "   Description :\n",
        "     Probability to move operators\n",
        "\n",
        " *N_Time_Slices_Delta -> 10000\n",
        "   Description :\n",
        "     Number of times slices in Delta\n",
        "\n",
        " *Proba_Insert_Remove -> 1.0\n",
        "   Description :\n",
        "     Probability to insert/remove operators\n",
        "\n",
        " *Measured_Time_Correlators -> {}\n",
        "   Description :\n",
        "     A dict of operators, whose time correlations are to be measured\n",
        "\n",
        "------------------------------------------------\n",
        "\n"
       ]
      },
      {
       "output_type": "stream",
       "stream": "stdout",
       "text": [
        "Hamiltonian with Eps0 term  : \n"
       ]
      },
      {
       "output_type": "stream",
       "stream": "stdout",
       "text": [
        " 4.0 C^(up,1)C(up,1)C^(down,1)C(down,1) - 2.0 C^(up,1)C(up,1) - 2.0 C^(down,1)C(down,1) \n"
       ]
      },
      {
       "output_type": "stream",
       "stream": "stdout",
       "text": [
        "Inv Fourier done\n"
       ]
      },
      {
       "output_type": "stream",
       "stream": "stdout",
       "text": [
        "Solver Hybridization Expansion has ended.\n"
       ]
      },
      {
       "output_type": "stream",
       "stream": "stdout",
       "text": [
        "\n",
        "\n",
        "Iteration = 2 / 20\n",
        "\n",
        "------------------------------------------------\n",
        "\n"
       ]
      },
      {
       "output_type": "stream",
       "stream": "stdout",
       "text": [
        "Hamiltonian with Eps0 term  : \n"
       ]
      },
      {
       "output_type": "stream",
       "stream": "stdout",
       "text": [
        " 4.0 C^(up,1)C(up,1)C^(down,1)C(down,1) - 2.0 C^(up,1)C(up,1) - 2.0 C^(down,1)C(down,1) \n"
       ]
      },
      {
       "output_type": "stream",
       "stream": "stdout",
       "text": [
        "Inv Fourier done\n"
       ]
      },
      {
       "output_type": "stream",
       "stream": "stdout",
       "text": [
        "Solver Hybridization Expansion has ended.\n"
       ]
      },
      {
       "output_type": "stream",
       "stream": "stdout",
       "text": [
        "\n",
        "\n",
        "Iteration = 3 / 20\n",
        "\n",
        "------------------------------------------------\n",
        "\n"
       ]
      },
      {
       "output_type": "stream",
       "stream": "stdout",
       "text": [
        "Hamiltonian with Eps0 term  : \n"
       ]
      },
      {
       "output_type": "stream",
       "stream": "stdout",
       "text": [
        " 4.0 C^(up,1)C(up,1)C^(down,1)C(down,1) - 2.0 C^(up,1)C(up,1) - 2.0 C^(down,1)C(down,1) \n"
       ]
      },
      {
       "output_type": "stream",
       "stream": "stdout",
       "text": [
        "Inv Fourier done\n"
       ]
      },
      {
       "output_type": "stream",
       "stream": "stdout",
       "text": [
        "Solver Hybridization Expansion has ended.\n"
       ]
      },
      {
       "output_type": "stream",
       "stream": "stdout",
       "text": [
        "\n",
        "\n",
        "Iteration = 4 / 20\n",
        "\n",
        "------------------------------------------------\n",
        "\n"
       ]
      },
      {
       "output_type": "stream",
       "stream": "stdout",
       "text": [
        "Hamiltonian with Eps0 term  : \n"
       ]
      },
      {
       "output_type": "stream",
       "stream": "stdout",
       "text": [
        " 4.0 C^(up,1)C(up,1)C^(down,1)C(down,1) - 2.0 C^(up,1)C(up,1) - 2.0 C^(down,1)C(down,1) \n"
       ]
      },
      {
       "output_type": "stream",
       "stream": "stdout",
       "text": [
        "Inv Fourier done\n"
       ]
      },
      {
       "output_type": "stream",
       "stream": "stdout",
       "text": [
        "Solver Hybridization Expansion has ended.\n"
       ]
      },
      {
       "output_type": "stream",
       "stream": "stdout",
       "text": [
        "\n",
        "\n",
        "Iteration = 5 / 20\n",
        "\n",
        "------------------------------------------------\n",
        "\n"
       ]
      },
      {
       "output_type": "stream",
       "stream": "stdout",
       "text": [
        "Hamiltonian with Eps0 term  : \n"
       ]
      },
      {
       "output_type": "stream",
       "stream": "stdout",
       "text": [
        " 4.0 C^(up,1)C(up,1)C^(down,1)C(down,1) - 2.0 C^(up,1)C(up,1) - 2.0 C^(down,1)C(down,1) \n"
       ]
      },
      {
       "output_type": "stream",
       "stream": "stdout",
       "text": [
        "Inv Fourier done\n"
       ]
      },
      {
       "output_type": "stream",
       "stream": "stdout",
       "text": [
        "Solver Hybridization Expansion has ended.\n"
       ]
      },
      {
       "output_type": "stream",
       "stream": "stdout",
       "text": [
        "\n",
        "\n",
        "Iteration = 6 / 20\n",
        "\n",
        "------------------------------------------------\n",
        "\n"
       ]
      },
      {
       "output_type": "stream",
       "stream": "stdout",
       "text": [
        "Hamiltonian with Eps0 term  : \n"
       ]
      },
      {
       "output_type": "stream",
       "stream": "stdout",
       "text": [
        " 4.0 C^(up,1)C(up,1)C^(down,1)C(down,1) - 2.0 C^(up,1)C(up,1) - 2.0 C^(down,1)C(down,1) \n"
       ]
      },
      {
       "output_type": "stream",
       "stream": "stdout",
       "text": [
        "Inv Fourier done\n"
       ]
      },
      {
       "output_type": "stream",
       "stream": "stdout",
       "text": [
        "Solver Hybridization Expansion has ended.\n"
       ]
      },
      {
       "output_type": "stream",
       "stream": "stdout",
       "text": [
        "\n",
        "\n",
        "Iteration = 7 / 20\n",
        "\n",
        "------------------------------------------------\n",
        "\n"
       ]
      },
      {
       "output_type": "stream",
       "stream": "stdout",
       "text": [
        "Hamiltonian with Eps0 term  : \n"
       ]
      },
      {
       "output_type": "stream",
       "stream": "stdout",
       "text": [
        " 4.0 C^(up,1)C(up,1)C^(down,1)C(down,1) - 2.0 C^(up,1)C(up,1) - 2.0 C^(down,1)C(down,1) \n"
       ]
      },
      {
       "output_type": "stream",
       "stream": "stdout",
       "text": [
        "Inv Fourier done\n"
       ]
      },
      {
       "output_type": "stream",
       "stream": "stdout",
       "text": [
        "Solver Hybridization Expansion has ended.\n"
       ]
      },
      {
       "output_type": "stream",
       "stream": "stdout",
       "text": [
        "\n",
        "\n",
        "Iteration = 8 / 20\n",
        "\n",
        "------------------------------------------------\n",
        "\n"
       ]
      },
      {
       "output_type": "stream",
       "stream": "stdout",
       "text": [
        "Hamiltonian with Eps0 term  : \n"
       ]
      },
      {
       "output_type": "stream",
       "stream": "stdout",
       "text": [
        " 4.0 C^(up,1)C(up,1)C^(down,1)C(down,1) - 2.0 C^(up,1)C(up,1) - 2.0 C^(down,1)C(down,1) \n"
       ]
      },
      {
       "output_type": "stream",
       "stream": "stdout",
       "text": [
        "Inv Fourier done\n"
       ]
      },
      {
       "output_type": "stream",
       "stream": "stdout",
       "text": [
        "Solver Hybridization Expansion has ended.\n"
       ]
      },
      {
       "output_type": "stream",
       "stream": "stdout",
       "text": [
        "\n",
        "\n",
        "Iteration = 9 / 20\n",
        "\n",
        "------------------------------------------------\n",
        "\n"
       ]
      },
      {
       "output_type": "stream",
       "stream": "stdout",
       "text": [
        "Hamiltonian with Eps0 term  : \n"
       ]
      },
      {
       "output_type": "stream",
       "stream": "stdout",
       "text": [
        " 4.0 C^(up,1)C(up,1)C^(down,1)C(down,1) - 2.0 C^(up,1)C(up,1) - 2.0 C^(down,1)C(down,1) \n"
       ]
      },
      {
       "output_type": "stream",
       "stream": "stdout",
       "text": [
        "Inv Fourier done\n"
       ]
      },
      {
       "output_type": "stream",
       "stream": "stdout",
       "text": [
        "Solver Hybridization Expansion has ended.\n"
       ]
      },
      {
       "output_type": "stream",
       "stream": "stdout",
       "text": [
        "\n",
        "\n",
        "Iteration = 10 / 20\n",
        "\n",
        "------------------------------------------------\n",
        "\n"
       ]
      },
      {
       "output_type": "stream",
       "stream": "stdout",
       "text": [
        "Hamiltonian with Eps0 term  : \n"
       ]
      },
      {
       "output_type": "stream",
       "stream": "stdout",
       "text": [
        " 4.0 C^(up,1)C(up,1)C^(down,1)C(down,1) - 2.0 C^(up,1)C(up,1) - 2.0 C^(down,1)C(down,1) \n"
       ]
      },
      {
       "output_type": "stream",
       "stream": "stdout",
       "text": [
        "Inv Fourier done\n"
       ]
      },
      {
       "output_type": "stream",
       "stream": "stdout",
       "text": [
        "Solver Hybridization Expansion has ended.\n"
       ]
      },
      {
       "output_type": "stream",
       "stream": "stdout",
       "text": [
        "\n",
        "\n",
        "Iteration = 11 / 20\n",
        "\n",
        "------------------------------------------------\n",
        "\n"
       ]
      },
      {
       "output_type": "stream",
       "stream": "stdout",
       "text": [
        "Hamiltonian with Eps0 term  : \n"
       ]
      },
      {
       "output_type": "stream",
       "stream": "stdout",
       "text": [
        " 4.0 C^(up,1)C(up,1)C^(down,1)C(down,1) - 2.0 C^(up,1)C(up,1) - 2.0 C^(down,1)C(down,1) \n"
       ]
      },
      {
       "output_type": "stream",
       "stream": "stdout",
       "text": [
        "Inv Fourier done\n"
       ]
      },
      {
       "output_type": "stream",
       "stream": "stdout",
       "text": [
        "Solver Hybridization Expansion has ended.\n"
       ]
      },
      {
       "output_type": "stream",
       "stream": "stdout",
       "text": [
        "\n",
        "\n",
        "Iteration = 12 / 20\n",
        "\n",
        "------------------------------------------------\n",
        "\n"
       ]
      },
      {
       "output_type": "stream",
       "stream": "stdout",
       "text": [
        "Hamiltonian with Eps0 term  : \n"
       ]
      },
      {
       "output_type": "stream",
       "stream": "stdout",
       "text": [
        " 4.0 C^(up,1)C(up,1)C^(down,1)C(down,1) - 2.0 C^(up,1)C(up,1) - 2.0 C^(down,1)C(down,1) \n"
       ]
      },
      {
       "output_type": "stream",
       "stream": "stdout",
       "text": [
        "Inv Fourier done\n"
       ]
      },
      {
       "output_type": "stream",
       "stream": "stdout",
       "text": [
        "Solver Hybridization Expansion has ended.\n"
       ]
      },
      {
       "output_type": "stream",
       "stream": "stdout",
       "text": [
        "\n",
        "\n",
        "Iteration = 13 / 20\n",
        "\n",
        "------------------------------------------------\n",
        "\n"
       ]
      },
      {
       "output_type": "stream",
       "stream": "stdout",
       "text": [
        "Hamiltonian with Eps0 term  : \n"
       ]
      },
      {
       "output_type": "stream",
       "stream": "stdout",
       "text": [
        " 4.0 C^(up,1)C(up,1)C^(down,1)C(down,1) - 2.0 C^(up,1)C(up,1) - 2.0 C^(down,1)C(down,1) \n"
       ]
      },
      {
       "output_type": "stream",
       "stream": "stdout",
       "text": [
        "Inv Fourier done\n"
       ]
      },
      {
       "output_type": "stream",
       "stream": "stdout",
       "text": [
        "Solver Hybridization Expansion has ended.\n"
       ]
      },
      {
       "output_type": "stream",
       "stream": "stdout",
       "text": [
        "\n",
        "\n",
        "Iteration = 14 / 20\n",
        "\n",
        "------------------------------------------------\n",
        "\n"
       ]
      },
      {
       "output_type": "stream",
       "stream": "stdout",
       "text": [
        "Hamiltonian with Eps0 term  : \n"
       ]
      },
      {
       "output_type": "stream",
       "stream": "stdout",
       "text": [
        " 4.0 C^(up,1)C(up,1)C^(down,1)C(down,1) - 2.0 C^(up,1)C(up,1) - 2.0 C^(down,1)C(down,1) \n"
       ]
      },
      {
       "output_type": "stream",
       "stream": "stdout",
       "text": [
        "Inv Fourier done\n"
       ]
      },
      {
       "output_type": "stream",
       "stream": "stdout",
       "text": [
        "Solver Hybridization Expansion has ended.\n"
       ]
      },
      {
       "output_type": "stream",
       "stream": "stdout",
       "text": [
        "\n",
        "\n",
        "Iteration = 15 / 20\n",
        "\n",
        "------------------------------------------------\n",
        "\n"
       ]
      },
      {
       "output_type": "stream",
       "stream": "stdout",
       "text": [
        "Hamiltonian with Eps0 term  : \n"
       ]
      },
      {
       "output_type": "stream",
       "stream": "stdout",
       "text": [
        " 4.0 C^(up,1)C(up,1)C^(down,1)C(down,1) - 2.0 C^(up,1)C(up,1) - 2.0 C^(down,1)C(down,1) \n"
       ]
      },
      {
       "output_type": "stream",
       "stream": "stdout",
       "text": [
        "Inv Fourier done\n"
       ]
      },
      {
       "output_type": "stream",
       "stream": "stdout",
       "text": [
        "Solver Hybridization Expansion has ended.\n"
       ]
      },
      {
       "output_type": "stream",
       "stream": "stdout",
       "text": [
        "\n",
        "\n",
        "Iteration = 16 / 20\n",
        "\n",
        "------------------------------------------------\n",
        "\n"
       ]
      },
      {
       "output_type": "stream",
       "stream": "stdout",
       "text": [
        "Hamiltonian with Eps0 term  : \n"
       ]
      },
      {
       "output_type": "stream",
       "stream": "stdout",
       "text": [
        " 4.0 C^(up,1)C(up,1)C^(down,1)C(down,1) - 2.0 C^(up,1)C(up,1) - 2.0 C^(down,1)C(down,1) \n"
       ]
      },
      {
       "output_type": "stream",
       "stream": "stdout",
       "text": [
        "Inv Fourier done\n"
       ]
      },
      {
       "output_type": "stream",
       "stream": "stdout",
       "text": [
        "Solver Hybridization Expansion has ended.\n"
       ]
      },
      {
       "output_type": "stream",
       "stream": "stdout",
       "text": [
        "\n",
        "\n",
        "Iteration = 17 / 20\n",
        "\n",
        "------------------------------------------------\n",
        "\n"
       ]
      },
      {
       "output_type": "stream",
       "stream": "stdout",
       "text": [
        "Hamiltonian with Eps0 term  : \n"
       ]
      },
      {
       "output_type": "stream",
       "stream": "stdout",
       "text": [
        " 4.0 C^(up,1)C(up,1)C^(down,1)C(down,1) - 2.0 C^(up,1)C(up,1) - 2.0 C^(down,1)C(down,1) \n"
       ]
      },
      {
       "output_type": "stream",
       "stream": "stdout",
       "text": [
        "Inv Fourier done\n"
       ]
      },
      {
       "output_type": "stream",
       "stream": "stdout",
       "text": [
        "Solver Hybridization Expansion has ended.\n"
       ]
      },
      {
       "output_type": "stream",
       "stream": "stdout",
       "text": [
        "\n",
        "\n",
        "Iteration = 18 / 20\n",
        "\n",
        "------------------------------------------------\n",
        "\n"
       ]
      },
      {
       "output_type": "stream",
       "stream": "stdout",
       "text": [
        "Hamiltonian with Eps0 term  : \n"
       ]
      },
      {
       "output_type": "stream",
       "stream": "stdout",
       "text": [
        " 4.0 C^(up,1)C(up,1)C^(down,1)C(down,1) - 2.0 C^(up,1)C(up,1) - 2.0 C^(down,1)C(down,1) \n"
       ]
      },
      {
       "output_type": "stream",
       "stream": "stdout",
       "text": [
        "Inv Fourier done\n"
       ]
      },
      {
       "output_type": "stream",
       "stream": "stdout",
       "text": [
        "Solver Hybridization Expansion has ended.\n"
       ]
      },
      {
       "output_type": "stream",
       "stream": "stdout",
       "text": [
        "\n",
        "\n",
        "Iteration = 19 / 20\n",
        "\n",
        "------------------------------------------------\n",
        "\n"
       ]
      },
      {
       "output_type": "stream",
       "stream": "stdout",
       "text": [
        "Hamiltonian with Eps0 term  : \n"
       ]
      },
      {
       "output_type": "stream",
       "stream": "stdout",
       "text": [
        " 4.0 C^(up,1)C(up,1)C^(down,1)C(down,1) - 2.0 C^(up,1)C(up,1) - 2.0 C^(down,1)C(down,1) \n"
       ]
      },
      {
       "output_type": "stream",
       "stream": "stdout",
       "text": [
        "Inv Fourier done\n"
       ]
      },
      {
       "output_type": "stream",
       "stream": "stdout",
       "text": [
        "Solver Hybridization Expansion has ended.\n"
       ]
      },
      {
       "output_type": "stream",
       "stream": "stdout",
       "text": [
        "\n",
        "\n",
        "Iteration = 20 / 20\n",
        "\n",
        "------------------------------------------------\n",
        "\n"
       ]
      },
      {
       "output_type": "stream",
       "stream": "stdout",
       "text": [
        "Hamiltonian with Eps0 term  : \n"
       ]
      },
      {
       "output_type": "stream",
       "stream": "stdout",
       "text": [
        " 4.0 C^(up,1)C(up,1)C^(down,1)C(down,1) - 2.0 C^(up,1)C(up,1) - 2.0 C^(down,1)C(down,1) \n"
       ]
      },
      {
       "output_type": "stream",
       "stream": "stdout",
       "text": [
        "Inv Fourier done\n"
       ]
      },
      {
       "output_type": "stream",
       "stream": "stdout",
       "text": [
        "Solver Hybridization Expansion has ended.\n"
       ]
      }
     ],
     "prompt_number": 2
    },
    {
     "cell_type": "markdown",
     "metadata": {},
     "source": [
      "Checking the Matsubara-frequency results\n",
      "----------------------------------------\n",
      "\n",
      "The result of the calculation is the impurity Green's function in\n",
      "Matsubara frequencies! It is saved in\n",
      "<pre>S.G and S.Sigma</pre>\n",
      "We can plot them and see how good the statistics is."
     ]
    },
    {
     "cell_type": "code",
     "collapsed": false,
     "input": [
      "from pytriqs.Base.Plot.MatplotlibInterface import *\n",
      "oplot(Sav)\n",
      "plt.xlim(0,20)"
     ],
     "language": "python",
     "metadata": {},
     "outputs": [
      {
       "output_type": "pyout",
       "prompt_number": 3,
       "text": [
        "(0, 20)"
       ]
      },
      {
       "output_type": "display_data",
       "png": "[encoded data removed]"
      }
     ],
     "prompt_number": 3
    },
    {
     "cell_type": "markdown",
     "metadata": {},
     "source": [
      "Pade continuation of the data\n",
      "-----------------------------\n",
      "\n",
      "Below we do a Pade on the self-energy and then use this self-energy to\n",
      "recompute the Green's function on the real axis."
     ]
    },
    {
     "cell_type": "code",
     "collapsed": false,
     "input": [
      "from pytriqs.Base.DOS import *\n",
      "\n",
      "s_real = GFBloc_ReFreq(Indices = [0], Beta = beta, MeshArray = arange(-4.95,5.0,0.1))\n",
      "g_real = GFBloc_ReFreq(Indices = [0], Beta = beta, MeshArray = arange(-4.95,5.0,0.1))\n",
      "\n",
      "d = DOS.DOS_from_function(lambda x: sqrt(4*t**2-x**2)/(pi*2*t**2), -2*t, 2*t)\n",
      "HT = Hilbert_Transform.Hilbert_Transform(d)\n",
      "\n",
      "for i in range(10):\n",
      "    NL = (i+10)*10\n",
      "    s_real.setFromPadeOf(Sav['up'], N_Matsubara_Frequencies = NL, Freq_Offset = 0.0)\n",
      "    g_real <<= HT(Sigma = s_real, mu=U/2.0)\n",
      "    oplot(g_real, RI='S', label = 'N = %i' % NL)\n",
      "    \n",
      "plt.ylim(0,0.35)"
     ],
     "language": "python",
     "metadata": {},
     "outputs": [
      {
       "output_type": "pyout",
       "prompt_number": 4,
       "text": [
        "(0, 0.35)"
       ]
      },
      {
       "output_type": "display_data",
       "png": "[encoded data removed]"
      }
     ],
     "prompt_number": 4
    }
   ],
   "metadata": {}
  }
 ]
}