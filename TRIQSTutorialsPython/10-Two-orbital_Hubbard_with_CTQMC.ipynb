{
 "cells": [
  {
   "cell_type": "markdown",
   "metadata": {},
   "source": [
    "Two-orbital Hubbard model\n",
    "=========================\n",
    "\n",
    "You will generalize the previous study to a two-orbital problem.\n",
    "We will still focus on a Bethe lattice so that the DMFT self-consistency is simple. For the interaction\n",
    "Hamiltonian, we will consider the Hubbard-Kanamori model for two bands. The Hamiltonian consists of density-density, spin-flip and pair-hopping terms:\n",
    "\n",
    "$$\n",
    "  H_{HK} =          U \\sum_{i} n_{i \\uparrow} n_{i \\downarrow}\n",
    "             + (U-2J) \\sum_{i \\neq i'} n_{i \\uparrow} n_{i' \\downarrow}\n",
    "             + (U-3J) \\sum_{i < i', \\sigma} n_{i \\sigma} n_{i' \\sigma} \n",
    "             - J \\sum_{i \\neq i'} a^\\dagger_{i \\uparrow} a_{i \\downarrow} a^\\dagger_{i' \\downarrow} a_{i' \\uparrow}\n",
    "             + J \\sum_{i \\neq i'} a^\\dagger_{i \\uparrow} a^\\dagger_{i \\downarrow} a_{i' \\downarrow} a_{i' \\uparrow},\n",
    "$$\n",
    "\n",
    "For this problem, the DMFT self-consistency still reads\n",
    "\n",
    "$$\n",
    "G_{0 i \\sigma}^{-1} (i\\omega_n) = i\\omega_n + \\mu - t^2 G_{i \\sigma} (i\\omega_n)\n",
    "$$\n",
    "\n",
    "Note that the Green's functions are diagonal in spin and orbital indices.\n",
    "\n"
   ]
  },
  {
   "cell_type": "markdown",
   "metadata": {},
   "source": [
    "Exercise 1\n",
    "----------\n",
    "\n",
    "Modify the script for the single-band Hubbard model to work here. We will be interested in the half- and quarter-filled cases, for which the respective chemical potentials are:\n",
    "\n",
    "$\\mu_{\\rm half} = 0.5 U + 0.5 (U-2J) + 0.5 (U-3J)$\n",
    "\n",
    "$\\mu_{\\rm quarter} = -0.81 + (0.6899 - 1.1099 \\, J/U) U + (-0.02548 + 0.02709 \\, J/U -0.1606 \\, (J/U)^2) U^2$"
   ]
  },
  {
   "cell_type": "markdown",
   "metadata": {},
   "source": [
    "If you are stuck or short on time, take a sneak peek at the solution below. \n",
    "Note that there is a variable `filling` that can be set either to `half` or to \n",
    "`quarter` and that defines the filling of the problem. \n",
    "\n",
    "**Warning**: don't run the script, the calculations are quite long! It is just here for illustration purposes."
   ]
  },
  {
   "cell_type": "code",
   "execution_count": null,
   "metadata": {
    "collapsed": true
   },
   "outputs": [],
   "source": [
    "%load run_two_bands.py"
   ]
  },
  {
   "cell_type": "markdown",
   "metadata": {},
   "source": [
    "For the following exercises, the calculations have already been performed for you, and the data is stored in the `results_two_bands` folder, see below. Use this data to perform the analysis below. Again, **do not run the script** on your machine! "
   ]
  },
  {
   "cell_type": "code",
   "execution_count": null,
   "metadata": {
    "collapsed": true
   },
   "outputs": [],
   "source": [
    "!ls results_two_bands/"
   ]
  },
  {
   "cell_type": "markdown",
   "metadata": {},
   "source": [
    "Exercise 2\n",
    "----------\n",
    "\n",
    "Start by studying the problem at half-filling. By varying $U$ find the critical $U_c$ for the Mott transition for different values of $J$. How does $U_c$ change with $J$? Hint: take the following values for $J/U = 0.0, 0.1, 0.2$ and values of $U/t$ between 1 and 12."
   ]
  },
  {
   "cell_type": "markdown",
   "metadata": {},
   "source": [
    "Exercise 3\n",
    "----------\n",
    "\n",
    "Do the same study as in Exercise 1, but at quarter-filling. How does $U_c$ change with $J$? Take again values of $J/U = 0.0, 0.1, 0.2$ and values of $U/t$ between 1 and 12."
   ]
  }
 ],
 "metadata": {
  "kernelspec": {
   "display_name": "Python 2",
   "language": "python",
   "name": "python2"
  },
  "language_info": {
   "codemirror_mode": {
    "name": "ipython",
    "version": 2
   },
   "file_extension": ".py",
   "mimetype": "text/x-python",
   "name": "python",
   "nbconvert_exporter": "python",
   "pygments_lexer": "ipython2",
   "version": "2.7.13"
  },
  "latex_envs": {
   "LaTeX_envs_menu_present": true,
   "autocomplete": true,
   "bibliofile": "biblio.bib",
   "cite_by": "apalike",
   "current_citInitial": 1,
   "eqLabelWithNumbers": true,
   "eqNumInitial": 1,
   "hotkeys": {
    "equation": "Ctrl-E",
    "itemize": "Ctrl-I"
   },
   "labels_anchors": false,
   "latex_user_defs": false,
   "report_style_numbering": false,
   "user_envs_cfg": false
  },
  "widgets": {
   "state": {},
   "version": "1.1.1"
  }
 },
 "nbformat": 4,
 "nbformat_minor": 1
}
