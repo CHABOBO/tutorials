{
 "cells": [
  {
   "cell_type": "code",
   "execution_count": 4,
   "metadata": {
    "collapsed": true,
    "deletable": true,
    "editable": true,
    "run_control": {
     "frozen": false,
     "read_only": false
    }
   },
   "outputs": [],
   "source": [
    "%matplotlib inline\n",
    "import numpy as np\n",
    "from pytriqs.gf import *\n",
    "from pytriqs.archive import *\n",
    "from pytriqs.plot.mpl_interface import plt,oplot\n",
    "import matplotlib as mpl\n",
    "mpl.rcParams['savefig.dpi']=100 "
   ]
  },
  {
   "cell_type": "markdown",
   "metadata": {
    "deletable": true,
    "editable": true,
    "run_control": {
     "frozen": false,
     "read_only": false
    }
   },
   "source": [
    "Solution of the exercises\n",
    "========================="
   ]
  },
  {
   "cell_type": "markdown",
   "metadata": {
    "deletable": true,
    "editable": true,
    "run_control": {
     "frozen": false,
     "read_only": false
    }
   },
   "source": [
    "Solution of exercise 1\n",
    "----------------------\n",
    "\n",
    "The solution of this exercise is in the script called `run_single_band.py` in the tutorial directory. View it by executing the command below. "
   ]
  },
  {
   "cell_type": "code",
   "execution_count": null,
   "metadata": {
    "collapsed": false,
    "deletable": true,
    "editable": true,
    "run_control": {
     "frozen": false,
     "read_only": false
    }
   },
   "outputs": [],
   "source": [
    "# %load run_single_band.py\n",
    "from pytriqs.gf import *\n",
    "from pytriqs.operators import *\n",
    "from pytriqs.archive import *\n",
    "from pytriqs.applications.impurity_solvers.cthyb import Solver\n",
    "import numpy as np\n",
    "\n",
    "import os\n",
    "if not os.path.exists('results_one_band'):\n",
    "    os.makedirs('results_one_band')\n",
    "\n",
    "# Parameters of the model\n",
    "t = 1.0\n",
    "beta = 10.0\n",
    "n_loops = 10\n",
    "\n",
    "# Construct the impurity solver\n",
    "S = Solver(beta = beta, gf_struct = {'up':[0], 'down':[0]})\n",
    "\n",
    "# I run for several values of U\n",
    "for U in np.arange(1.0, 13.0):\n",
    "    print 'U =', U\n",
    "\n",
    "    # This is a first guess for G\n",
    "    S.G_iw << SemiCircular(2*t)\n",
    "\n",
    "    # DMFT loop with self-consistency\n",
    "    for i in range(n_loops):\n",
    "    \n",
    "        print \"\\n\\nIteration = %i / %i\" % (i+1, n_loops)\n",
    "    \n",
    "        # Symmetrize the Green's function and use self-consistency\n",
    "        g = 0.5 * ( S.G_iw['up'] + S.G_iw['down'] )\n",
    "        for name, g0 in S.G0_iw:\n",
    "            g0 << inverse( iOmega_n + U/2.0 - t**2 * g )\n",
    "\n",
    "        # Solve the impurity problem\n",
    "        S.solve(h_int = U * n('up',0) * n('down',0),   # Local Hamiltonian \n",
    "            n_cycles  = 10000,                           # Number of QMC cycles\n",
    "            n_warmup_cycles = 5000,                      # Warmup cycles\n",
    "            )\n",
    "    \n",
    "        # Save iteration in archive\n",
    "        with HDFArchive(\"results_one_band/half-U%.2f.h5\"%U) as A:\n",
    "            A['G-%i'%i] = S.G_iw\n",
    "            A['Sigma-%i'%i] = S.Sigma_iw\n"
   ]
  },
  {
   "cell_type": "markdown",
   "metadata": {
    "deletable": true,
    "editable": true,
    "run_control": {
     "frozen": false,
     "read_only": false
    }
   },
   "source": [
    "The script saves the Green's functions and self-energies in archives in the subdirectory called `results`. They will be used for the analysis below. We study several values of $U$ to see how the Green's functions will change. Note that these runs takes a bit of time!\n",
    "\n",
    "You can\n",
    "\n",
    "- run this directly from the shell to see the Monte Carlo progress or \n",
    "- run the command below."
   ]
  },
  {
   "cell_type": "code",
   "execution_count": 2,
   "metadata": {
    "collapsed": false,
    "deletable": true,
    "editable": true,
    "run_control": {
     "frozen": false,
     "read_only": false
    }
   },
   "outputs": [
    {
     "name": "stderr",
     "output_type": "stream",
     "text": [
      "Starting on 1 Nodes at : 2017-08-22 11:54:07.468199\n"
     ]
    },
    {
     "name": "stdout",
     "output_type": "stream",
     "text": [
      "U = 1.0\n",
      "\n",
      "\n",
      "Iteration = 1 / 10\n",
      "\n",
      "\n",
      "Iteration = 2 / 10\n",
      "\n",
      "\n",
      "Iteration = 3 / 10\n",
      "\n",
      "\n",
      "Iteration = 4 / 10\n",
      "\n",
      "\n",
      "Iteration = 5 / 10\n",
      "\n",
      "\n",
      "Iteration = 6 / 10\n",
      "\n",
      "\n",
      "Iteration = 7 / 10\n",
      "\n",
      "\n",
      "Iteration = 8 / 10\n",
      "\n",
      "\n",
      "Iteration = 9 / 10\n",
      "\n",
      "\n",
      "Iteration = 10 / 10\n",
      "U = 2.0\n",
      "\n",
      "\n",
      "Iteration = 1 / 10\n",
      "\n",
      "\n",
      "Iteration = 2 / 10\n",
      "\n",
      "\n",
      "Iteration = 3 / 10\n",
      "\n",
      "\n",
      "Iteration = 4 / 10\n",
      "\n",
      "\n",
      "Iteration = 5 / 10\n",
      "\n",
      "\n",
      "Iteration = 6 / 10\n",
      "\n",
      "\n",
      "Iteration = 7 / 10\n",
      "\n",
      "\n",
      "Iteration = 8 / 10\n",
      "\n",
      "\n",
      "Iteration = 9 / 10\n",
      "\n",
      "\n",
      "Iteration = 10 / 10\n",
      "U = 3.0\n",
      "\n",
      "\n",
      "Iteration = 1 / 10\n",
      "\n",
      "\n",
      "Iteration = 2 / 10\n",
      "\n",
      "\n",
      "Iteration = 3 / 10\n",
      "\n",
      "\n",
      "Iteration = 4 / 10\n",
      "\n",
      "\n",
      "Iteration = 5 / 10\n",
      "\n",
      "\n",
      "Iteration = 6 / 10\n",
      "\n",
      "\n",
      "Iteration = 7 / 10\n",
      "\n",
      "\n",
      "Iteration = 8 / 10\n",
      "\n",
      "\n",
      "Iteration = 9 / 10\n",
      "\n",
      "\n",
      "Iteration = 10 / 10\n",
      "U = 4.0\n",
      "\n",
      "\n",
      "Iteration = 1 / 10\n",
      "\n",
      "\n",
      "Iteration = 2 / 10\n",
      "\n",
      "\n",
      "Iteration = 3 / 10\n",
      "\n",
      "\n",
      "Iteration = 4 / 10\n",
      "\n",
      "\n",
      "Iteration = 5 / 10\n",
      "\n",
      "\n",
      "Iteration = 6 / 10\n",
      "\n",
      "\n",
      "Iteration = 7 / 10\n",
      "\n",
      "\n",
      "Iteration = 8 / 10\n",
      "\n",
      "\n",
      "Iteration = 9 / 10\n",
      "\n",
      "\n",
      "Iteration = 10 / 10\n",
      "U = 5.0\n",
      "\n",
      "\n",
      "Iteration = 1 / 10\n",
      "\n",
      "\n",
      "Iteration = 2 / 10\n",
      "\n",
      "\n",
      "Iteration = 3 / 10\n",
      "\n",
      "\n",
      "Iteration = 4 / 10\n",
      "\n",
      "\n",
      "Iteration = 5 / 10\n",
      "\n",
      "\n",
      "Iteration = 6 / 10\n",
      "\n",
      "\n",
      "Iteration = 7 / 10\n",
      "\n",
      "\n",
      "Iteration = 8 / 10\n",
      "\n",
      "\n",
      "Iteration = 9 / 10\n",
      "\n",
      "\n",
      "Iteration = 10 / 10\n",
      "U = 6.0\n",
      "\n",
      "\n",
      "Iteration = 1 / 10\n",
      "\n",
      "\n",
      "Iteration = 2 / 10\n",
      "\n",
      "\n",
      "Iteration = 3 / 10\n",
      "\n",
      "\n",
      "Iteration = 4 / 10\n",
      "\n",
      "\n",
      "Iteration = 5 / 10\n",
      "\n",
      "\n",
      "Iteration = 6 / 10\n",
      "\n",
      "\n",
      "Iteration = 7 / 10\n",
      "\n",
      "\n",
      "Iteration = 8 / 10\n",
      "\n",
      "\n",
      "Iteration = 9 / 10\n",
      "\n",
      "\n",
      "Iteration = 10 / 10\n",
      "U = 7.0\n",
      "\n",
      "\n",
      "Iteration = 1 / 10\n",
      "\n",
      "\n",
      "Iteration = 2 / 10\n",
      "\n",
      "\n",
      "Iteration = 3 / 10\n",
      "\n",
      "\n",
      "Iteration = 4 / 10\n",
      "\n",
      "\n",
      "Iteration = 5 / 10\n",
      "\n",
      "\n",
      "Iteration = 6 / 10\n",
      "\n",
      "\n",
      "Iteration = 7 / 10\n",
      "\n",
      "\n",
      "Iteration = 8 / 10\n",
      "\n",
      "\n",
      "Iteration = 9 / 10\n",
      "\n",
      "\n",
      "Iteration = 10 / 10\n",
      "U = 8.0\n",
      "\n",
      "\n",
      "Iteration = 1 / 10\n",
      "\n",
      "\n",
      "Iteration = 2 / 10\n",
      "\n",
      "\n",
      "Iteration = 3 / 10\n",
      "\n",
      "\n",
      "Iteration = 4 / 10\n",
      "\n",
      "\n",
      "Iteration = 5 / 10\n",
      "\n",
      "\n",
      "Iteration = 6 / 10\n",
      "\n",
      "\n",
      "Iteration = 7 / 10\n",
      "\n",
      "\n",
      "Iteration = 8 / 10\n",
      "\n",
      "\n",
      "Iteration = 9 / 10\n",
      "\n",
      "\n",
      "Iteration = 10 / 10\n",
      "U = 9.0\n",
      "\n",
      "\n",
      "Iteration = 1 / 10\n",
      "\n",
      "\n",
      "Iteration = 2 / 10\n",
      "\n",
      "\n",
      "Iteration = 3 / 10\n",
      "\n",
      "\n",
      "Iteration = 4 / 10\n",
      "\n",
      "\n",
      "Iteration = 5 / 10\n",
      "\n",
      "\n",
      "Iteration = 6 / 10\n",
      "\n",
      "\n",
      "Iteration = 7 / 10\n",
      "\n",
      "\n",
      "Iteration = 8 / 10\n",
      "\n",
      "\n",
      "Iteration = 9 / 10\n",
      "\n",
      "\n",
      "Iteration = 10 / 10\n",
      "U = 10.0\n",
      "\n",
      "\n",
      "Iteration = 1 / 10\n",
      "\n",
      "\n",
      "Iteration = 2 / 10\n",
      "\n",
      "\n",
      "Iteration = 3 / 10\n",
      "\n",
      "\n",
      "Iteration = 4 / 10\n",
      "\n",
      "\n",
      "Iteration = 5 / 10\n",
      "\n",
      "\n",
      "Iteration = 6 / 10\n",
      "\n",
      "\n",
      "Iteration = 7 / 10\n",
      "\n",
      "\n",
      "Iteration = 8 / 10\n",
      "\n",
      "\n",
      "Iteration = 9 / 10\n",
      "\n",
      "\n",
      "Iteration = 10 / 10\n",
      "U = 11.0\n",
      "\n",
      "\n",
      "Iteration = 1 / 10\n",
      "\n",
      "\n",
      "Iteration = 2 / 10\n",
      "\n",
      "\n",
      "Iteration = 3 / 10\n",
      "\n",
      "\n",
      "Iteration = 4 / 10\n",
      "\n",
      "\n",
      "Iteration = 5 / 10\n",
      "\n",
      "\n",
      "Iteration = 6 / 10\n",
      "\n",
      "\n",
      "Iteration = 7 / 10\n",
      "\n",
      "\n",
      "Iteration = 8 / 10\n",
      "\n",
      "\n",
      "Iteration = 9 / 10\n",
      "\n",
      "\n",
      "Iteration = 10 / 10\n",
      "U = 12.0\n",
      "\n",
      "\n",
      "Iteration = 1 / 10\n",
      "\n",
      "\n",
      "Iteration = 2 / 10\n",
      "\n",
      "\n",
      "Iteration = 3 / 10\n",
      "\n",
      "\n",
      "Iteration = 4 / 10\n",
      "\n",
      "\n",
      "Iteration = 5 / 10\n",
      "\n",
      "\n",
      "Iteration = 6 / 10\n",
      "\n",
      "\n",
      "Iteration = 7 / 10\n",
      "\n",
      "\n",
      "Iteration = 8 / 10\n",
      "\n",
      "\n",
      "Iteration = 9 / 10\n",
      "\n",
      "\n",
      "Iteration = 10 / 10\n"
     ]
    }
   ],
   "source": [
    "%run run_single_band.py"
   ]
  },
  {
   "cell_type": "markdown",
   "metadata": {
    "deletable": true,
    "editable": true,
    "run_control": {
     "frozen": false,
     "read_only": false
    }
   },
   "source": [
    "Solution of exercise 2\n",
    "----------------------\n",
    "\n",
    "Start by reading the data from the archive and plot it."
   ]
  },
  {
   "cell_type": "code",
   "execution_count": 5,
   "metadata": {
    "collapsed": false,
    "deletable": true,
    "editable": true,
    "run_control": {
     "frozen": false,
     "read_only": false
    }
   },
   "outputs": [
    {
     "data": {
      "text/plain": [
       "(0, 10)"
      ]
     },
     "execution_count": 5,
     "metadata": {},
     "output_type": "execute_result"
    },
    {
     "data": {
      "image/png": "[encoded data removed]",
      "text/plain": [
       "<matplotlib.figure.Figure at 0x7f5a90383d10>"
      ]
     },
     "metadata": {},
     "output_type": "display_data"
    }
   ],
   "source": [
    "A1 = HDFArchive(\"results_one_band/half-U2.00.h5\", 'r')\n",
    "A2 = HDFArchive(\"results_one_band/half-U6.00.h5\", 'r')\n",
    "\n",
    "# Plot the Green's function of the last iteration\n",
    "oplot(A1['G-9']['up'], 'x', label='U = 2.0')\n",
    "oplot(A2['G-9']['down'], 'o', label='U = 6.0')\n",
    "\n",
    "plt.xlim(0,10)"
   ]
  },
  {
   "cell_type": "markdown",
   "metadata": {
    "deletable": true,
    "editable": true,
    "run_control": {
     "frozen": false,
     "read_only": false
    }
   },
   "source": [
    "As you can see, the behavior of the imaginary part is very different for the two values of $U$. When\n",
    "$U$ is small, the system is a metal and the imaginary part extrapolated to zero goes to a finite value.\n",
    "Instead, for large $U$, the system is a Mott insulator and the imaginary part goes to zero. The reason\n",
    "is that the extrapolation to zero is directly proportional to the density of states at the chemical\n",
    "potential. If the system is gapped, the density is zero; if the system is a metal, there is spectral\n",
    "weight and the density is finite. Therefore, even on the Matsubara axis, one has a way to decide if the\n",
    "system is metallic or not."
   ]
  },
  {
   "cell_type": "markdown",
   "metadata": {
    "deletable": true,
    "editable": true,
    "run_control": {
     "frozen": false,
     "read_only": false
    }
   },
   "source": [
    "Solution of exercise 3\n",
    "----------------------\n",
    "\n",
    "We now do the same for the self-energy."
   ]
  },
  {
   "cell_type": "code",
   "execution_count": 6,
   "metadata": {
    "collapsed": false,
    "deletable": true,
    "editable": true,
    "run_control": {
     "frozen": false,
     "read_only": false
    }
   },
   "outputs": [
    {
     "data": {
      "text/plain": [
       "(-30, 0)"
      ]
     },
     "execution_count": 6,
     "metadata": {},
     "output_type": "execute_result"
    },
    {
     "data": {
      "image/png": "[encoded data removed]",
      "text/plain": [
       "<matplotlib.figure.Figure at 0x7f5a90383fd0>"
      ]
     },
     "metadata": {},
     "output_type": "display_data"
    }
   ],
   "source": [
    "A1 = HDFArchive(\"results_one_band/half-U2.00.h5\", 'r')\n",
    "A2 = HDFArchive(\"results_one_band/half-U6.00.h5\", 'r')\n",
    "\n",
    "# Plot the self-energy of the last iteration\n",
    "oplot(A1['Sigma-9']['up'], 'x', mode='I', name='U = 2.0')\n",
    "oplot(A2['Sigma-9']['up'], 'o', mode='I', name='U = 6.0')\n",
    "\n",
    "plt.xlim(0,5)\n",
    "plt.ylim(-30,0)"
   ]
  },
  {
   "cell_type": "markdown",
   "metadata": {
    "deletable": true,
    "editable": true,
    "run_control": {
     "frozen": false,
     "read_only": false
    }
   },
   "source": [
    "Here the extrapolation to zero goes to zero for the metal and diverges in the insulator. In general, we expect that the\n",
    "self-energy goes to zero linearly at small frequencies in a Fermi-liquid metal. As we will see below, the slope\n",
    "tells something about the degree of correlation. In the Mott insulator, a gap open because of the development of a\n",
    "pole in the self-energy. The manifestation of this pole is a diverging imaginary part of the self-energy a low frequencies\n",
    "as is visible here."
   ]
  },
  {
   "cell_type": "markdown",
   "metadata": {
    "deletable": true,
    "editable": true,
    "run_control": {
     "frozen": false,
     "read_only": false
    }
   },
   "source": [
    "Solution of exercise 4\n",
    "----------------------\n",
    "\n",
    "We estimate the derivative using the following approximation\n",
    "\n",
    "$$\n",
    "Z = \\lim_{\\omega_n \\rightarrow 0} \\Big( 1 - \\frac{d\\mathrm{Im} \\Sigma(i\\omega_n)}{di\\omega_n} \\Big)^{-1}\n",
    "  \\sim \\Big( 1 - \\frac{\\mathrm{Im} \\Sigma(i\\omega_0)}{i\\omega_0} \\Big)^{-1}\n",
    "$$\n",
    "\n",
    "with $\\omega_0 = \\pi / \\beta$ being the first Matsubara frequency."
   ]
  },
  {
   "cell_type": "code",
   "execution_count": 7,
   "metadata": {
    "collapsed": false,
    "deletable": true,
    "editable": true,
    "run_control": {
     "frozen": false,
     "read_only": false
    }
   },
   "outputs": [
    {
     "data": {
      "text/plain": [
       "<matplotlib.text.Text at 0x7f5a87edce50>"
      ]
     },
     "execution_count": 7,
     "metadata": {},
     "output_type": "execute_result"
    },
    {
     "data": {
      "image/png": "[encoded data removed]",
      "text/plain": [
       "<matplotlib.figure.Figure at 0x7f5abc41ad90>"
      ]
     },
     "metadata": {},
     "output_type": "display_data"
    }
   ],
   "source": [
    "beta = 10\n",
    "U_list = []\n",
    "Z_list = []\n",
    "\n",
    "for U in np.arange(1.0, 9.0):\n",
    "    \n",
    "    A = HDFArchive(\"results_one_band/half-U%.2f.h5\"%U, 'r')\n",
    "    Sigma = A['Sigma-9']\n",
    "    \n",
    "    Z = 1 / (1 - (Sigma['up'](0)[0,0].imag * beta / np.pi))\n",
    "    U_list.append(U)\n",
    "    Z_list.append(Z)\n",
    "    \n",
    "plt.plot(U_list, Z_list, '-o')\n",
    "plt.xlabel('U')\n",
    "plt.ylabel('Z')"
   ]
  },
  {
   "cell_type": "markdown",
   "metadata": {
    "deletable": true,
    "editable": true,
    "run_control": {
     "frozen": false,
     "read_only": false
    }
   },
   "source": [
    "Solution of exercise 5\n",
    "----------------------\n",
    "\n",
    "This is just the same script as we had earlier. We just add a couple of lines to extract $Z$."
   ]
  },
  {
   "cell_type": "code",
   "execution_count": null,
   "metadata": {
    "collapsed": false,
    "deletable": true,
    "editable": true,
    "run_control": {
     "frozen": false,
     "read_only": false
    }
   },
   "outputs": [],
   "source": [
    "from pytriqs.gf import *\n",
    "from pytriqs.plot.mpl_interface import *\n",
    "\n",
    "class IPTSolver:\n",
    "\n",
    "    def __init__(self, beta):\n",
    "\n",
    "        self.beta = beta\n",
    "\n",
    "        # Matsubara frequency\n",
    "        self.g = GfImFreq(indices=[0], beta=beta, name='0')\n",
    "        self.g0 = self.g.copy()\n",
    "        self.sigma = self.g.copy()\n",
    "        \n",
    "        # Imaginary time\n",
    "        self.g0t = GfImTime(indices=[0], beta = self.beta, name='G0t')\n",
    "        self.sigmat = self.g0t.copy()\n",
    "        \n",
    "    def solve(self, U):\n",
    "\n",
    "        self.g0t << InverseFourier(self.g0)\n",
    "        self.sigmat << (U**2) * self.g0t * self.g0t * self.g0t\n",
    "        self.sigma << Fourier(self.sigmat)\n",
    "\n",
    "        # Dyson\n",
    "        self.g << self.g0 * inverse(1.0 - self.sigma * self.g0)\n",
    "        \n",
    "\n",
    "t = 1.0\n",
    "beta = 10\n",
    "n_loops = 10\n",
    "\n",
    "S = IPTSolver(beta = beta)\n",
    "\n",
    "U_list2 = []\n",
    "Z_list2 = []\n",
    "\n",
    "for U in np.arange(0.0, 12.0):\n",
    "    \n",
    "    S.g << SemiCircular(2*t)\n",
    "    for i in range(n_loops):\n",
    "\n",
    "        S.g0 << inverse( iOmega_n - t**2 * S.g )\n",
    "        S.solve(U = U)\n",
    "    \n",
    "\n",
    "    Z = 1 / (1 - (S.sigma(0)[0,0].imag * beta / np.pi))\n",
    "    U_list2.append(U)\n",
    "    Z_list2.append(Z)\n",
    "    \n",
    "    print Z\n",
    "    \n",
    "plt.plot(U_list2, Z_list2, '-o', label='IPT')\n",
    "plt.plot(U_list, Z_list, '-x', label='CTQMC')\n",
    "plt.xlabel('U')\n",
    "plt.ylabel('Z')\n",
    "plt.legend()"
   ]
  },
  {
   "cell_type": "markdown",
   "metadata": {
    "deletable": true,
    "editable": true,
    "run_control": {
     "frozen": false,
     "read_only": false
    }
   },
   "source": [
    "Solution of exercise 6\n",
    "----------------------\n"
   ]
  },
  {
   "cell_type": "code",
   "execution_count": null,
   "metadata": {
    "collapsed": false,
    "deletable": true,
    "editable": true,
    "run_control": {
     "frozen": false,
     "read_only": false
    }
   },
   "outputs": [],
   "source": [
    "with HDFArchive(\"results_one_band/half-U4.00.h5\", 'r') as A:\n",
    "    g = A['G-9']['up']\n",
    "\n",
    "g_real = GfReFreq(indices=[0], window=[-5,5])\n",
    "g_real.set_from_pade(g)\n",
    "oplot(g_real, mode='S')"
   ]
  },
  {
   "cell_type": "markdown",
   "metadata": {
    "deletable": true,
    "editable": true,
    "run_control": {
     "frozen": false,
     "read_only": false
    }
   },
   "source": [
    "The result is completely wrong. This is because of the noise in the Monte Carlo data. One would have to make much longer runs in order to reduce the error bars. The Pade approximation can be used only on very accurate data. When the noise is still quite large, one has to use different analytical continuation methods, like MaxEnt, which produces the following spectral function:\n",
    "\n",
    "<img src=\"files/maxent_Aw.png\">\n",
    "\n",
    "However, TRIQS does not provide a MaxEnt package. Regardless of which package you use for MaxEnt, it is very important to remember that there are some important knobs with which one can play in MaxEnt that can substantially change the results, and so one must be very careful in its use!"
   ]
  }
 ],
 "metadata": {
  "kernelspec": {
   "display_name": "Python 2",
   "language": "python",
   "name": "python2"
  },
  "language_info": {
   "codemirror_mode": {
    "name": "ipython",
    "version": 2
   },
   "file_extension": ".py",
   "mimetype": "text/x-python",
   "name": "python",
   "nbconvert_exporter": "python",
   "pygments_lexer": "ipython2",
   "version": "2.7.13"
  },
  "latex_envs": {
   "LaTeX_envs_menu_present": true,
   "autocomplete": true,
   "bibliofile": "biblio.bib",
   "cite_by": "apalike",
   "current_citInitial": 1,
   "eqLabelWithNumbers": true,
   "eqNumInitial": 1,
   "hotkeys": {
    "equation": "Ctrl-E",
    "itemize": "Ctrl-I"
   },
   "labels_anchors": false,
   "latex_user_defs": false,
   "report_style_numbering": false,
   "user_envs_cfg": false
  },
  "widgets": {
   "state": {},
   "version": "1.1.2"
  }
 },
 "nbformat": 4,
 "nbformat_minor": 0
}
