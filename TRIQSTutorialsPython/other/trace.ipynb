{
 "cells": [
  {
   "cell_type": "markdown",
   "metadata": {
    "deletable": true,
    "editable": true,
    "run_control": {
     "frozen": false,
     "read_only": false
    }
   },
   "source": [
    "#Trace calculation\n",
    "Compute $\\mathrm{Tr}(A+B)$ using expression templates."
   ]
  },
  {
   "cell_type": "code",
   "execution_count": 1,
   "metadata": {
    "collapsed": false,
    "deletable": true,
    "editable": true,
    "run_control": {
     "frozen": false,
     "read_only": false
    }
   },
   "outputs": [],
   "source": [
    "%reload_ext pytriqs.magic"
   ]
  },
  {
   "cell_type": "code",
   "execution_count": 2,
   "metadata": {
    "collapsed": false,
    "deletable": true,
    "editable": true,
    "run_control": {
     "frozen": false,
     "read_only": false
    }
   },
   "outputs": [
    {
     "name": "stderr",
     "output_type": "stream",
     "text": [
      "UsageError: unrecognized arguments: -u stl\n"
     ]
    }
   ],
   "source": [
    "%%triqs -u stl\n",
    "#include <chrono>\n",
    "#include <iostream>\n",
    "\n",
    "std::pair<std::vector<int>,array<double,2>> trace_time(int reps){\n",
    "\n",
    " using namespace triqs;\n",
    " using namespace triqs::arrays;\n",
    "\n",
    " std::vector<int> size;\n",
    " array<double,2> times(3,100);\n",
    "\n",
    " for(int i=0, dim=10; i<100; i++, dim+=10){\n",
    "\n",
    "  auto A = matrix<double>(dim, dim); A()=0;\n",
    "  auto B = matrix<double>(dim, dim); B()=0;\n",
    "\n",
    "  double time1=0, time2=0, time3=0;\n",
    "\n",
    "  std::chrono::system_clock::time_point start = std::chrono::system_clock::now();\n",
    "  for(int r=0; r<reps; ++r) auto tr = trace(A+B); // Uses expression template\n",
    "  std::chrono::duration<double> sec = std::chrono::system_clock::now() - start;\n",
    "  time1 += sec.count();\n",
    " \n",
    "  start = std::chrono::system_clock::now();\n",
    "  for(int r=0; r<reps; ++r) auto tr = trace(matrix<double>(A+B)); // Object oriented way\n",
    "  sec = std::chrono::system_clock::now() - start;\n",
    "  time2 += sec.count();\n",
    "\n",
    "  start = std::chrono::system_clock::now();\n",
    "  double tr;\n",
    "  for(int r=0; r<reps; ++r){\n",
    "   tr = 0.;\n",
    "   for (int ind=0; ind<dim; ind++) // Low level\n",
    "    tr += A(ind,ind)+B(ind,ind);\n",
    "  }\n",
    "  sec = std::chrono::system_clock::now() - start;\n",
    "  time3 += sec.count();\n",
    "\n",
    "  std::cerr << tr; // Reuse tr, otherwise optimizer eliminates the loop \n",
    "\n",
    "  size.push_back(dim);\n",
    "  times(0,i)=time1/reps;\n",
    "  times(1,i)=time2/reps;\n",
    "  times(2,i)=time3/reps;\n",
    " }\n",
    "\n",
    " return std::make_pair(size,times);\n",
    "\n",
    "}\n"
   ]
  },
  {
   "cell_type": "code",
   "execution_count": 3,
   "metadata": {
    "collapsed": false,
    "deletable": true,
    "editable": true,
    "run_control": {
     "frozen": false,
     "read_only": false
    }
   },
   "outputs": [
    {
     "ename": "NameError",
     "evalue": "name 'trace_time' is not defined",
     "output_type": "error",
     "traceback": [
      "\u001b[0;31m---------------------------------------------------------------------------\u001b[0m",
      "\u001b[0;31mNameError\u001b[0m                                 Traceback (most recent call last)",
      "\u001b[0;32m<ipython-input-3-2ff46b199da3>\u001b[0m in \u001b[0;36m<module>\u001b[0;34m()\u001b[0m\n\u001b[0;32m----> 1\u001b[0;31m \u001b[0ms\u001b[0m\u001b[0;34m,\u001b[0m\u001b[0mtimes\u001b[0m \u001b[0;34m=\u001b[0m \u001b[0mtrace_time\u001b[0m\u001b[0;34m(\u001b[0m\u001b[0;36m1000\u001b[0m\u001b[0;34m)\u001b[0m\u001b[0;34m\u001b[0m\u001b[0m\n\u001b[0m",
      "\u001b[0;31mNameError\u001b[0m: name 'trace_time' is not defined"
     ]
    }
   ],
   "source": [
    "s,times = trace_time(1000)"
   ]
  },
  {
   "cell_type": "code",
   "execution_count": 4,
   "metadata": {
    "collapsed": false,
    "deletable": true,
    "editable": true,
    "run_control": {
     "frozen": false,
     "read_only": false
    }
   },
   "outputs": [
    {
     "ename": "NameError",
     "evalue": "name 'figure' is not defined",
     "output_type": "error",
     "traceback": [
      "\u001b[0;31m---------------------------------------------------------------------------\u001b[0m",
      "\u001b[0;31mNameError\u001b[0m                                 Traceback (most recent call last)",
      "\u001b[0;32m<ipython-input-4-89821a8138cb>\u001b[0m in \u001b[0;36m<module>\u001b[0;34m()\u001b[0m\n\u001b[0;32m----> 1\u001b[0;31m \u001b[0mfigure\u001b[0m\u001b[0;34m(\u001b[0m\u001b[0mfigsize\u001b[0m\u001b[0;34m=\u001b[0m\u001b[0;34m(\u001b[0m\u001b[0;36m15\u001b[0m\u001b[0;34m,\u001b[0m\u001b[0;36m5\u001b[0m\u001b[0;34m)\u001b[0m\u001b[0;34m)\u001b[0m\u001b[0;34m\u001b[0m\u001b[0m\n\u001b[0m\u001b[1;32m      2\u001b[0m \u001b[0mgs\u001b[0m\u001b[0;34m=\u001b[0m\u001b[0mGridSpec\u001b[0m\u001b[0;34m(\u001b[0m\u001b[0;36m1\u001b[0m\u001b[0;34m,\u001b[0m\u001b[0;36m2\u001b[0m\u001b[0;34m)\u001b[0m\u001b[0;34m\u001b[0m\u001b[0m\n\u001b[1;32m      3\u001b[0m \u001b[0msubplot\u001b[0m\u001b[0;34m(\u001b[0m\u001b[0mgs\u001b[0m\u001b[0;34m[\u001b[0m\u001b[0;36m0\u001b[0m\u001b[0;34m]\u001b[0m\u001b[0;34m)\u001b[0m\u001b[0;34m\u001b[0m\u001b[0m\n\u001b[1;32m      4\u001b[0m \u001b[0mxlim\u001b[0m\u001b[0;34m(\u001b[0m\u001b[0;34m-\u001b[0m\u001b[0;36m0.0001\u001b[0m\u001b[0;34m,\u001b[0m\u001b[0;36m500\u001b[0m\u001b[0;34m)\u001b[0m\u001b[0;34m\u001b[0m\u001b[0m\n\u001b[1;32m      5\u001b[0m \u001b[0mylim\u001b[0m\u001b[0;34m(\u001b[0m\u001b[0;36m0\u001b[0m\u001b[0;34m,\u001b[0m\u001b[0;36m0.001\u001b[0m\u001b[0;34m)\u001b[0m\u001b[0;34m\u001b[0m\u001b[0m\n",
      "\u001b[0;31mNameError\u001b[0m: name 'figure' is not defined"
     ]
    }
   ],
   "source": [
    "figure(figsize=(15,5))\n",
    "gs=GridSpec(1,2)\n",
    "subplot(gs[0])\n",
    "xlim(-0.0001,500)\n",
    "ylim(0,0.001)\n",
    "xlabel('matrix size')\n",
    "ylabel('t (ms)')\n",
    "plot(s,times[0],label='TRIQS', lw=4.0)\n",
    "plot(s,times[1],label='matrix(A+B)', lw=2.0)\n",
    "plot(s,times[2],label='low level', lw=4.0)\n",
    "legend()\n",
    "subplot(gs[1])\n",
    "xlim(0,500)\n",
    "ylim(0,0.00001)\n",
    "xlabel('matrix size')\n",
    "ylabel('t (ms)')\n",
    "plot(s,times[0],label='TRIQS', lw=3.0)\n",
    "plot(s,times[1],label='matrix(A+B)', lw=2.0)\n",
    "plot(s,times[2],label='low level', lw=3.0)\n",
    "legend()\n",
    "savefig('trace.pdf')"
   ]
  },
  {
   "cell_type": "code",
   "execution_count": null,
   "metadata": {
    "collapsed": false,
    "deletable": true,
    "editable": true,
    "run_control": {
     "frozen": false,
     "read_only": false
    }
   },
   "outputs": [],
   "source": []
  }
 ],
 "metadata": {
  "kernelspec": {
   "display_name": "Python 2",
   "language": "python",
   "name": "python2"
  },
  "language_info": {
   "codemirror_mode": {
    "name": "ipython",
    "version": 2
   },
   "file_extension": ".py",
   "mimetype": "text/x-python",
   "name": "python",
   "nbconvert_exporter": "python",
   "pygments_lexer": "ipython2",
   "version": "2.7.13"
  },
  "latex_envs": {
   "LaTeX_envs_menu_present": true,
   "autocomplete": true,
   "bibliofile": "biblio.bib",
   "cite_by": "apalike",
   "current_citInitial": 1,
   "eqLabelWithNumbers": true,
   "eqNumInitial": 1,
   "hotkeys": {
    "equation": "Ctrl-E",
    "itemize": "Ctrl-I"
   },
   "labels_anchors": false,
   "latex_user_defs": false,
   "report_style_numbering": false,
   "user_envs_cfg": false
  }
 },
 "nbformat": 4,
 "nbformat_minor": 0
}
