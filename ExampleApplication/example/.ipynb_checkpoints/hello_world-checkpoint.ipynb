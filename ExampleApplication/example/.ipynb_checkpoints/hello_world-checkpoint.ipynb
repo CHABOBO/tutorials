{
 "metadata": {
  "name": "",
  "signature": "sha256:f1b5efb8f50205fadefdb6258de28afedea1a0d105a5c2ad80d0fbce2dd0a181"
 },
 "nbformat": 3,
 "nbformat_minor": 0,
 "worksheets": [
  {
   "cells": [
    {
     "cell_type": "code",
     "collapsed": false,
     "input": [
      "from pytriqs.applications.hello_world import *"
     ],
     "language": "python",
     "metadata": {},
     "outputs": [],
     "prompt_number": 4
    },
    {
     "cell_type": "code",
     "collapsed": false,
     "input": [
      "hello()"
     ],
     "language": "python",
     "metadata": {},
     "outputs": []
    },
    {
     "cell_type": "code",
     "collapsed": false,
     "input": [
      "type(hello())"
     ],
     "language": "python",
     "metadata": {},
     "outputs": []
    }
   ],
   "metadata": {}
  }
 ]
}