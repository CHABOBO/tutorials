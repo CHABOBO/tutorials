{
 "metadata": {
  "name": "TightBinding"
 },
 "nbformat": 3,
 "nbformat_minor": 0,
 "worksheets": [
  {
   "cells": [
    {
     "cell_type": "markdown",
     "metadata": {},
     "source": [
      "A tight-binding model on a square lattice\n",
      "=========================================\n",
      "\n",
      "The first step is to load the libraries for the tight-binding"
     ]
    },
    {
     "cell_type": "code",
     "collapsed": false,
     "input": [
      "from pytriqs.Base.Lattice.TightBinding import *"
     ],
     "language": "python",
     "metadata": {},
     "outputs": []
    },
    {
     "cell_type": "markdown",
     "metadata": {},
     "source": [
      "Then we create a Bravais lattice, generated from two vectors"
     ]
    },
    {
     "cell_type": "code",
     "collapsed": false,
     "input": [
      "BL = bravais_lattice(Units = [(1,0,0), (0,1,0)], Orbital_Positions= {\"\" :  (0,0,0)}) "
     ],
     "language": "python",
     "metadata": {},
     "outputs": []
    },
    {
     "cell_type": "markdown",
     "metadata": {},
     "source": [
      "Now, we define the hopping parameters, the displacement matrix and then construct the tight-binding model\n",
      "on the bravais lattice"
     ]
    },
    {
     "cell_type": "code",
     "collapsed": false,
     "input": [
      "t   = -1.00                # First neighbour Hopping\n",
      "tp  =  0.0*t               # Second neighbour Hopping\n",
      "\n",
      "hop= {  (1,0)  :  [[ t]],       \n",
      "        (-1,0) :  [[ t]],     \n",
      "        (0,1)  :  [[ t]],\n",
      "        (0,-1) :  [[ t]],\n",
      "        (1,1)  :  [[ tp]],\n",
      "        (-1,-1):  [[ tp]],\n",
      "        (1,-1) :  [[ tp]],\n",
      "        (-1,1) :  [[ tp]]}\n",
      "\n",
      "TB = tight_binding(BL, hop)"
     ],
     "language": "python",
     "metadata": {},
     "outputs": []
    },
    {
     "cell_type": "markdown",
     "metadata": {},
     "source": [
      "The model is defined, we can e.g. compute the density of states"
     ]
    },
    {
     "cell_type": "code",
     "collapsed": false,
     "input": [
      "density_states = dos(TB, nkpts= 500, neps = 101, Name = 'dos')[0]"
     ],
     "language": "python",
     "metadata": {},
     "outputs": []
    },
    {
     "cell_type": "markdown",
     "metadata": {},
     "source": [
      "Let's plot the density of states with matplotlib"
     ]
    },
    {
     "cell_type": "code",
     "collapsed": false,
     "input": [
      "from pytriqs.Base.Plot.MatplotlibInterface import oplot\n",
      "oplot(density_states, '-o')\n",
      "plt.xlim (-5,5)\n",
      "plt.ylim (0, 0.4)"
     ],
     "language": "python",
     "metadata": {},
     "outputs": []
    }
   ],
   "metadata": {}
  }
 ]
}