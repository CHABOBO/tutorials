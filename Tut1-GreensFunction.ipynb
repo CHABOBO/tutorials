{
 "metadata": {
  "name": "Tut1-GreensFunction"
 },
 "nbformat": 3,
 "nbformat_minor": 0,
 "worksheets": [
  {
   "cells": [
    {
     "cell_type": "markdown",
     "metadata": {},
     "source": [
      "Basic Green's function manipulations\n",
      "====================================\n",
      "\n",
      "As an example, we consider a problem of a $d$-impurity level embedded in a flat conduction bath $\\Delta$ of $s$-electrons.\n",
      "We want to construct the corresponding 2x2 Green\u2019s function:\n",
      "\n",
      "$$\n",
      "\\hat{G}^\\mathrm{s+d} (i \\omega_n) =\n",
      "\\begin{pmatrix} i\\omega_n - \\epsilon_d & V \\\\\\\\ V & \\Delta^{-1}\n",
      "\\end{pmatrix}^{-1}\n",
      "$$\n",
      "\n",
      "We first import the library that deals with Green's functions:"
     ]
    },
    {
     "cell_type": "code",
     "collapsed": false,
     "input": [
      "from pytriqs.Base.GF_Local import *"
     ],
     "language": "python",
     "metadata": {},
     "outputs": []
    },
    {
     "cell_type": "markdown",
     "metadata": {},
     "source": [
      "Now we create the real-frequency mesh where the function is defined and put values\n",
      "for $\\epsilon_d$ and $V$"
     ]
    },
    {
     "cell_type": "code",
     "collapsed": false,
     "input": [
      "a = arange(-1.99,2.00,0.02) # Define the energy array\n",
      "eps_d, V  = 0.3, 0.2"
     ],
     "language": "python",
     "metadata": {},
     "outputs": []
    },
    {
     "cell_type": "markdown",
     "metadata": {},
     "source": [
      "We now define the real-frequency Green's function as above"
     ]
    },
    {
     "cell_type": "code",
     "collapsed": false,
     "input": [
      "g = GFBloc_ReFreq(Indices = ['s','d'], Beta = 50, MeshArray = a, Name = \"s+d\")\n",
      "g['d','d'] = Omega - eps_d\n",
      "g['d','s'] = V\n",
      "g['s','d'] = V\n",
      "g['s','s'] = inverse( Wilson(1.0) )\n",
      "g.invert()"
     ],
     "language": "python",
     "metadata": {},
     "outputs": []
    },
    {
     "cell_type": "markdown",
     "metadata": {},
     "source": [
      "Let's plot the impurity and bath Green's function"
     ]
    },
    {
     "cell_type": "code",
     "collapsed": false,
     "input": [
      "from pytriqs.Base.Plot.MatplotlibInterface import oplot\n",
      "oplot( g['d','d'], '-o', RI = 'S', x_window  = (-1.8,1.8), Name = \"Impurity\" )\n",
      "oplot( g['s','s'], '-x', RI = 'S', x_window  = (-1.8,1.8), Name = \"Bath\" )"
     ],
     "language": "python",
     "metadata": {},
     "outputs": []
    }
   ],
   "metadata": {}
  }
 ]
}