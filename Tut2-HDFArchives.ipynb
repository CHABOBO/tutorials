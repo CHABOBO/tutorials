{
 "metadata": {
  "name": "Tut2-HDFArchives"
 },
 "nbformat": 3,
 "nbformat_minor": 0,
 "worksheets": [
  {
   "cells": [
    {
     "cell_type": "markdown",
     "metadata": {},
     "source": [
      "HDF5 Archives\n",
      "=============\n",
      "\n",
      "Here we will see how to save data into hdf5 files easily.\n",
      "Let us first import the relevant module:"
     ]
    },
    {
     "cell_type": "code",
     "collapsed": false,
     "input": [
      "from pytriqs.archive import *"
     ],
     "language": "python",
     "metadata": {},
     "outputs": []
    },
    {
     "cell_type": "markdown",
     "metadata": {},
     "source": [
      "Writing in an archive\n",
      "---------------------\n",
      "\n",
      "We open a new archive from scratch"
     ]
    },
    {
     "cell_type": "code",
     "collapsed": false,
     "input": [
      "A = HDFArchive(\"my_archive.h5\",'w')"
     ],
     "language": "python",
     "metadata": {},
     "outputs": []
    },
    {
     "cell_type": "markdown",
     "metadata": {},
     "source": [
      "An archive essentially behaves like a dictionary. We can\n",
      "put essentially any object in there"
     ]
    },
    {
     "cell_type": "code",
     "collapsed": false,
     "input": [
      "from pytriqs.gf.local import *\n",
      "g = GfReFreq(indices=[1], window=[-2,2], n_points=1000)\n",
      "g <<= SemiCircular(1.0)\n",
      "\n",
      "A['number'] = 12\n",
      "A['GF'] = g"
     ],
     "language": "python",
     "metadata": {},
     "outputs": []
    },
    {
     "cell_type": "markdown",
     "metadata": {},
     "source": [
      "We can look at the archive"
     ]
    },
    {
     "cell_type": "code",
     "collapsed": false,
     "input": [
      "A"
     ],
     "language": "python",
     "metadata": {},
     "outputs": []
    },
    {
     "cell_type": "markdown",
     "metadata": {},
     "source": [
      "Let's close it"
     ]
    },
    {
     "cell_type": "code",
     "collapsed": false,
     "input": [
      "del A"
     ],
     "language": "python",
     "metadata": {},
     "outputs": []
    },
    {
     "cell_type": "markdown",
     "metadata": {},
     "source": [
      "From the shell we can now see the new file and check what is\n",
      "in it"
     ]
    },
    {
     "cell_type": "code",
     "collapsed": false,
     "input": [
      "ls"
     ],
     "language": "python",
     "metadata": {},
     "outputs": []
    },
    {
     "cell_type": "code",
     "collapsed": false,
     "input": [
      "!h5ls my_archive.h5"
     ],
     "language": "python",
     "metadata": {},
     "outputs": []
    },
    {
     "cell_type": "markdown",
     "metadata": {},
     "source": [
      "Reading from an archive\n",
      "-----------------------\n",
      "\n",
      "Imagine later on we want to read from our saved archive.\n",
      "We just open it again"
     ]
    },
    {
     "cell_type": "code",
     "collapsed": false,
     "input": [
      "B = HDFArchive(\"my_archive.h5\",'r')"
     ],
     "language": "python",
     "metadata": {},
     "outputs": []
    },
    {
     "cell_type": "markdown",
     "metadata": {},
     "source": [
      "Objects are directly reconstructed from the archive."
     ]
    },
    {
     "cell_type": "code",
     "collapsed": false,
     "input": [
      "B['number']"
     ],
     "language": "python",
     "metadata": {},
     "outputs": []
    },
    {
     "cell_type": "code",
     "collapsed": false,
     "input": [
      "from pytriqs.plot.mpl_interface import *\n",
      "oplot(B['GF'], RI='S')"
     ],
     "language": "python",
     "metadata": {},
     "outputs": []
    },
    {
     "cell_type": "code",
     "collapsed": false,
     "input": [
      "del B"
     ],
     "language": "python",
     "metadata": {},
     "outputs": []
    }
   ],
   "metadata": {}
  }
 ]
}