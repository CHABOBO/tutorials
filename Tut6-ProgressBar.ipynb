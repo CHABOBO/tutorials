{
 "metadata": {
  "name": "Tut6-ProgressBar"
 },
 "nbformat": 3,
 "nbformat_minor": 0,
 "worksheets": [
  {
   "cells": [
    {
     "cell_type": "markdown",
     "metadata": {},
     "source": [
      "Progress Bar\n",
      "============\n",
      "\n",
      "This is an example of how a progress bar could be realized. It is implemented\n",
      "as a thread class which every second reads out the \"percent\" member\n",
      "of a class given at construction"
     ]
    },
    {
     "cell_type": "code",
     "collapsed": false,
     "input": [
      "import threading, time, uuid\n",
      "from IPython.display import *\n",
      "\n",
      "class ProgressBar(threading.Thread):\n",
      "\n",
      "    def __init__(self, extC):\n",
      "        \n",
      "        threading.Thread.__init__(self)\n",
      "        self.divid = str(uuid.uuid4())\n",
      "        self.live_on = True\n",
      "        self.extC = extC\n",
      "        \n",
      "    def stop(self):\n",
      "        \n",
      "        self.live_on = False\n",
      "   \n",
      "    def start(self):\n",
      "        \n",
      "        pb = HTML(\"\"\"\n",
      "<div style=\"border: 1px solid black; width:500px\">\n",
      "  <div id=\"%s\" style=\"background-color:blue; width:0%%\">&nbsp;</div>\n",
      "</div>\"\"\" % self.divid)\n",
      "        display(pb)\n",
      "        threading.Thread.start(self)\n",
      "        \n",
      "    def run(self):\n",
      "        \n",
      "        while(self.live_on):\n",
      "            time.sleep(1)\n",
      "            display(Javascript(\"$('div#%s').width('%i%%')\" % (self.divid, self.extC.percent)))"
     ],
     "language": "python",
     "metadata": {},
     "outputs": []
    },
    {
     "cell_type": "markdown",
     "metadata": {},
     "source": [
      "Demo\n",
      "----"
     ]
    },
    {
     "cell_type": "code",
     "collapsed": false,
     "input": [
      "class wrap:\n",
      "    percent = 0\n",
      "    \n",
      "l = wrap()\n",
      "p = ProgressBar(l)\n",
      "p.start()\n",
      "\n",
      "for i in range(101):\n",
      "    time.sleep(0.1)\n",
      "    l.percent = i\n",
      "    \n",
      "p.stop()"
     ],
     "language": "python",
     "metadata": {},
     "outputs": []
    }
   ],
   "metadata": {}
  }
 ]
}