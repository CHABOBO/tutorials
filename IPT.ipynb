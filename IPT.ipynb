{
 "metadata": {
  "name": "IPT"
 },
 "nbformat": 3,
 "nbformat_minor": 0,
 "worksheets": [
  {
   "cells": [
    {
     "cell_type": "markdown",
     "metadata": {},
     "source": [
      "Iterated Perturbation Theory\n",
      "============================"
     ]
    },
    {
     "cell_type": "code",
     "collapsed": false,
     "input": [
      "from IPython.display import clear_output"
     ],
     "language": "python",
     "metadata": {},
     "outputs": []
    },
    {
     "cell_type": "code",
     "collapsed": false,
     "input": [
      "from pytriqs.Base.GF_Local import *\n",
      "from pytriqs.Base.Plot.MatplotlibInterface import oplot\n",
      "import IPT\n",
      "\n",
      "beta = 40                    # Inverse temperature\n",
      "U = arange(0,4.05,0.1)       # Range of interaction constants to scan\n",
      "t = 0.5                      # Scaled hopping constant on the Bethe lattice\n",
      "N_loops = 10                 # Number of DMFT loops\n",
      "\n",
      "# Pade-related\n",
      "DOSMesh = arange(-4,4,0.02)   # Mesh to plot densities of states\n",
      "eta = 0.00                    # Imaginary frequency offset to use with Pade\n",
      "Pade_L = 201                  # Number of Matsubara frequencies to use with Pade\n",
      "\n",
      "# Bare Green's function of the Bethe lattice (semicircle) \n",
      "def Initial_G0(G0):\n",
      "    G0 <<= SemiCircular(2*t)\n",
      "\n",
      "# Self-consistency condition\n",
      "def Self_Consistency(G0,G):\n",
      "    G0['0'] <<= inverse(Omega - (t**2)*G['0'])\n",
      "\n"
     ],
     "language": "python",
     "metadata": {},
     "outputs": []
    },
    {
     "cell_type": "code",
     "collapsed": false,
     "input": [
      "fig = plt.figure(figsize=(12,8))\n",
      "\n",
      "# Scan over values of U\n",
      "for u in U:\n",
      "\n",
      "    IPT.run(N_loops = N_loops, beta=beta, U=u, Initial_G0=Initial_G0, Self_Consistency=Self_Consistency)\n",
      "    \n",
      "    # The resulting local GF on the real axis\n",
      "    g_real = GFBloc_ReFreq(Indices = [0], Beta = beta, MeshArray = DOSMesh, Name = '0')\n",
      "    G_real = GF(NameList = ('0',), BlockList = (g_real,), Copy = True)\n",
      "    \n",
      "    # Analytic continuation with Pade\n",
      "    G_real['0'].setFromPadeOf(IPT.S.G['0'], N_Matsubara_Frequencies=Pade_L, Freq_Offset=eta)\n",
      "\n",
      "    # Plot the DOS\n",
      "    clear_output()\n",
      "    fig.clear()\n",
      "    oplot(G_real['0'][0,0], RI='S', Name=\"DOS\", figure=fig)\n",
      "    fig.axes[0].set_ylim(0,1/pi/t*1.1)\n",
      "    fig.axes[0].set_title(r\"Local DOS, IPT, Bethe lattice, $\\beta=%.2f$, $U=%.2f$\" % (beta,u))\n",
      "    display(fig)\n",
      "\n",
      "plt.close(fig)"
     ],
     "language": "python",
     "metadata": {},
     "outputs": []
    },
    {
     "cell_type": "code",
     "collapsed": false,
     "input": [],
     "language": "python",
     "metadata": {},
     "outputs": []
    }
   ],
   "metadata": {}
  }
 ]
}