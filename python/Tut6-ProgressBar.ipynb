{
 "metadata": {
  "name": "",
  "signature": "sha256:4033d8274c2bbaf9f0fb3185c7842b8bdb184da5726107f18ca0abfbd5a89981"
 },
 "nbformat": 3,
 "nbformat_minor": 0,
 "worksheets": [
  {
   "cells": [
    {
     "cell_type": "markdown",
     "metadata": {},
     "source": [
      "Progress Bar\n",
      "============\n",
      "\n",
      "This is an example of how a progress bar could be realized. It is implemented\n",
      "as a thread class which every second reads out the \"percent\" member\n",
      "of a class given at construction"
     ]
    },
    {
     "cell_type": "code",
     "collapsed": false,
     "input": [
      "import threading, time, uuid\n",
      "from IPython.display import *\n",
      "\n",
      "class ProgressBar(threading.Thread):\n",
      "\n",
      "    def __init__(self, extC):\n",
      "        \n",
      "        threading.Thread.__init__(self)\n",
      "        self.divid = str(uuid.uuid4())\n",
      "        self.live_on = True\n",
      "        self.extC = extC\n",
      "        \n",
      "    def stop(self):\n",
      "        \n",
      "        self.live_on = False\n",
      "   \n",
      "    def start(self):\n",
      "        \n",
      "        pb = HTML(\"\"\"\n",
      "<div style=\"border: 1px solid black; width:500px\">\n",
      "  <div id=\"%s\" style=\"background-color:blue; width:0%%\">&nbsp;</div>\n",
      "</div>\"\"\" % self.divid)\n",
      "        display(pb)\n",
      "        threading.Thread.start(self)\n",
      "        \n",
      "    def run(self):\n",
      "        \n",
      "        while(self.live_on):\n",
      "            time.sleep(1)\n",
      "            display(Javascript(\"$('div#%s').width('%i%%')\" % (self.divid, self.extC.percent)))"
     ],
     "language": "python",
     "metadata": {},
     "outputs": [],
     "prompt_number": 1
    },
    {
     "cell_type": "markdown",
     "metadata": {},
     "source": [
      "Demo\n",
      "----"
     ]
    },
    {
     "cell_type": "code",
     "collapsed": false,
     "input": [
      "class wrap:\n",
      "    percent = 0\n",
      "    \n",
      "l = wrap()\n",
      "p = ProgressBar(l)\n",
      "p.start()\n",
      "\n",
      "for i in range(101):\n",
      "    time.sleep(0.1)\n",
      "    l.percent = i\n",
      "    \n",
      "p.stop()"
     ],
     "language": "python",
     "metadata": {},
     "outputs": [
      {
       "html": [
        "\n",
        "<div style=\"border: 1px solid black; width:500px\">\n",
        "  <div id=\"1129567b-550a-4565-b07b-fa8ca9fa4e34\" style=\"background-color:blue; width:0%\">&nbsp;</div>\n",
        "</div>"
       ],
       "metadata": {},
       "output_type": "display_data",
       "text": [
        "<IPython.core.display.HTML at 0x7ff822887a10>"
       ]
      },
      {
       "javascript": [
        "$('div#1129567b-550a-4565-b07b-fa8ca9fa4e34').width('8%')"
       ],
       "metadata": {},
       "output_type": "display_data",
       "text": [
        "<IPython.core.display.Javascript at 0x7ff8228ecb90>"
       ]
      },
      {
       "javascript": [
        "$('div#1129567b-550a-4565-b07b-fa8ca9fa4e34').width('19%')"
       ],
       "metadata": {},
       "output_type": "display_data",
       "text": [
        "<IPython.core.display.Javascript at 0x7ff8228ecb10>"
       ]
      },
      {
       "javascript": [
        "$('div#1129567b-550a-4565-b07b-fa8ca9fa4e34').width('29%')"
       ],
       "metadata": {},
       "output_type": "display_data",
       "text": [
        "<IPython.core.display.Javascript at 0x7ff822887b90>"
       ]
      },
      {
       "javascript": [
        "$('div#1129567b-550a-4565-b07b-fa8ca9fa4e34').width('39%')"
       ],
       "metadata": {},
       "output_type": "display_data",
       "text": [
        "<IPython.core.display.Javascript at 0x7ff822887c10>"
       ]
      },
      {
       "javascript": [
        "$('div#1129567b-550a-4565-b07b-fa8ca9fa4e34').width('49%')"
       ],
       "metadata": {},
       "output_type": "display_data",
       "text": [
        "<IPython.core.display.Javascript at 0x7ff822887b50>"
       ]
      },
      {
       "javascript": [
        "$('div#1129567b-550a-4565-b07b-fa8ca9fa4e34').width('59%')"
       ],
       "metadata": {},
       "output_type": "display_data",
       "text": [
        "<IPython.core.display.Javascript at 0x7ff822887cd0>"
       ]
      },
      {
       "javascript": [
        "$('div#1129567b-550a-4565-b07b-fa8ca9fa4e34').width('69%')"
       ],
       "metadata": {},
       "output_type": "display_data",
       "text": [
        "<IPython.core.display.Javascript at 0x7ff822887c90>"
       ]
      },
      {
       "javascript": [
        "$('div#1129567b-550a-4565-b07b-fa8ca9fa4e34').width('79%')"
       ],
       "metadata": {},
       "output_type": "display_data",
       "text": [
        "<IPython.core.display.Javascript at 0x7ff822887c50>"
       ]
      },
      {
       "javascript": [
        "$('div#1129567b-550a-4565-b07b-fa8ca9fa4e34').width('89%')"
       ],
       "metadata": {},
       "output_type": "display_data",
       "text": [
        "<IPython.core.display.Javascript at 0x7ff822887d10>"
       ]
      },
      {
       "javascript": [
        "$('div#1129567b-550a-4565-b07b-fa8ca9fa4e34').width('99%')"
       ],
       "metadata": {},
       "output_type": "display_data",
       "text": [
        "<IPython.core.display.Javascript at 0x7ff822887d50>"
       ]
      },
      {
       "javascript": [
        "$('div#1129567b-550a-4565-b07b-fa8ca9fa4e34').width('100%')"
       ],
       "metadata": {},
       "output_type": "display_data",
       "text": [
        "<IPython.core.display.Javascript at 0x7ff8228ec910>"
       ]
      }
     ],
     "prompt_number": 2
    },
    {
     "cell_type": "code",
     "collapsed": false,
     "input": [],
     "language": "python",
     "metadata": {},
     "outputs": []
    }
   ],
   "metadata": {}
  }
 ]
}