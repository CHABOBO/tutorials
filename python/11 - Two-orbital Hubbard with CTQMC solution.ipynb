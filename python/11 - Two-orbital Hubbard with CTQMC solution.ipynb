{
 "metadata": {
  "name": ""
 },
 "nbformat": 3,
 "nbformat_minor": 0,
 "worksheets": [
  {
   "cells": [
    {
     "cell_type": "markdown",
     "metadata": {},
     "source": [
      "Solution of the exercises\n",
      "========================="
     ]
    },
    {
     "cell_type": "markdown",
     "metadata": {},
     "source": [
      "Solution of exercise 1\n",
      "----------------------\n",
      "\n",
      "The solution of the exercise is in the script called `run_two_bands.py` in the tutorial directory.\n",
      "I ran the script from the shell to see the Monte Carlo progress. As you can see in the script I have put some lines to save the Green's functions and self-energies in archives. These archives are in the `results` subdirectory. Here is a plot of\n",
      "the Green's functions for different values of $U$ at given $J$'s."
     ]
    },
    {
     "cell_type": "markdown",
     "metadata": {},
     "source": [
      "### J = 0.0\n",
      "\n",
      "You will see that the Mott transition is somewhere between 6.0 and 7.0."
     ]
    },
    {
     "cell_type": "code",
     "collapsed": false,
     "input": [
      "from pytriqs.gf.local import *\n",
      "from pytriqs.archive import *\n",
      "from pytriqs.plot.mpl_interface import *\n",
      "\n",
      "coeff = 0.0\n",
      "for U in arange(1.0, 13.0):\n",
      "\n",
      "    J = coeff * U\n",
      "    A = HDFArchive(\"results/two-half-U%.2f-J%.2f.h5\"%(U,J), 'r')\n",
      "    oplot(A['G-9']['up-0'].imag, '-o', name=\"U = %.2f\"%U)\n",
      "\n",
      "plt.xlim(0,10)"
     ],
     "language": "python",
     "metadata": {},
     "outputs": []
    },
    {
     "cell_type": "markdown",
     "metadata": {},
     "source": [
      "### J = 0.1 U\n",
      "\n",
      "You will see that the Mott transition is somewhere between 4.0 and 5.0."
     ]
    },
    {
     "cell_type": "code",
     "collapsed": false,
     "input": [
      "from pytriqs.gf.local import *\n",
      "from pytriqs.archive import *\n",
      "from pytriqs.plot.mpl_interface import *\n",
      "\n",
      "coeff = 0.1\n",
      "for U in arange(1.0, 13.0):\n",
      "\n",
      "    J = coeff * U\n",
      "    A = HDFArchive(\"results/two-half-U%.2f-J%.2f.h5\"%(U,J), 'r')\n",
      "    oplot(A['G-9']['up-0'].imag, '-o', name=\"U = %.2f\"%U)\n",
      "\n",
      "plt.xlim(0,10)"
     ],
     "language": "python",
     "metadata": {},
     "outputs": []
    },
    {
     "cell_type": "markdown",
     "metadata": {},
     "source": [
      "### J = 0.2 U\n",
      "\n",
      "You will see that the Mott transition is somewhere between 3.0 and 4.0."
     ]
    },
    {
     "cell_type": "code",
     "collapsed": false,
     "input": [
      "from pytriqs.gf.local import *\n",
      "from pytriqs.archive import *\n",
      "from pytriqs.plot.mpl_interface import *\n",
      "\n",
      "coeff = 0.2\n",
      "for U in arange(1.0, 13.0):\n",
      "\n",
      "    J = coeff * U\n",
      "    A = HDFArchive(\"results/two-half-U%.2f-J%.2f.h5\"%(U,J), 'r')\n",
      "    oplot(A['G-9']['up-0'].imag, '-o', name=\"U = %.2f\"%U)\n",
      "\n",
      "plt.xlim(0,10)"
     ],
     "language": "python",
     "metadata": {},
     "outputs": []
    },
    {
     "cell_type": "markdown",
     "metadata": {},
     "source": [
      "### Conclusion of Exercise 1\n",
      "\n",
      "The value of $U_c$ is decreasing with increasing values of $J$! Can you understand why?"
     ]
    },
    {
     "cell_type": "markdown",
     "metadata": {},
     "source": [
      "Solution of exercise 2\n",
      "----------------------\n",
      "\n",
      "The solution of the exercise is again the script called `run_two_bands.py` in the tutorial directory.\n",
      "You will have to change `filling = 'quarter'`. The generated archives are in the `results` subdirectory. Here is a plot of\n",
      "the Green's functions for different values of $U$ at given $J$'s."
     ]
    },
    {
     "cell_type": "markdown",
     "metadata": {},
     "source": [
      "### J = 0.0\n",
      "\n",
      "You will se that the Mott transition is somewhere between 5.0 and 6.0."
     ]
    },
    {
     "cell_type": "code",
     "collapsed": false,
     "input": [
      "from pytriqs.gf.local import *\n",
      "from pytriqs.archive import *\n",
      "from pytriqs.plot.mpl_interface import *\n",
      "\n",
      "coeff = 0.0\n",
      "for U in arange(1.0, 13.0):\n",
      "\n",
      "    J = coeff * U\n",
      "    A = HDFArchive(\"results/two-quarter-U%.2f-J%.2f.h5\"%(U,J), 'r')\n",
      "    oplot(A['G-9']['up-0'].imag, '-o', name=\"U = %.2f\"%U)\n",
      "\n",
      "plt.xlim(0,10)"
     ],
     "language": "python",
     "metadata": {},
     "outputs": []
    },
    {
     "cell_type": "markdown",
     "metadata": {},
     "source": [
      "### J = 0.1 U\n",
      "\n",
      "You will see that the Mott transition is somewhere between 7.0 and 8.0."
     ]
    },
    {
     "cell_type": "code",
     "collapsed": false,
     "input": [
      "from pytriqs.gf.local import *\n",
      "from pytriqs.archive import *\n",
      "from pytriqs.plot.mpl_interface import *\n",
      "\n",
      "coeff = 0.1\n",
      "for U in arange(1.0, 13.0):\n",
      "\n",
      "    J = coeff * U\n",
      "    A = HDFArchive(\"results/two-quarter-U%.2f-J%.2f.h5\"%(U,J), 'r')\n",
      "    oplot(A['G-9']['up-0'].imag, '-o', name=\"U = %.2f\"%U)\n",
      "\n",
      "plt.xlim(0,10)"
     ],
     "language": "python",
     "metadata": {},
     "outputs": []
    },
    {
     "cell_type": "markdown",
     "metadata": {},
     "source": [
      "### J = 0.2 U\n",
      "\n",
      "You will see that the Mott transition happens at values of $U$ larger than 12."
     ]
    },
    {
     "cell_type": "code",
     "collapsed": false,
     "input": [
      "from pytriqs.gf.local import *\n",
      "from pytriqs.archive import *\n",
      "from pytriqs.plot.mpl_interface import *\n",
      "\n",
      "coeff = 0.2\n",
      "for U in arange(1.0, 13.0):\n",
      "\n",
      "    J = coeff * U\n",
      "    A = HDFArchive(\"results/two-quarter-U%.2f-J%.2f.h5\"%(U,J), 'r')\n",
      "    oplot(A['G-9']['up-0'].imag, '-o', name=\"U = %.2f\"%U)\n",
      "\n",
      "plt.xlim(0,10)"
     ],
     "language": "python",
     "metadata": {},
     "outputs": []
    },
    {
     "cell_type": "markdown",
     "metadata": {},
     "source": [
      "### Conclusion of Exercise 2\n",
      "\n",
      "Now the value of $U_c$ is increasing with increasing values of $J$! Why?"
     ]
    }
   ],
   "metadata": {}
  }
 ]
}