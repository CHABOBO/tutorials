{
 "cells": [
  {
   "cell_type": "markdown",
   "metadata": {},
   "source": [
    "Solution of the exercises\n",
    "=========================\n",
    "\n",
    "Solution of exercise 1\n",
    "----------------------\n",
    "\n",
    "Here's the solution for the IPT Solver written as a class:"
   ]
  },
  {
   "cell_type": "code",
   "execution_count": null,
   "metadata": {
    "collapsed": false
   },
   "outputs": [],
   "source": [
    "from pytriqs.gf.local import *\n",
    "\n",
    "class IPTSolver:\n",
    "\n",
    "    def __init__(self, beta):\n",
    "\n",
    "        self.beta = beta\n",
    "\n",
    "        # Matsubara frequency\n",
    "        # self.g0 will be set by the user after initialization\n",
    "        self.g = GfImFreq(indices=[0], beta=beta, name='0')\n",
    "        self.g0 = self.g.copy()\n",
    "        self.sigma = self.g.copy()\n",
    "        \n",
    "        # Imaginary time\n",
    "        self.g0t = GfImTime(indices=[0], beta = self.beta, name='G0t')\n",
    "        self.sigmat = self.g0t.copy()\n",
    "        \n",
    "    def solve(self, U,it):\n",
    "\n",
    "        self.g0t << InverseFourier(self.g0)\n",
    "        self.sigmat << (U**2) * self.g0t * self.g0t * self.g0t\n",
    "        self.sigma << Fourier(self.sigmat)\n",
    "        self.sigma << (U/2.0 if it>8 else 0) + self.sigma\n",
    "        \n",
    "        # Dyson\n",
    "        self.g << inverse(inverse(self.g0) - self.sigma)\n",
    "        # or self.g << self.g0 * inverse(1.0 - self.sigma * self.g0)"
   ]
  },
  {
   "cell_type": "markdown",
   "metadata": {},
   "source": [
    "Solution of exercise 2\n",
    "----------------------\n",
    "\n",
    "This is the implementation of the DMFT loop. I added a couple of commands\n",
    "to see the evolution of the spectral function."
   ]
  },
  {
   "cell_type": "code",
   "execution_count": null,
   "metadata": {
    "collapsed": false
   },
   "outputs": [],
   "source": [
    "from pytriqs.plot.mpl_interface import *\n",
    "from IPython.display import clear_output,display\n",
    "%matplotlib inline\n",
    "\n",
    "t = 1.0\n",
    "U = 4.0\n",
    "beta = 20\n",
    "n_loops = 20\n",
    "\n",
    "S = IPTSolver(beta = beta)\n",
    "#S.g << inverse(inverse(SemiCircular(2*t))+U/2.0)\n",
    "S.g << SemiCircular(2*t)\n",
    "#S.g << (inverse(S.g0)-iOmega_n)/(-t**2)\n",
    "\n",
    "\n",
    "\n",
    "\n",
    "fig = plt.figure(figsize=(12,8))\n",
    "\n",
    "for i in range(n_loops):\n",
    "    S.g0 << inverse( iOmega_n + (U/2.0 if i>8 else 0) - t**2 * S.g )\n",
    "    S.solve(U = U,it=i)\n",
    "    \n",
    "    # Get real axis function with Pade approximants\n",
    "    greal = GfReFreq(indices = [1], window = (-5.0,5.0))\n",
    "    greal.set_from_pade(S.g, 100, 0.01)\n",
    "    \n",
    "    oplot(greal, RI='I', figure = fig, label = \"Iteration = %i\" % (i+1))\n",
    "    clear_output()\n",
    "#    display(fig)\n",
    "    \n",
    "#fig.clear()"
   ]
  },
  {
   "cell_type": "markdown",
   "metadata": {},
   "source": [
    "Solution of exercise 3\n",
    "----------------------\n",
    "\n",
    "From the solution above it seems that 10 iterations are enough to converge the\n",
    "DMFT loop. Now it is easy to repeat this for several values of $U$."
   ]
  },
  {
   "cell_type": "code",
   "execution_count": null,
   "metadata": {
    "collapsed": false
   },
   "outputs": [],
   "source": [
    "t = 1.0\n",
    "beta = 20\n",
    "n_loops = 10\n",
    "\n",
    "fig = figure(figsize=(6,6))\n",
    "pn = 0\n",
    "\n",
    "for U in arange(2.0, 7.5, 1.0):\n",
    "    \n",
    "    S = IPTSolver(beta = beta)\n",
    "    S.g << SemiCircular(2*t)\n",
    "\n",
    "    # DMFT\n",
    "    for i in range(n_loops):\n",
    "        S.g0 << inverse( iOmega_n - t**2 * S.g )\n",
    "        S.solve(U)\n",
    "\n",
    "    # Get the real-axis with Pade approximants\n",
    "    greal = GfReFreq(indices = [1], window = (-8.0,8.0))\n",
    "    greal.set_from_pade(S.g, 100, 0.01)\n",
    "    \n",
    "    clear_output()\n",
    "    ax = fig.add_axes([0,1.-(pn+1)/6.,1,1./6.])\n",
    "    ax.set_xticklabels([])\n",
    "    ax.set_yticklabels([])\n",
    "    oplot(greal, lw=3, RI='S', figure = fig, label = \"U = %.2f\" % U)\n",
    "    plt.xlim(-8,8)\n",
    "    plt.ylim(0,0.35)\n",
    "    plt.ylabel(\"\")\n",
    "    display(fig)\n",
    "    pn = pn+1\n",
    "    \n",
    "fig.clear()"
   ]
  },
  {
   "cell_type": "markdown",
   "metadata": {},
   "source": [
    "Comparison with the litterature\n",
    "-------------------------------\n",
    "\n",
    "You can compare the result above with what can be found in the litterature\n",
    "(review of Antoine Georges et al.)\n",
    "\n",
    "<img src=\"files/mott.png\" width=30%>"
   ]
  }
 ],
 "metadata": {
  "kernelspec": {
   "display_name": "Python 2",
   "language": "python",
   "name": "python2"
  },
  "language_info": {
   "codemirror_mode": {
    "name": "ipython",
    "version": 2
   },
   "file_extension": ".py",
   "mimetype": "text/x-python",
   "name": "python",
   "nbconvert_exporter": "python",
   "pygments_lexer": "ipython2",
   "version": "2.7.6"
  },
  "widgets": {
   "state": {},
   "version": "1.1.0"
  }
 },
 "nbformat": 4,
 "nbformat_minor": 0
}
