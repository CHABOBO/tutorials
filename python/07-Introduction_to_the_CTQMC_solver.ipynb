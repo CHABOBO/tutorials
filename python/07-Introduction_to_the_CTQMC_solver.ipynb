{
 "metadata": {
  "name": "",
  "signature": "sha256:bb400ed1f46c46c899b16ecd0a94782346ee377f467e02375abbd81592697d13"
 },
 "nbformat": 3,
 "nbformat_minor": 0,
 "worksheets": [
  {
   "cells": [
    {
     "cell_type": "markdown",
     "metadata": {},
     "source": [
      "Introduction to the CTQMC impurity solver\n",
      "=========================================\n",
      "\n",
      "In this notebook, we will see how to use the CTQMC impurity solver. We will take\n",
      "the example of an Anderson impurity model with a local Coulomb interaction on\n",
      "the impurity orbital\n",
      "\n",
      "$$\n",
      "H_\\mathrm{loc} = U n_\\mathrm{\\uparrow} n_\\mathrm{\\downarrow}\n",
      "$$\n",
      "\n",
      "The non-interacting Green's function is\n",
      "\n",
      "$$\n",
      "G_0(i\\omega_n) = \\frac{1}{i\\omega_n - \\epsilon_d - V^2 \\Gamma(i\\omega_n)}\n",
      "$$\n",
      "\n",
      "and $\\Gamma$ is the Green's function of a flat conduction bath.\n",
      "\n",
      "Setting up the impurity solver\n",
      "------------------------------\n",
      "\n",
      "Here is an example showing how to define an impurity solver and run it on a\n",
      "single-orbital Anderson impurity model. Note that the Monte Carlo will take a bit\n",
      "of time. Wait until the calculation is over before going on (see the \"Kernel busy\"\n",
      "label on the top right)."
     ]
    },
    {
     "cell_type": "code",
     "collapsed": false,
     "input": [
      "from pytriqs.gf.local import *\n",
      "from pytriqs.operators import *\n",
      "from pytriqs.applications.impurity_solvers.cthyb import Solver\n",
      "\n",
      "# Redirect the output of the C++ solver to the notebook\n",
      "from pytriqs.utility.redirect import *\n",
      "start_redirect()\n",
      "\n",
      "V = 1.0\n",
      "U = 4.0\n",
      "epsilon_d = 0.2\n",
      "beta = 20\n",
      "\n",
      "# Construct the impurity solver\n",
      "S = Solver(beta = beta, gf_struct = {'up':[0], 'down':[0]})\n",
      "\n",
      "# Define the non-interacting Green's function\n",
      "S.G0_iw << inverse(iOmega_n - epsilon_d - V**2 * Wilson(1.0))\n",
      "\n",
      "# Set the parameters\n",
      "p = {}\n",
      "p[\"length_cycle\"] = 10           # Number of steps between each measurement\n",
      "p[\"n_warmup_cycles\"] = 5000      # Number of warmup cycles\n",
      "p[\"n_cycles\"] = 50000            # Number of QMC cycles\n",
      "\n",
      "# Solve the impurity problem for a given local Hamiltonian.\n",
      "S.solve(h_loc = U * n('up',0) * n('down',0), **p)"
     ],
     "language": "python",
     "metadata": {},
     "outputs": []
    },
    {
     "cell_type": "markdown",
     "metadata": {},
     "source": [
      "Let's try to explain the different lines of the script above. To construct the solver all that is needed is the inverse temperature $\\beta$ and a list that describes the block structure of the Green's function. This is the `gf_struct` keyword. In this specific case, there are two blocks `up` and `down` and each only have one index 0. This is what is described by `gf_struct`.\n",
      "\n",
      "Then, the member `S.G0_iw` of the solver is initialized. This Green's function will be used as the non-interacting Green's function when the solver starts.\n",
      "\n",
      "The final step is to run the solver with the `solve` method. It has a certain number of parameters:\n",
      "\n",
      "- `h_loc`: This is the local Hamiltonian used in the Monte Carlo. It is defined using the operators that we have seen in the previous notebook. **important**: the name of the indices in the operators have to be compatible with the `gf_struct` that was used in the construction of the solver\n",
      "- `n_cycles`: This is the number of Monte Carlo cycles, which is also the number of measures of the Green's function.\n",
      "- `length_cycle`: This is the number of steps at which measurements, e.g. of `G_tau`, are made to ensure data is decorrelated.\n",
      "- `n_warmup_cycles`: The number of cycles used to thermalize the system\n",
      "\n",
      "So a calculation will have a Markov chain of length `n_warmup_cycles` + `length_cycle` * `n_cycles`.\n",
      "\n",
      "When the run is over, the ouputs of the solver are:\n",
      "\n",
      "- `S.G_iw`: The Green's function of the system\n",
      "- `S.Sigma_iw`: The self-energy"
     ]
    },
    {
     "cell_type": "markdown",
     "metadata": {},
     "source": [
      "Visualizing the Matsubara-frequency results\n",
      "-------------------------------------------\n",
      "\n",
      "We can plot the results and see how good the statistics is."
     ]
    },
    {
     "cell_type": "code",
     "collapsed": false,
     "input": [
      "from pytriqs.plot.mpl_interface import *\n",
      "oplot(S.G_iw, '-o')\n",
      "plt.xlim(0,20)"
     ],
     "language": "python",
     "metadata": {},
     "outputs": []
    },
    {
     "cell_type": "code",
     "collapsed": false,
     "input": [
      "oplot(S.Sigma_iw, '-o')\n",
      "plt.xlim(0,20)\n",
      "plt.ylim(-1.0,2.0)"
     ],
     "language": "python",
     "metadata": {},
     "outputs": []
    },
    {
     "cell_type": "markdown",
     "metadata": {},
     "source": [
      "The large oscillations in the self-energy are due to a bad statistics in the Monte Carlo.\n",
      "\n",
      "Exercise\n",
      "--------\n",
      "\n",
      "Increase and decrease the number of Monte Carlo cycles to see its effect on the quality of the self-energy."
     ]
    }
   ],
   "metadata": {}
  }
 ]
}