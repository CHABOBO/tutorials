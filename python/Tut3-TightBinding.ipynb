{
 "metadata": {
  "name": "",
  "signature": "sha256:b35b8cc0cdba8c2a010ec7bc878d5b1688c1109ce4e39c6e96071cfa7b086779"
 },
 "nbformat": 3,
 "nbformat_minor": 0,
 "worksheets": [
  {
   "cells": [
    {
     "cell_type": "markdown",
     "metadata": {},
     "source": [
      "A tight-binding model on a square lattice\n",
      "=========================================\n",
      "\n",
      "The first step is to load the libraries for the tight-binding"
     ]
    },
    {
     "cell_type": "code",
     "collapsed": false,
     "input": [
      "from pytriqs.lattice.tight_binding import *"
     ],
     "language": "python",
     "metadata": {},
     "outputs": [
      {
       "output_type": "stream",
       "stream": "stderr",
       "text": [
        "Starting on 1 Nodes at : 2015-04-02 16:13:58.033041\n"
       ]
      }
     ],
     "prompt_number": 1
    },
    {
     "cell_type": "markdown",
     "metadata": {},
     "source": [
      "Then we create a Bravais lattice, generated from two vectors"
     ]
    },
    {
     "cell_type": "code",
     "collapsed": false,
     "input": [
      "BL = BravaisLattice(units = [(1,0,0), (0,1,0)]\n",
      "                    ) "
     ],
     "language": "python",
     "metadata": {},
     "outputs": [],
     "prompt_number": 3
    },
    {
     "cell_type": "markdown",
     "metadata": {},
     "source": [
      "Now, we define the hopping parameters, the displacement matrix and then construct the tight-binding model\n",
      "on the bravais lattice"
     ]
    },
    {
     "cell_type": "code",
     "collapsed": false,
     "input": [
      "t   = -1.00                # First neighbour Hopping\n",
      "tp  =  0.0*t               # Second neighbour Hopping\n",
      "\n",
      "hop= {  (1,0)  :  [[ t]],       \n",
      "        (-1,0) :  [[ t]],     \n",
      "        (0,1)  :  [[ t]],\n",
      "        (0,-1) :  [[ t]],\n",
      "        (1,1)  :  [[ tp]],\n",
      "        (-1,-1):  [[ tp]],\n",
      "        (1,-1) :  [[ tp]],\n",
      "        (-1,1) :  [[ tp]]}\n",
      "\n",
      "TB = TightBinding(BL, hop)"
     ],
     "language": "python",
     "metadata": {},
     "outputs": [],
     "prompt_number": 4
    },
    {
     "cell_type": "markdown",
     "metadata": {},
     "source": [
      "The model is defined, we can e.g. compute the density of states"
     ]
    },
    {
     "cell_type": "code",
     "collapsed": false,
     "input": [
      "density_states = dos(TB, n_kpts= 500, n_eps = 101, name = 'dos')[0]"
     ],
     "language": "python",
     "metadata": {},
     "outputs": [],
     "prompt_number": 5
    },
    {
     "cell_type": "markdown",
     "metadata": {},
     "source": [
      "Let's plot the density of states with matplotlib"
     ]
    },
    {
     "cell_type": "code",
     "collapsed": false,
     "input": [
      "from pytriqs.plot.mpl_interface import oplot\n",
      "oplot(density_states, '-o')\n",
      "plt.xlim (-5,5)\n",
      "plt.ylim (0, 0.4)"
     ],
     "language": "python",
     "metadata": {},
     "outputs": [
      {
       "metadata": {},
       "output_type": "pyout",
       "prompt_number": 6,
       "text": [
        "(0, 0.4)"
       ]
      },
      {
       "metadata": {},
       "output_type": "display_data",
       "png": "[encoded data removed]",
       "text": [
        "<matplotlib.figure.Figure at 0x7f30cdfb9690>"
       ]
      }
     ],
     "prompt_number": 6
    },
    {
     "cell_type": "code",
     "collapsed": false,
     "input": [],
     "language": "python",
     "metadata": {},
     "outputs": []
    }
   ],
   "metadata": {}
  }
 ]
}