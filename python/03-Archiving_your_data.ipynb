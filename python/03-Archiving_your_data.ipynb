{
 "metadata": {
  "name": "",
  "signature": "sha256:e82605894b98d0c93fbb02ee266afde7d7db1cceab3c56c6e3f8e04d3c0458f0"
 },
 "nbformat": 3,
 "nbformat_minor": 0,
 "worksheets": [
  {
   "cells": [
    {
     "cell_type": "markdown",
     "metadata": {},
     "source": [
      "HDF5 Archives\n",
      "=============\n",
      "\n",
      "An important issue when it comes to numerical calculations is to be able to save data in a way\n",
      "that is sustainable, light and allows for easy recovery. To this end, the objects in TRIQS\n",
      "are save into hdf5 archives. The hdf5 format is compressed and the interface in TRIQS allows\n",
      "to recover objects directly, as they were saved. Let us first import the relevant module:"
     ]
    },
    {
     "cell_type": "code",
     "collapsed": false,
     "input": [
      "from pytriqs.archive import *"
     ],
     "language": "python",
     "metadata": {},
     "outputs": []
    },
    {
     "cell_type": "markdown",
     "metadata": {},
     "source": [
      "Writing in an archive\n",
      "---------------------\n",
      "\n",
      "We open a new archive from scratch"
     ]
    },
    {
     "cell_type": "code",
     "collapsed": false,
     "input": [
      "A = HDFArchive(\"my_archive.h5\",'w')"
     ],
     "language": "python",
     "metadata": {},
     "outputs": []
    },
    {
     "cell_type": "markdown",
     "metadata": {},
     "source": [
      "The `'w'` here means we overwrite the archive if there was an existing one. If you want to append information to an\n",
      "existing archive without detroying it, use `'a'`. An archive essentially behaves like a python dictionary. We can\n",
      "put any object in there"
     ]
    },
    {
     "cell_type": "code",
     "collapsed": false,
     "input": [
      "from pytriqs.gf.local import *\n",
      "g = GfReFreq(indices=[1], window=[-2,2])\n",
      "g << SemiCircular(1.0)\n",
      "\n",
      "A['number'] = 12\n",
      "A['GF'] = g"
     ],
     "language": "python",
     "metadata": {},
     "outputs": []
    },
    {
     "cell_type": "markdown",
     "metadata": {},
     "source": [
      "We can look at the archive"
     ]
    },
    {
     "cell_type": "code",
     "collapsed": false,
     "input": [
      "print A"
     ],
     "language": "python",
     "metadata": {},
     "outputs": []
    },
    {
     "cell_type": "markdown",
     "metadata": {},
     "source": [
      "To close the archive, we use the `del` keyword."
     ]
    },
    {
     "cell_type": "code",
     "collapsed": false,
     "input": [
      "del A"
     ],
     "language": "python",
     "metadata": {},
     "outputs": []
    },
    {
     "cell_type": "markdown",
     "metadata": {},
     "source": [
      "From the shell we can now see the new file and check what is\n",
      "in it"
     ]
    },
    {
     "cell_type": "code",
     "collapsed": false,
     "input": [
      "ls"
     ],
     "language": "python",
     "metadata": {},
     "outputs": []
    },
    {
     "cell_type": "code",
     "collapsed": false,
     "input": [
      "!h5ls my_archive.h5"
     ],
     "language": "python",
     "metadata": {},
     "outputs": []
    },
    {
     "cell_type": "markdown",
     "metadata": {},
     "source": [
      "Note: the `!` allows to run shell commands from the notebook. `h5ls` is a command that lists the entries in an archive."
     ]
    },
    {
     "cell_type": "markdown",
     "metadata": {},
     "source": [
      "Reading from an archive\n",
      "-----------------------\n",
      "\n",
      "Imagine later on we want to read from our saved archive.\n",
      "We just open it again (the `'r'` flags means we just read from the archive and\n",
      "cannot modify it)"
     ]
    },
    {
     "cell_type": "code",
     "collapsed": false,
     "input": [
      "B = HDFArchive(\"my_archive.h5\",'r')"
     ],
     "language": "python",
     "metadata": {},
     "outputs": []
    },
    {
     "cell_type": "markdown",
     "metadata": {},
     "source": [
      "Objects are directly reconstructed from the archive."
     ]
    },
    {
     "cell_type": "code",
     "collapsed": false,
     "input": [
      "print B['number']"
     ],
     "language": "python",
     "metadata": {},
     "outputs": []
    },
    {
     "cell_type": "code",
     "collapsed": false,
     "input": [
      "from pytriqs.plot.mpl_interface import *\n",
      "oplot(B['GF'], RI='S')"
     ],
     "language": "python",
     "metadata": {},
     "outputs": []
    },
    {
     "cell_type": "code",
     "collapsed": false,
     "input": [
      "del B"
     ],
     "language": "python",
     "metadata": {},
     "outputs": []
    }
   ],
   "metadata": {}
  }
 ]
}