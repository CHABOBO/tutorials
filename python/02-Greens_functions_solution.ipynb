{
 "metadata": {
  "name": "",
  "signature": "sha256:f28963c53e7226ced0aa77a45355747130524bfe3b611972d8878f1f426c2900"
 },
 "nbformat": 3,
 "nbformat_minor": 0,
 "worksheets": [
  {
   "cells": [
    {
     "cell_type": "markdown",
     "metadata": {},
     "source": [
      "Solution of the exercises\n",
      "=========================\n",
      "\n",
      "Solution of exercise 1\n",
      "----------------------"
     ]
    },
    {
     "cell_type": "code",
     "collapsed": false,
     "input": [
      "from pytriqs.gf.local import *\n",
      "from pytriqs.plot.mpl_interface import *\n",
      "\n",
      "eps_d, V  = 0.3, 0.2\n",
      "g = GfReFreq(indices = ['s','d'], window = (-2, 2), name = \"s+d\")\n",
      "g['d','d'] = Omega - eps_d\n",
      "g['d','s'] = V\n",
      "g['s','d'] = V\n",
      "g['s','s'] = inverse( Wilson(1.0) )\n",
      "g.invert()\n",
      "oplot( g['d','d'], '-', lw=2, RI = 'S', x_window  = (-1.8,1.8), name = \"Impurity\" )\n",
      "oplot( g['s','s'], '-', lw=2, RI = 'S', x_window  = (-1.8,1.8), name = \"Bath\" )"
     ],
     "language": "python",
     "metadata": {},
     "outputs": []
    },
    {
     "cell_type": "markdown",
     "metadata": {},
     "source": [
      "Solution of exercise 2\n",
      "----------------------"
     ]
    },
    {
     "cell_type": "code",
     "collapsed": false,
     "input": [
      "for beta in [3, 10, 100]:\n",
      "    g = GfImFreq(indices=[0], beta=beta)\n",
      "    xr = arange(-1,1,0.1)\n",
      "    yr = []\n",
      "    for x in xr:\n",
      "        g << inverse(iOmega_n - x)\n",
      "        yr.append(g.density()[0,0])\n",
      "    plot(xr, yr, lw=3, label=r\"$\\beta = %i$\"%beta)\n",
      "    legend()"
     ],
     "language": "python",
     "metadata": {},
     "outputs": []
    },
    {
     "cell_type": "markdown",
     "metadata": {},
     "source": [
      "Solution of exercise 3\n",
      "----------------------"
     ]
    },
    {
     "cell_type": "code",
     "collapsed": false,
     "input": [
      "g_up = GfImFreq(indices=[0], beta=10)\n",
      "g_down = GfImFreq(indices=[0], beta=10)\n",
      "G = BlockGf(name_list=['up', 'down'], block_list=[g_up, g_down])\n",
      "\n",
      "# Loop over the blocks\n",
      "for name, g in G:\n",
      "    g << inverse(iOmega_n)\n",
      "\n",
      "oplot(G, '-o')\n",
      "plt.xlim(0,5)\n",
      "plt.ylim(-3.5,0.1)"
     ],
     "language": "python",
     "metadata": {},
     "outputs": []
    },
    {
     "cell_type": "markdown",
     "metadata": {},
     "source": [
      "Solution of exercise 4\n",
      "----------------------"
     ]
    },
    {
     "cell_type": "code",
     "collapsed": false,
     "input": [
      "U = 2.0\n",
      "\n",
      "g_0 = GfImFreq(indices=[0], beta=10)\n",
      "g = GfImFreq(indices=[0], beta=10)\n",
      "sigma = GfImFreq(indices=[0], beta=10)\n",
      "sigma_check = GfImFreq(indices=[0], beta=10)\n",
      "\n",
      "# Green's functions of the Hubbard atom\n",
      "g_0 << inverse(iOmega_n + U/2)\n",
      "g << 0.5*inverse(iOmega_n + U/2) + 0.5*inverse(iOmega_n - U/2)\n",
      "\n",
      "# Dyson's equation to find the self-energy\n",
      "sigma << inverse(g_0) - inverse(g)\n",
      "\n",
      "# Known solution\n",
      "sigma_check << U/2 + U*inverse(2*iOmega_n)\n",
      "\n",
      "oplot(sigma, '-o')\n",
      "oplot(sigma_check, '-x')\n",
      "plt.xlim(0,10)"
     ],
     "language": "python",
     "metadata": {},
     "outputs": []
    },
    {
     "cell_type": "markdown",
     "metadata": {},
     "source": [
      "Solution of exercise 5\n",
      "----------------------"
     ]
    },
    {
     "cell_type": "code",
     "collapsed": false,
     "input": [
      "# Set U\n",
      "U = 2.0\n",
      "beta = 100\n",
      "\n",
      "# Define and initialize G0 in freq\n",
      "g0_w = GfImFreq(indices=[0], beta=beta)\n",
      "g0_w << SemiCircular(1.0)\n",
      "\n",
      "# We will need these\n",
      "g0_t = GfImTime(indices=[0], beta=beta)\n",
      "sigma_t = GfImTime(indices=[0], beta=beta)\n",
      "sigma_w = GfImFreq(indices=[0], beta=beta)\n",
      "g_w = GfImFreq(indices=[0], beta=beta)\n",
      "\n",
      "# Compute second-order self-energy\n",
      "g0_t << InverseFourier(g0_w)\n",
      "sigma_t << U**2 * g0_t * g0_t * g0_t\n",
      "sigma_w << Fourier(sigma_t)\n",
      "\n",
      "# Dyson's equation\n",
      "g_w << inverse(inverse(g0_w) - sigma_w)\n",
      "\n",
      "oplot(g_w, '-o')\n",
      "plt.xlim(0,10)"
     ],
     "language": "python",
     "metadata": {},
     "outputs": []
    },
    {
     "cell_type": "markdown",
     "metadata": {},
     "source": [
      "Solution of exercise 6\n",
      "----------------------"
     ]
    },
    {
     "cell_type": "code",
     "collapsed": false,
     "input": [
      "g_r = GfReFreq(indices=[0], window=[-4,4])\n",
      "g_r.set_from_pade(g_w)\n",
      "oplot(g_r, RI='S', lw=2, name=\"Second-order\")\n",
      "\n",
      "g0_r = GfReFreq(indices=[0], window=[-4,4])\n",
      "g0_r << SemiCircular(1.1)\n",
      "oplot(g0_r, RI='S', name=\"Non-interacting\")"
     ],
     "language": "python",
     "metadata": {},
     "outputs": []
    }
   ],
   "metadata": {}
  }
 ]
}