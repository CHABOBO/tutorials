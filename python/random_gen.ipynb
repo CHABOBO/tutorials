{
 "metadata": {
  "name": "",
  "signature": "sha256:e80326088ed91d60eb57cb24ebd61681a05c64855fbbab87465a32ae612c6ae8"
 },
 "nbformat": 3,
 "nbformat_minor": 0,
 "worksheets": [
  {
   "cells": [
    {
     "cell_type": "code",
     "collapsed": false,
     "input": [
      "from pytriqs.random_generator import *"
     ],
     "language": "python",
     "metadata": {},
     "outputs": []
    },
    {
     "cell_type": "code",
     "collapsed": false,
     "input": [
      "print random_generator_names_list()"
     ],
     "language": "python",
     "metadata": {},
     "outputs": []
    }
   ],
   "metadata": {}
  }
 ]
}