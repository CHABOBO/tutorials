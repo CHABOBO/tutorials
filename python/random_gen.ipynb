{
 "metadata": {
  "name": "",
  "signature": "sha256:2bb6571b5f075b001eadaa85743073a7f2ddb45401e7f3538066f92a41f61b29"
 },
 "nbformat": 3,
 "nbformat_minor": 0,
 "worksheets": [
  {
   "cells": [
    {
     "cell_type": "code",
     "collapsed": false,
     "input": [
      "from pytriqs.random_generator import *"
     ],
     "language": "python",
     "metadata": {},
     "outputs": [],
     "prompt_number": 1
    },
    {
     "cell_type": "code",
     "collapsed": false,
     "input": [
      "print random_generator_names_list()"
     ],
     "language": "python",
     "metadata": {},
     "outputs": [
      {
       "output_type": "stream",
       "stream": "stdout",
       "text": [
        "['mt19937', 'mt11213b', 'lagged_fibonacci607', 'lagged_fibonacci1279', 'lagged_fibonacci2281', 'lagged_fibonacci3217', 'lagged_fibonacci4423', 'lagged_fibonacci9689', 'lagged_fibonacci19937', 'lagged_fibonacci23209', 'lagged_fibonacci44497', 'ranlux3']\n"
       ]
      }
     ],
     "prompt_number": 2
    },
    {
     "cell_type": "code",
     "collapsed": false,
     "input": [],
     "language": "python",
     "metadata": {},
     "outputs": []
    }
   ],
   "metadata": {}
  }
 ]
}