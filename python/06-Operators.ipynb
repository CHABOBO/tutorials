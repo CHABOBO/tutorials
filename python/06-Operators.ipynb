{
 "metadata": {
  "name": "",
  "signature": "sha256:a56724d6a676868a512ef7eb5d4cd1e4b234688db5aa634fe7864c4ad1d90e2f"
 },
 "nbformat": 3,
 "nbformat_minor": 0,
 "worksheets": [
  {
   "cells": [
    {
     "cell_type": "markdown",
     "metadata": {},
     "source": [
      "Manipulating fermionic operators\n",
      "================================\n",
      "\n",
      "Before we see how to use a CTQMC impurity solver, it will be useful to learn about operators. Indeed, one of the\n",
      "inputs of the CTQMC solver is a Hamiltonian in operator form.\n",
      "\n",
      "Fundamental operators\n",
      "---------------------\n",
      "\n",
      "After importing the operator module, the keyword `c_dag` and `c` allow to define new fermionic\n",
      "operator. `c_dag` and `c` are followed by two indices. Inspired by the block structure of Green's functions,\n",
      "the first index is a block index, while the second is the index within the block. Here's an example\n",
      "of operators as they would be defined if we had two block *up* and *down* of size 1:"
     ]
    },
    {
     "cell_type": "code",
     "collapsed": false,
     "input": [
      "from pytriqs.operators import *\n",
      "print c_dag('up',0)\n",
      "print c('up',0)\n",
      "print c_dag('down',0)\n",
      "print c('down',0)"
     ],
     "language": "python",
     "metadata": {},
     "outputs": []
    },
    {
     "cell_type": "markdown",
     "metadata": {},
     "source": [
      "Number operator\n",
      "---------------\n",
      "\n",
      "The keyword `n` is defined as $C^\\dagger C$"
     ]
    },
    {
     "cell_type": "code",
     "collapsed": false,
     "input": [
      "print n('up',0)"
     ],
     "language": "python",
     "metadata": {},
     "outputs": []
    },
    {
     "cell_type": "markdown",
     "metadata": {},
     "source": [
      "Operations with operators\n",
      "-------------------------\n",
      "\n",
      "Operators can be manipulated and anti-commutation relations will be used to simplify\n",
      "expressions"
     ]
    },
    {
     "cell_type": "code",
     "collapsed": false,
     "input": [
      "# Should give 0\n",
      "print n('up',0) - c_dag('up',0)*c('up',0)"
     ],
     "language": "python",
     "metadata": {},
     "outputs": []
    },
    {
     "cell_type": "code",
     "collapsed": false,
     "input": [
      "# Some calculation\n",
      "print n('up',0) - 2 * c_dag('up',0)*c('up',0)"
     ],
     "language": "python",
     "metadata": {},
     "outputs": []
    },
    {
     "cell_type": "code",
     "collapsed": false,
     "input": [
      "# Define the parameters\n",
      "U = 4\n",
      "mu = 3\n",
      "\n",
      "# H is an empty operator\n",
      "H = Operator()\n",
      "\n",
      "# Add elements to define a Hamiltonian\n",
      "H += U * n('up',0) * n('down',0)\n",
      "H -= mu * (n('up',0) + n('down',0))\n",
      "print H"
     ],
     "language": "python",
     "metadata": {},
     "outputs": []
    }
   ],
   "metadata": {}
  }
 ]
}