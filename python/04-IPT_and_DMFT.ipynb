{
 "cells": [
  {
   "cell_type": "markdown",
   "metadata": {},
   "source": [
    "A first DMFT calculation\n",
    "========================\n",
    "\n",
    "The goal of this notebook is to make a first DMFT calculation using an\n",
    "iterated perturbation theory (IPT) to solve the impurity problem.\n",
    "You will proceed in two steps: first you will set up the IPT\n",
    "impurity solver and then you will set up the DMFT loop.\n",
    "\n",
    "The iterated perturbation theory\n",
    "--------------------------------\n",
    "\n",
    "The IPT is a cheap way to solve the impurity problem which is restricted\n",
    "to half-filling (i.e., the chemical potential $\\mu=U/2$). It approximates the self-energy by second-order\n",
    "perturbation theory, just like in the last exercise of the notebook\n",
    "on Green's functions:\n",
    "\n",
    "$$ \\Sigma(i\\omega_n) = \\frac{U}{2} + U^2 \\int_0^\\beta d\\tau e^{i \\omega_n \\tau} G_0(\\tau)^3 $$\n",
    "\n",
    "### Exercise 1\n",
    "\n",
    "An impurity solver takes a non-interacting Green's function $G_0$\n",
    "as an input and returns the interacting Green's function $G$ as well as the\n",
    "self-energy $\\Sigma$.\n",
    "\n",
    "Write a function that takes $U$, $\\beta$ and $G_0(i\\omega)$ as an input and returns\n",
    "$G(i\\omega)$ and $\\Sigma(i\\omega)$. If you are more familiar with python, you can write a `Solver`\n",
    "class, constructed with $\\beta$ and with a member `solve` returning $G$ and\n",
    "$\\Sigma$ after the class member `G0` is initialized. The advantage of using a class\n",
    "is that Green's functions will not have to be constructed at every call of the\n",
    "function `solve`."
   ]
  },
  {
   "cell_type": "code",
   "execution_count": null,
   "metadata": {
    "collapsed": false
   },
   "outputs": [],
   "source": [
    "# VERSION 1\n",
    "# Function solve\n",
    "def solve(U, G0):\n",
    "    # code here\n",
    "    return G, Sigma\n",
    "\n",
    "# VERSION 2\n",
    "# Class version\n",
    "class IPTSolver:\n",
    "    def __init__(self, beta):\n",
    "        #define member self.g, self.sigma, self.g0\n",
    "        #code here\n",
    "        pass\n",
    "    def solve(self,U):\n",
    "        #code here\n",
    "        pass"
   ]
  },
  {
   "cell_type": "markdown",
   "metadata": {},
   "source": [
    "Dynamical mean-field theory\n",
    "----------------------------\n",
    "\n",
    "In DMFT, the lattice self-energy is approximated by that of an impurity\n",
    "model. One has to solve recursively a model in order to satisfy the\n",
    "self-consistency relation\n",
    "\n",
    "$$ G_\\mathrm{imp} = \\sum_k \\frac{1}{i \\omega_n + \\mu - \\epsilon_k - \\Sigma_\\mathrm{imp}} $$\n",
    "\n",
    "In practice one starts with a chosen $G_0$ and then solve the quantum\n",
    "impurity problem. This yield $\\Sigma_\\mathrm{imp}$. Using the self-consistency\n",
    "relation and Dyson's equation, we have a new proposal for $G_0$:\n",
    "\n",
    "$$ \\Big( G_0^\\mathrm{new} \\Big)^{-1} =\n",
    "\\Big( \\sum_k \\frac{1}{i \\omega_n + \\mu - \\epsilon_k - \\Sigma_\\mathrm{imp}} \\Big)^{-1}\n",
    "+ \\Sigma_\\mathrm{imp} $$\n",
    "\n",
    "We solve the quantum impurity for this new $G_0$ and loop until\n",
    "convergence\n",
    "\n",
    "<img src=\"files/selfcons.png\" width=40%>\n",
    "\n",
    "\n",
    "Bethe lattice DMFT\n",
    "------------------\n",
    "\n",
    "When the lattice is a Bethe lattice with infinite coordination, the self-consistency relation\n",
    "discussed above takes a particularly simple form\n",
    "\n",
    "$$ G_0^{-1} = i\\omega_n + \\mu - t^2 G $$\n",
    "\n",
    "### Exercise 2\n",
    "\n",
    "You will now implement the DMFT loop for the Bethe lattice using the IPT solver that you have\n",
    "defined above. We give you the beginning of the script so that you have the parameters.\n",
    "In order to see how the DMFT loops converge, plot the spectral function of the Green's function\n",
    "at every loop. Use Pade approximants to obtain the real-frequency Green's function."
   ]
  },
  {
   "cell_type": "code",
   "execution_count": null,
   "metadata": {
    "collapsed": false
   },
   "outputs": [],
   "source": [
    "# Parameters of the model\n",
    "t = 1.0\n",
    "U = 4.0\n",
    "beta = 20\n",
    "\n",
    "# Number of DMFT loops\n",
    "n_loops = 10\n",
    "\n",
    "# DMFT loop with self-consistency\n",
    "# code here"
   ]
  },
  {
   "cell_type": "markdown",
   "metadata": {},
   "source": [
    "Visualizing the Mott transition\n",
    "-------------------------------\n",
    "\n",
    "You now have all the material to do a scan for different values of $U$ and see how a Mott transition appears.\n",
    "\n",
    "### Exercise 3\n",
    "\n",
    "Write a script which scans values of $U$ between 2.0 and 8.0 and plot the spectral function.\n",
    "Where does the Mott transition appear?"
   ]
  },
  {
   "cell_type": "code",
   "execution_count": null,
   "metadata": {
    "collapsed": false
   },
   "outputs": [],
   "source": [
    "# Parameters of the model\n",
    "t = 1.0\n",
    "beta = 20\n",
    "n_loops = 10\n",
    "\n",
    "# Loop over values of U\n",
    "for U in arange(2.0, 7.5, 1.0):\n",
    "    continue\n",
    "    # Solve DMFT\n",
    "    # code here\n",
    "\n",
    "    # Get the real-axis G with Pade approximants\n",
    "    # Plot the spectral function"
   ]
  }
 ],
 "metadata": {
  "kernelspec": {
   "display_name": "Python 2",
   "language": "python",
   "name": "python2"
  },
  "language_info": {
   "codemirror_mode": {
    "name": "ipython",
    "version": 2
   },
   "file_extension": ".py",
   "mimetype": "text/x-python",
   "name": "python",
   "nbconvert_exporter": "python",
   "pygments_lexer": "ipython2",
   "version": "2.7.6"
  },
  "widgets": {
   "state": {},
   "version": "1.1.0"
  }
 },
 "nbformat": 4,
 "nbformat_minor": 0
}
