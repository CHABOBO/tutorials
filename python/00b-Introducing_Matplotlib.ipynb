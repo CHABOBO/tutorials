{
 "metadata": {
  "name": "",
  "signature": "sha256:acd6bc09e27d992449ded388c28bdbabc47c826f0f56fdab19f5ef3e5853eb1e"
 },
 "nbformat": 3,
 "nbformat_minor": 0,
 "worksheets": [
  {
   "cells": [
    {
     "cell_type": "markdown",
     "metadata": {},
     "source": [
      "Introducing Matplotlib\n",
      "======================\n",
      "\n",
      "matplotlib is used to plot data. It is a very powerful library that is interfaced to TRIQS.\n",
      "\n",
      "Goal of this tutorial\n",
      "---------------------\n",
      "\n",
      "This is an illustration of an **ipython notebook**. It will just plot the function\n",
      "\n",
      "$$ f(x) = e^x \\sin(5x) $$\n",
      "\n",
      "And then we'll just see how to make plots.\n",
      "\n",
      "Inline plots\n",
      "------------\n",
      "\n",
      "The first example here shows that when you invoke the notebook with\n",
      "<pre>\n",
      "ipython notebook --pylab inline\n",
      "</pre>\n",
      "then you have direct access to numpy and matplotlib commands and moreover\n",
      "the plots are directly displayed in the notebook."
     ]
    },
    {
     "cell_type": "code",
     "collapsed": false,
     "input": [
      "# The plot command takes the x coordinates as a first argument\n",
      "# then the y coordinates. The third argument controls the\n",
      "# way point look on the plot\n",
      "\n",
      "xr = arange(0,3,0.1)\n",
      "yr1 = exp(xr) * sin(5*xr)\n",
      "yr2 = exp(xr) * cos(5*xr)\n",
      "\n",
      "plot(xr, yr1, '-r', lw=3, label = 'red line')\n",
      "plot(xr, yr2, 'xb', label = 'blue line')\n",
      "legend()"
     ],
     "language": "python",
     "metadata": {},
     "outputs": []
    },
    {
     "cell_type": "markdown",
     "metadata": {},
     "source": [
      "Making the plot prettier\n",
      "------------------------\n",
      "\n",
      "We start off with the simplest example of a single plot.\n",
      "Note how you can change the line style, its width, the color, the symbols. The labels\n",
      "of the axis and their range is easily controlled."
     ]
    },
    {
     "cell_type": "code",
     "collapsed": false,
     "input": [
      "xr = arange(0,1,0.01)\n",
      "yr = sin(xr)\n",
      "plot(xr,yr,'--b',lw=4)\n",
      "plot([-0.5,1.5],[0.0,0.4],'-g^',label='a line')\n",
      "legend()\n",
      "xlabel('time $t$')\n",
      "ylabel('$\\int \\, \\cos(t)$')\n",
      "axis([-1,2,-0.2,1.1])\n",
      "#xlim(0,2)"
     ],
     "language": "python",
     "metadata": {},
     "outputs": []
    },
    {
     "cell_type": "markdown",
     "metadata": {},
     "source": [
      "Subplots\n",
      "--------\n",
      "\n",
      "When you want to create subplots, you first have to create a figure. Then with the command\n",
      "<pre>\n",
      "subplot(lmi)\n",
      "</pre>\n",
      "you create an l x m array of plots and select the i-th subplot."
     ]
    },
    {
     "cell_type": "code",
     "collapsed": false,
     "input": [
      "xr = arange(0,10,0.01)\n",
      "figure(1)\n",
      "subplot(211)\n",
      "plot(xr,sin(xr),'b')\n",
      "title(\"subplot 1\")\n",
      "ylabel('sin')\n",
      "subplot(212)\n",
      "plot(xr,cos(xr),'r')\n",
      "title(\"subplot 2\")\n",
      "ylabel('cos')\n",
      "xlabel(r'$\\omega$',)\n",
      "figure(2)\n",
      "plot(xr,exp(-0.1*xr**2),label='some function here')\n",
      "legend()\n",
      "title(\"figure 2\")"
     ],
     "language": "python",
     "metadata": {},
     "outputs": []
    },
    {
     "cell_type": "markdown",
     "metadata": {},
     "source": [
      "Histograms and text\n",
      "-------------------\n",
      "\n",
      "The example below shows how to create a histogram and how to add text in the plot.\n",
      "Note how the alpha = 0.3 is used to control transparency."
     ]
    },
    {
     "cell_type": "code",
     "collapsed": false,
     "input": [
      "mu, sigma = 100, 15\n",
      "x = mu + sigma * random.randn(10000)\n",
      "xr = arange(50,150,0.1)\n",
      "\n",
      "hist(x, 50, normed=1, facecolor='r', alpha=0.3)\n",
      "plot(xr,0.028*exp(-0.0025*(xr-100)**2),'b',lw=3)\n",
      "\n",
      "xlabel('Smarts')\n",
      "ylabel('Probability')\n",
      "title('Histogram')\n",
      "text(45, .025, r'$\\mu=100,\\ \\sigma=15$',fontsize=20)\n",
      "axis([40, 160, 0, 0.03])\n",
      "grid(True)"
     ],
     "language": "python",
     "metadata": {},
     "outputs": []
    },
    {
     "cell_type": "markdown",
     "metadata": {},
     "source": [
      "Python-like approach to matplotlib\n",
      "----------------------------------\n",
      "\n",
      "Above, we have used a matlab-like commands to control the plot creation. Behind the curtains\n",
      "matplotlib still works with python objects, so that a figure is a python object. Adding a plot\n",
      "in the figure is then done with the\n",
      "<pre>\n",
      "add_axes\n",
      "</pre>\n",
      "command. This creates an \"axes\" object (a plot). Calling the methods\n",
      "<pre>\n",
      "set_title\n",
      "set_xlabel, ...\n",
      "</pre>\n",
      "you can act on the different part of the plot, etc. This approach is very powerful and\n",
      "allows to quite easily put an inset in your plot."
     ]
    },
    {
     "cell_type": "code",
     "collapsed": false,
     "input": [
      "xr = arange(0,3,0.2)\n",
      "yr = tanh(xr)\n",
      "\n",
      "fig = figure(1)\n",
      "ax = fig.add_axes([0., 0.8, 1.5, 0.9])\n",
      "ax.set_title(\"My axes\",fontsize=20)\n",
      "ax.set_xlabel(r'$x$',fontsize=20)\n",
      "ax.set_ylabel(r'$\\tanh(x)$',fontsize=20)\n",
      "ax.plot(xr,yr,'o')\n",
      "subax = fig.add_axes([0.45,0.85,1.,0.5])\n",
      "subax.plot(xr,sin(xr),'r',label='sinus')\n",
      "legend()"
     ],
     "language": "python",
     "metadata": {},
     "outputs": []
    },
    {
     "cell_type": "markdown",
     "metadata": {},
     "source": [
      "More examples\n",
      "-------------\n",
      "\n",
      "Here are some example written by thomas during the course. They summarize what is described\n",
      "above."
     ]
    },
    {
     "cell_type": "code",
     "collapsed": false,
     "input": [
      "xr = arange(0,3,.1)\n",
      "yr1 = exp(xr)*(sin(5*xr))\n",
      "yr2 = exp(xr)*(cos(5*xr))\n",
      "figure(1)\n",
      "plot(xr,yr1,'-r',lw=3, label='a first curve')\n",
      "plot(xr,yr2,'--b',lw=3, label='$e^{x} \\cos(5 x)$')\n",
      "legend()\n",
      "xlabel('time $t$')\n",
      "ylabel('$\\int \\, \\cos(t) $')\n",
      "\n",
      "figure(2)\n",
      "plot(xr,yr1*3.,'-.b^',lw=1, label='a second curve')\n",
      "legend()\n",
      "xlabel('time $t$')\n",
      "ylabel('$\\int \\, \\cos(t) $')\n",
      "\n",
      "\n",
      "figure(3)\n",
      "subplot(211)\n",
      "plot(xr,yr1,'-r',lw=3, label='a first curve')\n",
      "legend()\n",
      "ylabel('$\\int \\, \\cos(t) $')\n",
      "subplot(212)\n",
      "plot(xr,yr2,'--b',lw=3, label='$e^{x} \\cos(5 x)$')\n",
      "legend()\n",
      "xlabel('time $t$')\n",
      "ylabel('$\\int \\, \\cos(t) $')\n",
      "\n",
      "\n",
      "figure(4)\n",
      "\n",
      "subplot(121)\n",
      "title('My title')\n",
      "plot(xr,yr1,'-r',lw=3, label='a first curve')\n",
      "legend()\n",
      "ylabel('$\\int \\, \\cos(t) $')\n",
      "xlabel('time $t$')\n",
      "subplot(122)\n",
      "grid(True)\n",
      "plot(xr,yr2,'--b',lw=3, label='$e^{x} \\cos(5 x)$')\n",
      "legend()\n",
      "xlabel('time $t$')\n",
      "\n",
      "figure(5)\n",
      "\n",
      "a = loadtxt(\"my_data.dat\")\n",
      "plot(a[:,0],a[:,1],'-o')"
     ],
     "language": "python",
     "metadata": {},
     "outputs": []
    }
   ],
   "metadata": {}
  }
 ]
}