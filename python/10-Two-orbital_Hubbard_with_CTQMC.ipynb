{
 "cells": [
  {
   "cell_type": "markdown",
   "metadata": {},
   "source": [
    "Two-orbital Hubbard model\n",
    "=========================\n",
    "\n",
    "You will generalize the previous study to a two-orbital problem.\n",
    "We will still focus on a Bethe lattice so that the DMFT self-consistency is simple. For the interaction\n",
    "Hamiltonian, we will consider the Hubbard-Kanamori model for two bands. The Hamiltonian consists of density-density, spin-flip and pair-hopping terms:\n",
    "\n",
    "$$\n",
    "  H_{HK} =          U \\sum_{i} n_{i \\uparrow} n_{i \\downarrow}\n",
    "             + (U-2J) \\sum_{i \\neq i'} n_{i \\uparrow} n_{i' \\downarrow}\n",
    "             + (U-3J) \\sum_{i < i', \\sigma} n_{i \\sigma} n_{i' \\sigma} \n",
    "             - J \\sum_{i \\neq i'} a^\\dagger_{i \\uparrow} a_{i \\downarrow} a^\\dagger_{i' \\downarrow} a_{i' \\uparrow}\n",
    "             + J \\sum_{i \\neq i'} a^\\dagger_{i \\uparrow} a^\\dagger_{i \\downarrow} a_{i' \\downarrow} a_{i' \\uparrow},\n",
    "$$\n",
    "\n",
    "For this problem, the DMFT self-consistency still reads\n",
    "\n",
    "$$\n",
    "G_{0 i \\sigma}^{-1} (i\\omega_n) = i\\omega_n + \\mu - t^2 G_{i \\sigma} (i\\omega_n)\n",
    "$$\n",
    "\n",
    "Note that the Green's functions are diagonal in spin and orbital indices.\n",
    "You will see that there is a variable `filling` that can be set either to `half` or to\n",
    "`quarter` and that defines the filling of the problem. Warning: don't run the script. It is just here\n",
    "for illustration purposes."
   ]
  },
  {
   "cell_type": "code",
   "execution_count": null,
   "metadata": {
    "collapsed": true
   },
   "outputs": [],
   "source": [
    "%load run_two_bands.py"
   ]
  },
  {
   "cell_type": "markdown",
   "metadata": {},
   "source": [
    "Exercise 1\n",
    "----------\n",
    "\n",
    "Start by studying the problem at half-filling. By varying $U$ find the critical $U_c$ for the Mott transition for different values of $J$. How does $U_c$ change with $J$? Hint: take the following values for $J/U = 0.0, 0.1, 0.2$ and values of $U/t$ between 1 and 12."
   ]
  },
  {
   "cell_type": "markdown",
   "metadata": {},
   "source": [
    "Exercise 2\n",
    "----------\n",
    "\n",
    "Do the same study as in Exercise 1, but at quarter-filling. How does $U_c$ change with $J$? Take again values of $J/U = 0.0, 0.1, 0.2$ and values of $U/t$ between 1 and 12."
   ]
  }
 ],
 "metadata": {
  "kernelspec": {
   "display_name": "Python 2",
   "language": "python",
   "name": "python2"
  },
  "language_info": {
   "codemirror_mode": {
    "name": "ipython",
    "version": 2
   },
   "file_extension": ".py",
   "mimetype": "text/x-python",
   "name": "python",
   "nbconvert_exporter": "python",
   "pygments_lexer": "ipython2",
   "version": "2.7.11+"
  },
  "widgets": {
   "state": {},
   "version": "1.1.0"
  }
 },
 "nbformat": 4,
 "nbformat_minor": 0
}
