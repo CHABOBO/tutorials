{
 "cells": [
  {
   "cell_type": "markdown",
   "metadata": {},
   "source": [
    "Single-orbital Hubbard model\n",
    "============================\n",
    "\n",
    "In this notebook you will reproduce the Bethe lattice DMFT that we have done earlier with IPT,\n",
    "but you will use the CTHYB solver to find the solution of the impurity problem. We will still\n",
    "consider the problem at half-filling. \n",
    "\n",
    "In general it is a good idea to develop the script in the notebook, because it is very convenient to find bugs and to quickly come to a working code. In the beginning you should use a small number of Monte Carlo iterations (say 1000) so that the script runs quickly. Your first main goal is to have a functional script. However, once the script is done, I recommend that you do longer runs (production runs) from a shell. It will be easier for you to see the progress of the Monte Carlo solver. Think about saving the relevant data to an archive and then go back to the notebook when it comes to analyzing, plotting the results. This is usually how things are done: elaboration of the scripts and analysis of the data from the notebook, production from a shell.\n",
    "\n",
    "In order to run your script from a shell, open a terminal and go in the tutorial directory.\n",
    "This is where you should edit your production script. Let's call it `run_dmft.py`. Use `vi` or `gedit` to create\n",
    "the script\n",
    "\n",
    "`>>> vi run_dmft.py`\n",
    "\n",
    "When the script is written save it and run it with `pytriqs`. This is the name of the TRIQS executable.\n",
    "\n",
    "`>>> pytriqs run_dmft.py`\n",
    "\n",
    "That's it! When the run is done and data has been saved into an archive, you can go back to the notebook and read the archive in order to analyze or plot the results."
   ]
  },
  {
   "cell_type": "markdown",
   "metadata": {},
   "source": [
    "Exercise 1\n",
    "----------\n",
    "\n",
    "Write a DMFT loop, like you did earlier but using the CTHYB solver. \n",
    "\n",
    "*Hint*: It is useful to symmetrize the Green's function (make the `up` and `down` components the same) to avoid some artificial polarization of the system close to the Mott transition. You might want to enforce the `up`-`down` symmetry on `S.G` just before the self-consistency condition. In order\n",
    "to have reasonable data you should have at least 10000 cycles."
   ]
  },
  {
   "cell_type": "code",
   "execution_count": null,
   "metadata": {
    "collapsed": false
   },
   "outputs": [],
   "source": [
    "from pytriqs.gf.local import *\n",
    "from pytriqs.operators import *\n",
    "from pytriqs.archive import *\n",
    "from pytriqs.applications.impurity_solvers.cthyb import Solver\n",
    "from numpy import *\n",
    "\n",
    "# Parameters of the model\n",
    "t = 1.0\n",
    "beta = 50\n",
    "n_loops = 10\n",
    "U = 4.0\n",
    "\n",
    "# code here\n",
    "\n",
    "# DMFT loop with self-consistency\n",
    "# code here"
   ]
  },
  {
   "cell_type": "markdown",
   "metadata": {},
   "source": [
    "Exercise 2\n",
    "----------\n",
    "\n",
    "Here, you will learn to analyze the output of the solver. As discussed, the Monte Carlo algorithm provide results on the\n",
    "Matsubara axis. This makes the analysis of the results slightly more delicate than if we had them directly on the real\n",
    "axis. When we used the IPT solver, we could see the Mott transition as the appearance of a gap in the spectral function.\n",
    "After the Monte Carlo run, we do not have the spectral function, so we will have to use some other criteria to decide, e.g.,\n",
    "if the system is metallic or insulating.\n",
    "\n",
    "Plot the Green's function at the end of the DMFT loops for several values of $U$ (say between 2 and 8). Focus on the extrapolation of the imaginary part of the Green's function to zero frequency. How does it change with $U$? Is there\n",
    "a way to see the Mott transition just by inspecting the imaginary part of the Green's function?"
   ]
  },
  {
   "cell_type": "markdown",
   "metadata": {},
   "source": [
    "Exercise 3\n",
    "----------\n",
    "\n",
    "Do the same exercise as above, but analyze the self-energy. The noise usually gets bigger for larger frequencies, so just focus on the first few Matsubara frequencies. There the noise should not be too important. Again, by looking at the extrapolation to zero frequency of the imaginary part of the self-energy, can you tell where the Mott transition happens?"
   ]
  },
  {
   "cell_type": "markdown",
   "metadata": {},
   "source": [
    "Exercise 4\n",
    "----------\n",
    "\n",
    "A very useful quantity to measure the degree of correlation of a metal is the *quasiparticle weight* $Z$. It is defined as\n",
    "\n",
    "$$\n",
    "Z = \\lim_{\\omega_n \\rightarrow 0} \\Big( 1 - \\frac{d\\mathrm{Im} \\Sigma(i\\omega_n)}{di\\omega_n} \\Big)^{-1}\n",
    "$$\n",
    "\n",
    "\n",
    "For a non-interacting metal $Z=1$. As correlations appear, $Z$ gradually gets smaller. It reaches 0 at the Mott transition. Make a plot of $Z$ versus $U$ for the Bethe lattice Hubbard model. \n",
    "\n",
    "*Hint*: In order to have access to the values of $\\Sigma_\\uparrow(i\\omega_n)$, you can use `S.Sigma['up'](n)`. This will be useful to numerically compute the derivative required to compute $Z$."
   ]
  },
  {
   "cell_type": "markdown",
   "metadata": {},
   "source": [
    "Exercise 5\n",
    "----------\n",
    "\n",
    "Go back to your IPT code and try to modify it to extract the $Z$ versus $U$ curve. Compare this to the result you found in Exercise 4. Is the critical $U$ for the Mott transition similar to the one you found using CTHYB?"
   ]
  },
  {
   "cell_type": "markdown",
   "metadata": {},
   "source": [
    "Exercise 6\n",
    "----------\n",
    "\n",
    "Try to analytically continue the Green's function on the real axis using Pade approximants. What can\n",
    "say about the result?"
   ]
  },
  {
   "cell_type": "markdown",
   "metadata": {},
   "source": [
    "Exercise 7\n",
    "----------\n",
    "\n",
    "Use MaxEnt to do the analytical continuation. To do so, use the `performMaxent` method that is\n",
    "provided. Note that MaxEnt has to be done on the imaginary-time Green's function, so you will have to\n",
    "Fourier transform the Matsubara Green's function. Also note that this MaxEnt is not part of the public\n",
    "release of TRIQS because some more cleaning of the code has to be done. Finally, the MaxEnt does take some time,\n",
    "so be patient! Here's an example of how to call the method to do MaxEnt."
   ]
  },
  {
   "cell_type": "code",
   "execution_count": null,
   "metadata": {
    "collapsed": false
   },
   "outputs": [],
   "source": [
    "# import the maxent function performMaxent\n",
    "from pytriqs.applications.maxent_bryan import performMaxent\n",
    "\n",
    "# MaxEnt parameters\n",
    "NOmega = 100\n",
    "wmin = -10.\n",
    "wmax = 10.\n",
    "sigma = 0.05\n",
    "sumRule = 1.\n",
    "\n",
    "# Here comes the code to generate or get\n",
    "# the imaginary frequency Green's function g_w\n",
    "# gw = .....\n",
    "\n",
    "# A Green's function in time set by inverse Fourier transform\n",
    "g_t = GfImTime(indices=[0], beta=10)\n",
    "g_t << InverseFourier(g_w)\n",
    "\n",
    "# Run Maxent and plot the spectral function A\n",
    "[A, Gtrepr, log] = performMaxent(g_t, NOmega, wmin, wmax, sigma, sumRule)\n",
    "plot(A[:,0], A[:,1], '-o')"
   ]
  },
  {
   "cell_type": "markdown",
   "metadata": {},
   "source": [
    "What can you say about the MaxEnt result? How does it compare to the Pade approach?"
   ]
  }
 ],
 "metadata": {
  "kernelspec": {
   "display_name": "Python 2",
   "language": "python",
   "name": "python2"
  },
  "language_info": {
   "codemirror_mode": {
    "name": "ipython",
    "version": 2
   },
   "file_extension": ".py",
   "mimetype": "text/x-python",
   "name": "python",
   "nbconvert_exporter": "python",
   "pygments_lexer": "ipython2",
   "version": "2.7.6"
  },
  "widgets": {
   "state": {},
   "version": "1.1.0"
  }
 },
 "nbformat": 4,
 "nbformat_minor": 0
}
