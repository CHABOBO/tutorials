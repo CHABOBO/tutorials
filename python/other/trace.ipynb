{
 "cells": [
  {
   "cell_type": "markdown",
   "metadata": {},
   "source": [
    "#Trace calculation\n",
    "Compute $\\mathrm{Tr}(A+B)$ using expression templates."
   ]
  },
  {
   "cell_type": "code",
   "execution_count": 1,
   "metadata": {
    "collapsed": false
   },
   "outputs": [],
   "source": [
    "%reload_ext pytriqs.magic"
   ]
  },
  {
   "cell_type": "code",
   "execution_count": 2,
   "metadata": {
    "collapsed": false
   },
   "outputs": [
    {
     "name": "stdout",
     "output_type": "stream",
     "text": [
      "----------  Make error -------\n",
      "Scanning dependencies of target ext\n",
      "[100%] Building CXX object CMakeFiles/ext.dir/ext_wrap.cpp.o\n",
      "In file included from /homepmc/priyanka.seth/SOURCES/TRIQS/install/include/triqs/python_tools/converters/arrays.hpp:2:0,\n",
      "                 from /mnt/home/priyanka.seth/.cache/ipython/triqs/_triqs_magic_b3a5981bee8165accdbf707f28552a19/ext_wrap.cpp:7:\n",
      "/homepmc/priyanka.seth/SOURCES/TRIQS/install/include/triqs/python_tools/converters/../wrapper_tools.hpp: In instantiation of 'PyObject* triqs::py_tools::convert_to_python(T&&) [with T = std::pair<std::vector<int, std::allocator<int> >, triqs::arrays::array<double, 2> >; PyObject = _object]':\n",
      "/mnt/home/priyanka.seth/.cache/ipython/triqs/_triqs_magic_b3a5981bee8165accdbf707f28552a19/ext_wrap.cpp:104:57:   required from here\n",
      "/homepmc/priyanka.seth/SOURCES/TRIQS/install/include/triqs/python_tools/converters/../wrapper_tools.hpp:51:76: error: incomplete type 'triqs::py_tools::py_converter<std::pair<std::vector<int, std::allocator<int> >, triqs::arrays::array<double, 2> > >' used in nested name specifier\n",
      "  return py_converter<typename std::decay<T>::type>::c2py(std::forward<T>(x));\n",
      "                                                                            ^\n",
      "make[2]: *** [CMakeFiles/ext.dir/ext_wrap.cpp.o] Error 1\n",
      "make[1]: *** [CMakeFiles/ext.dir/all] Error 2\n",
      "make: *** [all] Error 2\n",
      "\n"
     ]
    }
   ],
   "source": [
    "%%triqs -u stl\n",
    "#include <chrono>\n",
    "#include <iostream>\n",
    "\n",
    "std::pair<std::vector<int>,array<double,2>> trace_time(int reps){\n",
    "\n",
    " using namespace triqs;\n",
    " using namespace triqs::arrays;\n",
    "\n",
    " std::vector<int> size;\n",
    " array<double,2> times(3,100);\n",
    "\n",
    " for(int i=0, dim=10; i<100; i++, dim+=10){\n",
    "\n",
    "  auto A = matrix<double>(dim, dim); A()=0;\n",
    "  auto B = matrix<double>(dim, dim); B()=0;\n",
    "\n",
    "  double time1=0, time2=0, time3=0;\n",
    "\n",
    "  std::chrono::system_clock::time_point start = std::chrono::system_clock::now();\n",
    "  for(int r=0; r<reps; ++r) auto tr = trace(A+B); // Uses expression template\n",
    "  std::chrono::duration<double> sec = std::chrono::system_clock::now() - start;\n",
    "  time1 += sec.count();\n",
    " \n",
    "  start = std::chrono::system_clock::now();\n",
    "  for(int r=0; r<reps; ++r) auto tr = trace(matrix<double>(A+B)); // Object oriented way\n",
    "  sec = std::chrono::system_clock::now() - start;\n",
    "  time2 += sec.count();\n",
    "\n",
    "  start = std::chrono::system_clock::now();\n",
    "  double tr;\n",
    "  for(int r=0; r<reps; ++r){\n",
    "   tr = 0.;\n",
    "   for (int ind=0; ind<dim; ind++) // Low level\n",
    "    tr += A(ind,ind)+B(ind,ind);\n",
    "  }\n",
    "  sec = std::chrono::system_clock::now() - start;\n",
    "  time3 += sec.count();\n",
    "\n",
    "  std::cerr << tr; // Reuse tr, otherwise optimizer eliminates the loop \n",
    "\n",
    "  size.push_back(dim);\n",
    "  times(0,i)=time1/reps;\n",
    "  times(1,i)=time2/reps;\n",
    "  times(2,i)=time3/reps;\n",
    " }\n",
    "\n",
    " return std::make_pair(size,times);\n",
    "\n",
    "}\n"
   ]
  },
  {
   "cell_type": "code",
   "execution_count": 3,
   "metadata": {
    "collapsed": false
   },
   "outputs": [
    {
     "ename": "NameError",
     "evalue": "name 'trace_time' is not defined",
     "output_type": "error",
     "traceback": [
      "\u001b[1;31m---------------------------------------------------------------------------\u001b[0m\n\u001b[1;31mNameError\u001b[0m                                 Traceback (most recent call last)",
      "\u001b[1;32m<ipython-input-3-2ff46b199da3>\u001b[0m in \u001b[0;36m<module>\u001b[1;34m()\u001b[0m\n\u001b[1;32m----> 1\u001b[1;33m \u001b[0ms\u001b[0m\u001b[1;33m,\u001b[0m\u001b[0mtimes\u001b[0m \u001b[1;33m=\u001b[0m \u001b[0mtrace_time\u001b[0m\u001b[1;33m(\u001b[0m\u001b[1;36m1000\u001b[0m\u001b[1;33m)\u001b[0m\u001b[1;33m\u001b[0m\u001b[0m\n\u001b[0m",
      "\u001b[1;31mNameError\u001b[0m: name 'trace_time' is not defined"
     ]
    }
   ],
   "source": [
    "s,times = trace_time(1000)"
   ]
  },
  {
   "cell_type": "code",
   "execution_count": null,
   "metadata": {
    "collapsed": false
   },
   "outputs": [],
   "source": [
    "figure(figsize=(15,5))\n",
    "gs=GridSpec(1,2)\n",
    "subplot(gs[0])\n",
    "xlim(-0.0001,500)\n",
    "ylim(0,0.001)\n",
    "xlabel('matrix size')\n",
    "ylabel('t (ms)')\n",
    "plot(s,times[0],label='TRIQS', lw=4.0)\n",
    "plot(s,times[1],label='matrix(A+B)', lw=2.0)\n",
    "plot(s,times[2],label='low level', lw=4.0)\n",
    "legend()\n",
    "subplot(gs[1])\n",
    "xlim(0,500)\n",
    "ylim(0,0.00001)\n",
    "xlabel('matrix size')\n",
    "ylabel('t (ms)')\n",
    "plot(s,times[0],label='TRIQS', lw=3.0)\n",
    "plot(s,times[1],label='matrix(A+B)', lw=2.0)\n",
    "plot(s,times[2],label='low level', lw=3.0)\n",
    "legend()\n",
    "savefig('trace.pdf')"
   ]
  },
  {
   "cell_type": "code",
   "execution_count": null,
   "metadata": {
    "collapsed": false
   },
   "outputs": [],
   "source": []
  }
 ],
 "metadata": {
  "kernelspec": {
   "display_name": "Python 2",
   "language": "python",
   "name": "python2"
  },
  "language_info": {
   "codemirror_mode": {
    "name": "ipython",
    "version": 2
   },
   "file_extension": ".py",
   "mimetype": "text/x-python",
   "name": "python",
   "nbconvert_exporter": "python",
   "pygments_lexer": "ipython2",
   "version": "2.7.6"
  }
 },
 "nbformat": 4,
 "nbformat_minor": 0
}
