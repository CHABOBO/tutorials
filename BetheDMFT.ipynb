{
 "metadata": {
  "name": "BetheDMFT"
 },
 "nbformat": 3,
 "nbformat_minor": 0,
 "worksheets": [
  {
   "cells": [
    {
     "cell_type": "markdown",
     "metadata": {},
     "source": [
      "A Bethe lattice DMFT calculation\n",
      "================================\n",
      "\n",
      "In this example we will do a full DMFT calculation on the Bethe lattice.\n",
      "A DMFT cycle goes like this:"
     ]
    },
    {
     "cell_type": "code",
     "collapsed": false,
     "input": [
      "from IPython.display import Image, HTML\n",
      "Image(filename=\"selfcons.png\")"
     ],
     "language": "python",
     "metadata": {},
     "outputs": []
    },
    {
     "cell_type": "markdown",
     "metadata": {},
     "source": [
      "In the case of a Bethe lattice, the self-consistency is very simple and directly relates\n",
      "the next non-interacting Green's function to the interacting Green's function\n",
      "\n",
      "$ $G_0^{-1} = i\\omega_n + \\mu - t^2 G $$\n",
      "\n",
      "Let us start by including the necessary libraries"
     ]
    },
    {
     "cell_type": "code",
     "collapsed": false,
     "input": [
      "from pytriqs.Base.GF_Local import *\n",
      "from pytriqs.Solvers.Operators import *                          # imports the class manipulating C, C_dagger and N = C_dagger C\n",
      "from pytriqs.Solvers.HybridizationExpansion import Solver        # imports the solver class"
     ],
     "language": "python",
     "metadata": {},
     "outputs": []
    },
    {
     "cell_type": "markdown",
     "metadata": {},
     "source": [
      "Next we set up the parameters of the calculation"
     ]
    },
    {
     "cell_type": "code",
     "collapsed": false,
     "input": [
      "Half_Bandwidth = 1.0    \n",
      "U = 2.5\n",
      "Chemical_Potential = U/2.0\n",
      "Beta = 100\n",
      "N_loops = 10"
     ],
     "language": "python",
     "metadata": {},
     "outputs": []
    },
    {
     "cell_type": "markdown",
     "metadata": {},
     "source": [
      "Now we construct the solver object with all the necessary parameters for the Monte Carlo"
     ]
    },
    {
     "cell_type": "code",
     "collapsed": false,
     "input": [
      "S = Solver(Beta = Beta,                                                       # inverse temperature\n",
      "           GFstruct = [ ('up',[1]), ('down',[1]) ],                           # Structure of the Green function \n",
      "           H_Local = U * N('up',1) * N('down',1),                             # Local Hamiltonian \n",
      "           Quantum_Numbers = { 'Nup' : N('up',1), 'Ndown' : N('down',1) },    # Quantum Numbers (operators commuting with H_Local)\n",
      "           N_Cycles = 50000,                                                  # Number of QMC cycles\n",
      "           Length_Cycle = 100,                                                # Length of a cycle\n",
      "           N_Warmup_Cycles = 1000,                                            # How many warmup cycles\n",
      "           N_Legendre_Coeffs = 30,                                            # Use 30 Legendre coefficients to represent G(tau)\n",
      "           Random_Generator_Name = \"mt19937\",                                 # Use the Mersenne Twister 19937 random generator\n",
      "           Use_Segment_Picture = True)                                        # Here we can use the segment picture"
     ],
     "language": "python",
     "metadata": {},
     "outputs": []
    },
    {
     "cell_type": "markdown",
     "metadata": {},
     "source": [
      "We need a first guess for the Green's function. Let's just put a semicircular density of states"
     ]
    },
    {
     "cell_type": "code",
     "collapsed": false,
     "input": [
      "S.G <<= SemiCircular(Half_Bandwidth)"
     ],
     "language": "python",
     "metadata": {},
     "outputs": []
    },
    {
     "cell_type": "markdown",
     "metadata": {},
     "source": [
      "We'll be willing to have some graphics showing the results. Let's import the necessary libraries:"
     ]
    },
    {
     "cell_type": "code",
     "collapsed": false,
     "input": [
      "from IPython.display import clear_output\n",
      "from pytriqs.Base.Plot.MatplotlibInterface import *"
     ],
     "language": "python",
     "metadata": {},
     "outputs": []
    },
    {
     "cell_type": "markdown",
     "metadata": {},
     "source": [
      "We're pretty much set. Now we can write the full DMFT loop:"
     ]
    },
    {
     "cell_type": "code",
     "collapsed": false,
     "input": [
      "fig = plt.figure(figsize=(12,8))\n",
      "for IterationNumber in range(N_loops):\n",
      "\n",
      "    # Compute S.G0 with the self-consistency condition while imposing paramagnetism \n",
      "    g = 0.5 * ( S.G['up'] + S.G['down'] )\n",
      "    for name, g0block in S.G0:\n",
      "        g0block <<= inverse( iOmega_n + Chemical_Potential - (Half_Bandwidth/2.0)**2  * g )\n",
      "    \n",
      "    # Run the solver\n",
      "    S.Solve()\n",
      "    \n",
      "    clear_output()\n",
      "    fig.clear()\n",
      "    oplot(S.G, figure = fig)\n",
      "    fig.axes[0].set_xlim(0,10)\n",
      "    display(fig)\n"
     ],
     "language": "python",
     "metadata": {},
     "outputs": []
    },
    {
     "cell_type": "code",
     "collapsed": false,
     "input": [
      "g_real = GFBloc_ReFreq(Indices = [0], Beta = Beta, MeshArray = arange(-3,3,0.1), Name = '0')\n",
      "for i in range(10):\n",
      "  g_real.setFromPadeOf(S.Sigma['down'], N_Matsubara_Frequencies = 10*(i+1), Freq_Offset = 0.05)\n",
      "  oplot(g_real, RI='S')"
     ],
     "language": "python",
     "metadata": {},
     "outputs": []
    },
    {
     "cell_type": "code",
     "collapsed": false,
     "input": [],
     "language": "python",
     "metadata": {},
     "outputs": []
    }
   ],
   "metadata": {}
  }
 ]
}