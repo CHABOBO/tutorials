{
 "cells": [
  {
   "cell_type": "code",
   "execution_count": null,
   "metadata": {
    "collapsed": false
   },
   "outputs": [],
   "source": [
    "%reload_ext pytriqs.magic"
   ]
  },
  {
   "cell_type": "code",
   "execution_count": null,
   "metadata": {
    "collapsed": false,
    "scrolled": false
   },
   "outputs": [],
   "source": [
    "%%triqs\n",
    "\n",
    "struct params{ \n",
    " int i;\n",
    " double x=0; \n",
    " params(){}  // default \n",
    "};\n",
    "\n",
    "double f(params const & a) {\n",
    " return a.i + a.x;   \n",
    "}\n"
   ]
  },
  {
   "cell_type": "code",
   "execution_count": null,
   "metadata": {
    "collapsed": false
   },
   "outputs": [],
   "source": [
    "p = Params()\n",
    "p.i, p.x =1, 2.9\n",
    "print p.i\n",
    "print f(p)"
   ]
  },
  {
   "cell_type": "code",
   "execution_count": null,
   "metadata": {
    "collapsed": false
   },
   "outputs": [],
   "source": [
    "%%triqs --only g\n",
    "#include <vector>\n",
    "#include <string>\n",
    "\n",
    "struct params{ \n",
    " int i;\n",
    " double x=0;   \n",
    " double z=3;\n",
    " std::string s = \"what ?\";   \n",
    " std::vector<int> v;\n",
    "};\n",
    "\n",
    "CPP2PY_ARG_AS_DICT\n",
    "double g(params const & a) {\n",
    "  std::cout << \"s = \" << a.s << std::endl;  \n",
    "  return a.i + a.x + a.v.at(0);   \n",
    "}"
   ]
  },
  {
   "cell_type": "code",
   "execution_count": null,
   "metadata": {
    "collapsed": false
   },
   "outputs": [],
   "source": [
    "g(i=1, x=2.9, v= [2], s= \"a string\")"
   ]
  },
  {
   "cell_type": "code",
   "execution_count": null,
   "metadata": {
    "collapsed": true
   },
   "outputs": [],
   "source": []
  }
 ],
 "metadata": {
  "kernelspec": {
   "display_name": "Python 2",
   "language": "python",
   "name": "python2"
  },
  "language_info": {
   "codemirror_mode": {
    "name": "ipython",
    "version": 2
   },
   "file_extension": ".py",
   "mimetype": "text/x-python",
   "name": "python",
   "nbconvert_exporter": "python",
   "pygments_lexer": "ipython2",
   "version": "2.7.10"
  },
  "widgets": {
   "state": {},
   "version": "1.1.2"
  }
 },
 "nbformat": 4,
 "nbformat_minor": 0
}
