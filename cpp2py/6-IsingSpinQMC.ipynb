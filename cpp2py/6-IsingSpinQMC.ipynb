{
 "cells": [
  {
   "cell_type": "code",
   "execution_count": 1,
   "metadata": {
    "collapsed": false,
    "run_control": {
     "frozen": false,
     "read_only": false
    }
   },
   "outputs": [],
   "source": [
    "%reload_ext pytriqs.magic"
   ]
  },
  {
   "cell_type": "code",
   "execution_count": 2,
   "metadata": {
    "collapsed": false,
    "run_control": {
     "frozen": false,
     "read_only": false
    }
   },
   "outputs": [
    {
     "name": "stderr",
     "output_type": "stream",
     "text": [
      "Starting on 1 Nodes at : 2016-11-15 14:49:46.130017\n"
     ]
    }
   ],
   "source": [
    "from pytriqs.utility import mpi"
   ]
  },
  {
   "cell_type": "code",
   "execution_count": 6,
   "metadata": {
    "collapsed": false,
    "run_control": {
     "frozen": false,
     "read_only": false
    },
    "scrolled": false
   },
   "outputs": [
    {
     "name": "stdout",
     "output_type": "stream",
     "text": [
      "----------------------------c++2py error ----------------------------\n",
      "Welcome to the wrapper desc file generator of TRIQS, based on libclang !\n",
      "Parsing the C++ file (may take a few seconds) ...\n",
      "... done. \n",
      "Extracting ...\n",
      "Traceback (most recent call last):\n",
      "  File \"/Users/parcolle/B/triqs/INSTALL_DIR/bin/c++2py.py\", line 95, in <module>\n",
      "    analyze_filter = analyze_filter)\n",
      "  File \"/Users/parcolle/triqs/BUILD/triqs/INSTALL_DIR/bin/clang_parser.py\", line 396, in parse\n",
      "    raise RuntimeError, s + \"\\n... Your code must compile before using clang-parser !\"\n",
      "RuntimeError: Clang reports the following errors in parsing\n",
      " file ./ext.cpp line 40 col 8\n",
      "use of undeclared identifier 'sign2'\n",
      "... Your code must compile before using clang-parser !\n",
      "\n"
     ]
    },
    {
     "ename": "RuntimeError",
     "evalue": "Error",
     "output_type": "error",
     "traceback": [
      "\u001b[0;31m---------------------------------------------------------------------------\u001b[0m",
      "\u001b[0;31mRuntimeError\u001b[0m                              Traceback (most recent call last)",
      "\u001b[0;32m<ipython-input-6-47aee2782f9f>\u001b[0m in \u001b[0;36m<module>\u001b[0;34m()\u001b[0m\n\u001b[0;32m----> 1\u001b[0;31m \u001b[0mget_ipython\u001b[0m\u001b[0;34m(\u001b[0m\u001b[0;34m)\u001b[0m\u001b[0;34m.\u001b[0m\u001b[0mrun_cell_magic\u001b[0m\u001b[0;34m(\u001b[0m\u001b[0;34mu'triqs'\u001b[0m\u001b[0;34m,\u001b[0m \u001b[0;34mu'--only qmc'\u001b[0m\u001b[0;34m,\u001b[0m \u001b[0;34mu'#include <triqs/mc_tools/mc_generic.hpp>\\n#include <triqs/utility/callbacks.hpp>\\n\\n// --------------- configuration : a spin +1, -1 ---------------\\n\\nstruct configuration {\\n int spin = -1;\\n};\\n\\n// --------------- a move: flip the spin ---------------\\nstruct flip {\\n configuration* config;\\n double beta_h;\\n\\n flip(configuration* config_, double beta, double h) : config(config_), beta_h(beta * h) {}\\n\\n double attempt() { return std::exp(-2 * config->spin * beta_h); }\\n\\n double accept() {\\n  config->spin *= -1;\\n  return 1.0;\\n }\\n\\n void reject() {}\\n};\\n\\n//  ----------------- a measurement: the magnetization ------------\\nclass compute_m {\\n configuration const * config;\\n double& avg_magn;\\n double Z = 0, M = 0;\\n public:   \\n\\n compute_m(configuration* config_, double& avg_magn) : config(config_), avg_magn(avg_magn) {}\\n\\n void accumulate(double sign) {\\n  Z += sign2;\\n  M += sign * config->spin;\\n }\\n\\n void collect_results(triqs::mpi::communicator c) {\\n  avg_magn = M/Z;\\n }\\n};\\n\\n//  ----------------- main ------------\\n\\ndouble qmc(double beta, double field) { \\n  \\n triqs::mpi::communicator world;\\n    \\n // #parameters of the Monte Carlo\\n int n_cycles = 5000000;\\n int length_cycle = 10;\\n int n_warmup_cycles = 10000;\\n std::string random_name = \"\";\\n int random_seed = 374982 + world.rank() * 273894;\\n int verbosity = (world.rank() == 0 ? 2 : 0);\\n\\n // #Generic Monte Carlo\\n triqs::mc_tools::mc_generic<double> SpinMC(random_name, random_seed, 1.0, verbosity);\\n\\n configuration config;\\n double mag;\\n\\n // #add moves and measures\\n SpinMC.add_move(flip(&config, beta, field), \"flip move\");\\n SpinMC.add_measure(compute_m(&config, mag), \"magnetization measure\");\\n\\n // #Run and collect results\\n SpinMC.warmup_and_accumulate(n_warmup_cycles, n_cycles, length_cycle, triqs::utility::clock_callback(600));\\n SpinMC.collect_results(world);\\n //std::cout << \"Finished calculation for field = \" << field << \".\" << std::endl;\\n return mag;\\n}'\u001b[0m\u001b[0;34m)\u001b[0m\u001b[0;34m\u001b[0m\u001b[0m\n\u001b[0m",
      "\u001b[0;32m/usr/local/lib/python2.7/site-packages/IPython/core/interactiveshell.pyc\u001b[0m in \u001b[0;36mrun_cell_magic\u001b[0;34m(self, magic_name, line, cell)\u001b[0m\n\u001b[1;32m   2113\u001b[0m             \u001b[0mmagic_arg_s\u001b[0m \u001b[0;34m=\u001b[0m \u001b[0mself\u001b[0m\u001b[0;34m.\u001b[0m\u001b[0mvar_expand\u001b[0m\u001b[0;34m(\u001b[0m\u001b[0mline\u001b[0m\u001b[0;34m,\u001b[0m \u001b[0mstack_depth\u001b[0m\u001b[0;34m)\u001b[0m\u001b[0;34m\u001b[0m\u001b[0m\n\u001b[1;32m   2114\u001b[0m             \u001b[0;32mwith\u001b[0m \u001b[0mself\u001b[0m\u001b[0;34m.\u001b[0m\u001b[0mbuiltin_trap\u001b[0m\u001b[0;34m:\u001b[0m\u001b[0;34m\u001b[0m\u001b[0m\n\u001b[0;32m-> 2115\u001b[0;31m                 \u001b[0mresult\u001b[0m \u001b[0;34m=\u001b[0m \u001b[0mfn\u001b[0m\u001b[0;34m(\u001b[0m\u001b[0mmagic_arg_s\u001b[0m\u001b[0;34m,\u001b[0m \u001b[0mcell\u001b[0m\u001b[0;34m)\u001b[0m\u001b[0;34m\u001b[0m\u001b[0m\n\u001b[0m\u001b[1;32m   2116\u001b[0m             \u001b[0;32mreturn\u001b[0m \u001b[0mresult\u001b[0m\u001b[0;34m\u001b[0m\u001b[0m\n\u001b[1;32m   2117\u001b[0m \u001b[0;34m\u001b[0m\u001b[0m\n",
      "\u001b[0;32m<decorator-gen-122>\u001b[0m in \u001b[0;36mtriqs\u001b[0;34m(self, line, cell)\u001b[0m\n",
      "\u001b[0;32m/usr/local/lib/python2.7/site-packages/IPython/core/magic.pyc\u001b[0m in \u001b[0;36m<lambda>\u001b[0;34m(f, *a, **k)\u001b[0m\n\u001b[1;32m    186\u001b[0m     \u001b[0;31m# but it's overkill for just that one bit of state.\u001b[0m\u001b[0;34m\u001b[0m\u001b[0;34m\u001b[0m\u001b[0m\n\u001b[1;32m    187\u001b[0m     \u001b[0;32mdef\u001b[0m \u001b[0mmagic_deco\u001b[0m\u001b[0;34m(\u001b[0m\u001b[0marg\u001b[0m\u001b[0;34m)\u001b[0m\u001b[0;34m:\u001b[0m\u001b[0;34m\u001b[0m\u001b[0m\n\u001b[0;32m--> 188\u001b[0;31m         \u001b[0mcall\u001b[0m \u001b[0;34m=\u001b[0m \u001b[0;32mlambda\u001b[0m \u001b[0mf\u001b[0m\u001b[0;34m,\u001b[0m \u001b[0;34m*\u001b[0m\u001b[0ma\u001b[0m\u001b[0;34m,\u001b[0m \u001b[0;34m**\u001b[0m\u001b[0mk\u001b[0m\u001b[0;34m:\u001b[0m \u001b[0mf\u001b[0m\u001b[0;34m(\u001b[0m\u001b[0;34m*\u001b[0m\u001b[0ma\u001b[0m\u001b[0;34m,\u001b[0m \u001b[0;34m**\u001b[0m\u001b[0mk\u001b[0m\u001b[0;34m)\u001b[0m\u001b[0;34m\u001b[0m\u001b[0m\n\u001b[0m\u001b[1;32m    189\u001b[0m \u001b[0;34m\u001b[0m\u001b[0m\n\u001b[1;32m    190\u001b[0m         \u001b[0;32mif\u001b[0m \u001b[0mcallable\u001b[0m\u001b[0;34m(\u001b[0m\u001b[0marg\u001b[0m\u001b[0;34m)\u001b[0m\u001b[0;34m:\u001b[0m\u001b[0;34m\u001b[0m\u001b[0m\n",
      "\u001b[0;32m/Users/parcolle/B/triqs/INSTALL_DIR/lib/python2.7/site-packages/pytriqs/magic.pyc\u001b[0m in \u001b[0;36mtriqs\u001b[0;34m(self, line, cell)\u001b[0m\n\u001b[1;32m    144\u001b[0m             \u001b[0monly_list\u001b[0m \u001b[0;34m=\u001b[0m \u001b[0;34m','\u001b[0m\u001b[0;34m.\u001b[0m\u001b[0mjoin\u001b[0m\u001b[0;34m(\u001b[0m\u001b[0margs\u001b[0m\u001b[0;34m.\u001b[0m\u001b[0monly\u001b[0m\u001b[0;34m)\u001b[0m\u001b[0;34m\u001b[0m\u001b[0m\n\u001b[1;32m    145\u001b[0m             \u001b[0monly_list\u001b[0m \u001b[0;34m=\u001b[0m \u001b[0;34m(\u001b[0m\u001b[0;34m\" --only \"\u001b[0m \u001b[0;34m+\u001b[0m \u001b[0monly_list\u001b[0m\u001b[0;34m)\u001b[0m \u001b[0;32mif\u001b[0m \u001b[0monly_list\u001b[0m \u001b[0;32melse\u001b[0m \u001b[0;34m''\u001b[0m\u001b[0;34m\u001b[0m\u001b[0m\n\u001b[0;32m--> 146\u001b[0;31m             \u001b[0mexecute\u001b[0m\u001b[0;34m(\u001b[0m\u001b[0mcpp2py_bin\u001b[0m \u001b[0;34m+\u001b[0m \u001b[0;34m\" ./ext.cpp -p -m ext -o ext\"\u001b[0m \u001b[0;34m+\u001b[0m \u001b[0monly_list\u001b[0m\u001b[0;34m,\u001b[0m \u001b[0;34m\"c++2py\"\u001b[0m\u001b[0;34m)\u001b[0m\u001b[0;34m\u001b[0m\u001b[0m\n\u001b[0m\u001b[1;32m    147\u001b[0m \u001b[0;34m\u001b[0m\u001b[0m\n\u001b[1;32m    148\u001b[0m             \u001b[0;31m# Call the wrapper generator\u001b[0m\u001b[0;34m\u001b[0m\u001b[0;34m\u001b[0m\u001b[0m\n",
      "\u001b[0;32m/Users/parcolle/B/triqs/INSTALL_DIR/lib/python2.7/site-packages/pytriqs/magic.pyc\u001b[0m in \u001b[0;36mexecute\u001b[0;34m(command, message)\u001b[0m\n\u001b[1;32m    137\u001b[0m                 \u001b[0;32mexcept\u001b[0m \u001b[0msubprocess\u001b[0m\u001b[0;34m.\u001b[0m\u001b[0mCalledProcessError\u001b[0m \u001b[0;32mas\u001b[0m \u001b[0mE\u001b[0m \u001b[0;34m:\u001b[0m\u001b[0;34m\u001b[0m\u001b[0m\n\u001b[1;32m    138\u001b[0m                    \u001b[0mprint_out\u001b[0m \u001b[0;34m(\u001b[0m \u001b[0mmessage\u001b[0m \u001b[0;34m+\u001b[0m \u001b[0;34m\" error \"\u001b[0m\u001b[0;34m,\u001b[0m \u001b[0mE\u001b[0m\u001b[0;34m.\u001b[0m\u001b[0moutput\u001b[0m\u001b[0;34m)\u001b[0m\u001b[0;34m\u001b[0m\u001b[0m\n\u001b[0;32m--> 139\u001b[0;31m                    \u001b[0;32mraise\u001b[0m \u001b[0mRuntimeError\u001b[0m\u001b[0;34m,\u001b[0m \u001b[0;34m\"Error\"\u001b[0m\u001b[0;34m\u001b[0m\u001b[0m\n\u001b[0m\u001b[1;32m    140\u001b[0m                 \u001b[0;32mif\u001b[0m \u001b[0margs\u001b[0m\u001b[0;34m.\u001b[0m\u001b[0mverbosity\u001b[0m\u001b[0;34m>\u001b[0m\u001b[0;36m0\u001b[0m\u001b[0;34m:\u001b[0m\u001b[0;34m\u001b[0m\u001b[0m\n\u001b[1;32m    141\u001b[0m                    \u001b[0mprint_out\u001b[0m\u001b[0;34m(\u001b[0m\u001b[0mmessage\u001b[0m\u001b[0;34m,\u001b[0m \u001b[0mout\u001b[0m\u001b[0;34m)\u001b[0m\u001b[0;34m\u001b[0m\u001b[0m\n",
      "\u001b[0;31mRuntimeError\u001b[0m: Error"
     ]
    }
   ],
   "source": [
    "%%triqs --only qmc\n",
    "#include <triqs/mc_tools/mc_generic.hpp>\n",
    "#include <triqs/utility/callbacks.hpp>\n",
    "\n",
    "// --------------- configuration : a spin +1, -1 ---------------\n",
    "\n",
    "struct configuration {\n",
    " int spin = -1;\n",
    "};\n",
    "\n",
    "// --------------- a move: flip the spin ---------------\n",
    "struct flip {\n",
    " configuration* config;\n",
    " double beta_h;\n",
    "\n",
    " flip(configuration* config_, double beta, double h) : config(config_), beta_h(beta * h) {}\n",
    "\n",
    " double attempt() { return std::exp(-2 * config->spin * beta_h); }\n",
    "\n",
    " double accept() {\n",
    "  config->spin *= -1;\n",
    "  return 1.0;\n",
    " }\n",
    "\n",
    " void reject() {}\n",
    "};\n",
    "\n",
    "//  ----------------- a measurement: the magnetization ------------\n",
    "class compute_m {\n",
    " configuration const * config;\n",
    " double& avg_magn;\n",
    " double Z = 0, M = 0;\n",
    " public:   \n",
    "\n",
    " compute_m(configuration* config_, double& avg_magn) : config(config_), avg_magn(avg_magn) {}\n",
    "\n",
    " void accumulate(double sign) {\n",
    "  Z += sign;\n",
    "  M += sign * config->spin;\n",
    " }\n",
    "\n",
    " void collect_results(triqs::mpi::communicator c) {\n",
    "  avg_magn = M/Z;\n",
    " }\n",
    "};\n",
    "\n",
    "//  ----------------- main ------------\n",
    "\n",
    "double qmc(double beta, double field) { \n",
    "  \n",
    " triqs::mpi::communicator world;\n",
    "    \n",
    " // #parameters of the Monte Carlo\n",
    " int n_cycles = 5000000;\n",
    " int length_cycle = 10;\n",
    " int n_warmup_cycles = 10000;\n",
    " std::string random_name = \"\";\n",
    " int random_seed = 374982 + world.rank() * 273894;\n",
    " int verbosity = (world.rank() == 0 ? 2 : 0);\n",
    "\n",
    " // #Generic Monte Carlo\n",
    " triqs::mc_tools::mc_generic<double> SpinMC(random_name, random_seed, 1.0, verbosity);\n",
    "\n",
    " configuration config;\n",
    " double mag;\n",
    "\n",
    " // #add moves and measures\n",
    " SpinMC.add_move(flip(&config, beta, field), \"flip move\");\n",
    " SpinMC.add_measure(compute_m(&config, mag), \"magnetization measure\");\n",
    "\n",
    " // #Run and collect results\n",
    " SpinMC.warmup_and_accumulate(n_warmup_cycles, n_cycles, length_cycle, triqs::utility::clock_callback(600));\n",
    " SpinMC.collect_results(world);\n",
    " //std::cout << \"Finished calculation for field = \" << field << \".\" << std::endl;\n",
    " return mag;\n",
    "}\n"
   ]
  },
  {
   "cell_type": "markdown",
   "metadata": {},
   "source": [
    "\n",
    "  $$\\mathcal{H} = - h (n_\\uparrow - n_\\downarrow)$$\n",
    "\n",
    "You want to compute the magnetization of this single spin. From statistical\n",
    "mechanics it is clearly just\n",
    "\n",
    "\n",
    "\n",
    "$$  m = \\frac{1 - \\exp(-2\\beta h)}{1 + \\exp(-2\\beta h)}$$"
   ]
  },
  {
   "cell_type": "code",
   "execution_count": 4,
   "metadata": {
    "collapsed": false,
    "run_control": {
     "frozen": false,
     "read_only": false
    }
   },
   "outputs": [],
   "source": [
    "import numpy as np\n",
    "X = np.arange(0.1,2,0.2)\n",
    "r = [qmc(2, h) for h in X]"
   ]
  },
  {
   "cell_type": "code",
   "execution_count": 5,
   "metadata": {
    "collapsed": false,
    "run_control": {
     "frozen": false,
     "read_only": false
    }
   },
   "outputs": [
    {
     "name": "stderr",
     "output_type": "stream",
     "text": [
      "/usr/local/lib/python2.7/site-packages/matplotlib/font_manager.py:273: UserWarning: Matplotlib is building the font cache using fc-list. This may take a moment.\n",
      "  warnings.warn('Matplotlib is building the font cache using fc-list. This may take a moment.')\n"
     ]
    },
    {
     "data": {
      "text/plain": [
       "<matplotlib.legend.Legend at 0x10b7f4c10>"
      ]
     },
     "execution_count": 5,
     "metadata": {},
     "output_type": "execute_result"
    },
    {
     "data": {
      "image/png": "[encoded data removed]",
      "text/plain": [
       "<matplotlib.figure.Figure at 0x10a979210>"
      ]
     },
     "metadata": {},
     "output_type": "display_data"
    }
   ],
   "source": [
    "%matplotlib inline \n",
    "import matplotlib.pyplot as plt\n",
    "r_theo = [(1- np.exp(-2 * 2*h))/ (1+ np.exp(-2 * 2*h)) for h in X]\n",
    "plt.plot(X, r, '-o', label='Calculated')\n",
    "plt.plot(X, r_theo, label='Theoretical')\n",
    "plt.xlim(0,2)\n",
    "plt.ylim(0,1)\n",
    "plt.legend()"
   ]
  },
  {
   "cell_type": "code",
   "execution_count": null,
   "metadata": {
    "collapsed": true,
    "run_control": {
     "frozen": false,
     "read_only": false
    }
   },
   "outputs": [],
   "source": []
  }
 ],
 "metadata": {
  "kernelspec": {
   "display_name": "Python 2",
   "language": "python",
   "name": "python2"
  },
  "language_info": {
   "codemirror_mode": {
    "name": "ipython",
    "version": 2
   },
   "file_extension": ".py",
   "mimetype": "text/x-python",
   "name": "python",
   "nbconvert_exporter": "python",
   "pygments_lexer": "ipython2",
   "version": "2.7.12"
  },
  "latex_envs": {
   "bibliofile": "biblio.bib",
   "cite_by": "apalike",
   "current_citInitial": 1,
   "eqLabelWithNumbers": true,
   "eqNumInitial": 0
  },
  "nav_menu": {},
  "toc": {
   "navigate_menu": true,
   "number_sections": true,
   "sideBar": true,
   "threshold": 6,
   "toc_cell": false,
   "toc_section_display": "block",
   "toc_window_display": false
  },
  "widgets": {
   "state": {},
   "version": "1.1.2"
  }
 },
 "nbformat": 4,
 "nbformat_minor": 0
}
