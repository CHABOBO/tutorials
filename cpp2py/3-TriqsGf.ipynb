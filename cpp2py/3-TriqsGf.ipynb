{
 "cells": [
  {
   "cell_type": "code",
   "execution_count": 1,
   "metadata": {
    "collapsed": false,
    "deletable": true,
    "editable": true,
    "run_control": {
     "frozen": false,
     "read_only": false
    }
   },
   "outputs": [],
   "source": [
    "%reload_ext pytriqs.magic"
   ]
  },
  {
   "cell_type": "markdown",
   "metadata": {
    "deletable": true,
    "editable": true,
    "run_control": {
     "frozen": false,
     "read_only": false
    }
   },
   "source": [
    "# Manipulate the TRIQS Green function"
   ]
  },
  {
   "cell_type": "code",
   "execution_count": 2,
   "metadata": {
    "collapsed": false,
    "deletable": true,
    "editable": true,
    "run_control": {
     "frozen": false,
     "read_only": false
    }
   },
   "outputs": [],
   "source": [
    "%%triqs             \n",
    "#include <triqs/gfs.hpp>\n",
    "using namespace triqs;\n",
    "using namespace triqs::gfs;\n",
    "        \n",
    "gf<imfreq> demo(double beta) {\n",
    "\n",
    " int n_freq = 1000;\n",
    "\n",
    " clef::placeholder<0> iw_;\n",
    "\n",
    " // Construction of a 1x1 matrix-valued fermionic gf on Matsubara frequencies.\n",
    " auto g_iw = gf<imfreq>{{beta, Fermion, n_freq}, {1, 1}};\n",
    "\n",
    " // Automatic placeholder evaluation\n",
    " g_iw(iw_) << 1 / (iw_ + 2);\n",
    "\n",
    " // Writing the Green's functions into an HDF5 file.\n",
    " auto f = h5::file(\"gf.h5\", 'w');\n",
    " h5_write(f, \"g_iw\", g_iw);\n",
    "\n",
    " return g_iw;\n",
    "}"
   ]
  },
  {
   "cell_type": "markdown",
   "metadata": {
    "deletable": true,
    "editable": true,
    "run_control": {
     "frozen": false,
     "read_only": false
    }
   },
   "source": [
    "Let us try it ..."
   ]
  },
  {
   "cell_type": "code",
   "execution_count": 3,
   "metadata": {
    "collapsed": false,
    "deletable": true,
    "editable": true,
    "run_control": {
     "frozen": false,
     "read_only": false
    }
   },
   "outputs": [],
   "source": [
    "!rm gf.h5\n",
    "g = demo(10.0)"
   ]
  },
  {
   "cell_type": "code",
   "execution_count": 4,
   "metadata": {
    "collapsed": false,
    "deletable": true,
    "editable": true,
    "run_control": {
     "frozen": false,
     "read_only": false
    }
   },
   "outputs": [
    {
     "name": "stdout",
     "output_type": "stream",
     "text": [
      "/                        Group\r\n",
      "/g_iw                    Group\r\n",
      "/g_iw/data               Dataset {1000, 1, 1, 2}\r\n",
      "/g_iw/indices            Group\r\n",
      "/g_iw/indices/left       Dataset {1}\r\n",
      "/g_iw/indices/right      Dataset {1}\r\n",
      "/g_iw/mesh               Group\r\n",
      "/g_iw/mesh/domain        Group\r\n",
      "/g_iw/mesh/domain/beta   Dataset {SCALAR}\r\n",
      "/g_iw/mesh/domain/statistic Dataset {SCALAR}\r\n",
      "/g_iw/mesh/positive_freq_only Dataset {SCALAR}\r\n",
      "/g_iw/mesh/size          Dataset {SCALAR}\r\n",
      "/g_iw/singularity        Group\r\n",
      "/g_iw/singularity/data   Dataset {11, 1, 1, 2}\r\n",
      "/g_iw/singularity/omin   Dataset {SCALAR}\r\n"
     ]
    }
   ],
   "source": [
    "!h5ls -r gf.h5"
   ]
  },
  {
   "cell_type": "code",
   "execution_count": 5,
   "metadata": {
    "collapsed": false,
    "deletable": true,
    "editable": true,
    "run_control": {
     "frozen": false,
     "read_only": false
    }
   },
   "outputs": [
    {
     "name": "stderr",
     "output_type": "stream",
     "text": [
      "/usr/local/lib/python2.7/site-packages/matplotlib/font_manager.py:273: UserWarning: Matplotlib is building the font cache using fc-list. This may take a moment.\n",
      "  warnings.warn('Matplotlib is building the font cache using fc-list. This may take a moment.')\n"
     ]
    },
    {
     "data": {
      "text/plain": [
       "(0, 10)"
      ]
     },
     "execution_count": 5,
     "metadata": {},
     "output_type": "execute_result"
    },
    {
     "data": {
      "image/png": "[encoded data removed]",
      "text/plain": [
       "<matplotlib.figure.Figure at 0x108da44d0>"
      ]
     },
     "metadata": {},
     "output_type": "display_data"
    }
   ],
   "source": [
    "from pytriqs.gf import *\n",
    "from pytriqs.archive import *\n",
    "from pytriqs.plot.mpl_interface import oplot, oplotr\n",
    "import matplotlib.pyplot as plt\n",
    "%matplotlib inline\n",
    "#with HDFArchive(\"gf.h5\",'r') as A:  # Open file\n",
    "#  oplot(A['g_iw'], '-o')\n",
    "oplot(demo(30), '-p')\n",
    "plt.xlim(0,10)\n",
    "#plt.ylim(-0.5,0)"
   ]
  },
  {
   "cell_type": "code",
   "execution_count": null,
   "metadata": {
    "collapsed": true,
    "deletable": true,
    "editable": true,
    "run_control": {
     "frozen": false,
     "read_only": false
    }
   },
   "outputs": [],
   "source": []
  }
 ],
 "metadata": {
  "kernelspec": {
   "display_name": "Python 2",
   "language": "python",
   "name": "python2"
  },
  "language_info": {
   "codemirror_mode": {
    "name": "ipython",
    "version": 2
   },
   "file_extension": ".py",
   "mimetype": "text/x-python",
   "name": "python",
   "nbconvert_exporter": "python",
   "pygments_lexer": "ipython2",
   "version": "2.7.13"
  },
  "latex_envs": {
   "LaTeX_envs_menu_present": true,
   "autocomplete": true,
   "bibliofile": "biblio.bib",
   "cite_by": "apalike",
   "current_citInitial": 1,
   "eqLabelWithNumbers": true,
   "eqNumInitial": 0,
   "hotkeys": {
    "equation": "Ctrl-E",
    "itemize": "Ctrl-I"
   },
   "labels_anchors": false,
   "latex_user_defs": false,
   "report_style_numbering": false,
   "user_envs_cfg": false
  },
  "nav_menu": {},
  "toc": {
   "navigate_menu": true,
   "number_sections": true,
   "sideBar": true,
   "threshold": 6,
   "toc_cell": false,
   "toc_section_display": "block",
   "toc_window_display": false
  },
  "widgets": {
   "state": {},
   "version": "1.1.2"
  }
 },
 "nbformat": 4,
 "nbformat_minor": 0
}
