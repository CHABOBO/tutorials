{
 "cells": [
  {
   "cell_type": "code",
   "execution_count": null,
   "metadata": {
    "collapsed": false,
    "run_control": {
     "frozen": false,
     "read_only": false
    }
   },
   "outputs": [],
   "source": [
    "%reload_ext pytriqs.magic"
   ]
  },
  {
   "cell_type": "markdown",
   "metadata": {},
   "source": [
    "# Manipulate the TRIQS Green function"
   ]
  },
  {
   "cell_type": "code",
   "execution_count": null,
   "metadata": {
    "collapsed": false,
    "run_control": {
     "frozen": false,
     "read_only": false
    }
   },
   "outputs": [],
   "source": [
    "%%triqs             \n",
    "#include <triqs/gfs.hpp>\n",
    "using namespace triqs;\n",
    "using namespace triqs::gfs;\n",
    "        \n",
    "gf<imfreq> demo(double beta) {\n",
    "\n",
    " int n_freq = 1000;\n",
    "\n",
    " clef::placeholder<0> iw_;\n",
    "\n",
    " // Construction of a 1x1 matrix-valued fermionic gf on Matsubara frequencies.\n",
    " auto g_iw = gf<imfreq>{{beta, Fermion, n_freq}, {1, 1}};\n",
    "\n",
    " // Automatic placeholder evaluation\n",
    " g_iw(iw_) << 1 / (iw_ + 2);\n",
    "\n",
    " // Writing the Green's functions into an HDF5 file.\n",
    " auto f = h5::file(\"gf.h5\", 'w');\n",
    " h5_write(f, \"g_iw\", g_iw);\n",
    "\n",
    " return g_iw;\n",
    "}"
   ]
  },
  {
   "cell_type": "markdown",
   "metadata": {},
   "source": [
    "Let us try it ..."
   ]
  },
  {
   "cell_type": "code",
   "execution_count": null,
   "metadata": {
    "collapsed": false,
    "run_control": {
     "frozen": false,
     "read_only": false
    }
   },
   "outputs": [],
   "source": [
    "!rm gf.h5\n",
    "g = demo(10.0)"
   ]
  },
  {
   "cell_type": "code",
   "execution_count": null,
   "metadata": {
    "collapsed": false,
    "run_control": {
     "frozen": false,
     "read_only": false
    }
   },
   "outputs": [],
   "source": [
    "!h5ls -r gf.h5"
   ]
  },
  {
   "cell_type": "code",
   "execution_count": null,
   "metadata": {
    "collapsed": false,
    "run_control": {
     "frozen": false,
     "read_only": false
    }
   },
   "outputs": [],
   "source": [
    "from pytriqs.gf.local import *\n",
    "from pytriqs.archive import *\n",
    "from pytriqs.plot.mpl_interface import oplot, oplotr\n",
    "import matplotlib.pyplot as plt\n",
    "%matplotlib inline\n",
    "with HDFArchive(\"gf.h5\",'r') as A:  # Open file\n",
    "  oplot(A['g_iw'], '-o')\n",
    "oplot(demo(30), '-p')\n",
    "plt.xlim(0,10)\n",
    "#plt.ylim(-0.5,0)"
   ]
  }
 ],
 "metadata": {
  "kernelspec": {
   "display_name": "Python 2",
   "language": "python",
   "name": "python2"
  },
  "language_info": {
   "codemirror_mode": {
    "name": "ipython",
    "version": 2
   },
   "file_extension": ".py",
   "mimetype": "text/x-python",
   "name": "python",
   "nbconvert_exporter": "python",
   "pygments_lexer": "ipython2",
   "version": "2.7.11+"
  },
  "widgets": {
   "state": {},
   "version": "1.1.2"
  }
 },
 "nbformat": 4,
 "nbformat_minor": 0
}
