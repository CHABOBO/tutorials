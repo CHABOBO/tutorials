{
 "cells": [
  {
   "cell_type": "code",
   "execution_count": null,
   "metadata": {
    "collapsed": false
   },
   "outputs": [],
   "source": [
    "%reload_ext pytriqs.magic"
   ]
  },
  {
   "cell_type": "markdown",
   "metadata": {},
   "source": [
    "I want to write a simple C++ function that returns a tuple of two C++ arrays.\n",
    "\n",
    "* The magic `%%triqs`:\n",
    "  * writes the wrapper\n",
    "  * compiles it\n",
    "  * loads it into the Python notebook.\n",
    "  \n",
    "* C++ triqs arrays are converted into numpy Python arrays\n",
    "* C++ tuple into Python tuple\n",
    "* Exceptions in C++ are properly intercepted"
   ]
  },
  {
   "cell_type": "code",
   "execution_count": null,
   "metadata": {
    "collapsed": false
   },
   "outputs": [],
   "source": [
    "%%triqs \n",
    "#include <triqs/gfs.hpp>\n",
    "#include <tuple>\n",
    "using triqs::arrays::array;\n",
    "                \n",
    "std::tuple<array<double,1>, array<double,1>> \n",
    "fun (int n) { \n",
    " \n",
    " if (n<0) TRIQS_RUNTIME_ERROR << \"Your parameter n is really crazy !\";\n",
    "\n",
    " array<double,1> a = {1,2,3,4,5};\n",
    " array<double,1> b = n*a;\n",
    " \n",
    " return {a,b};\n",
    "}\n",
    "\n",
    "int g(int x) { \n",
    " return x+1;\n",
    "}"
   ]
  },
  {
   "cell_type": "markdown",
   "metadata": {},
   "source": [
    "Let us try it, with a correct parameter"
   ]
  },
  {
   "cell_type": "code",
   "execution_count": null,
   "metadata": {
    "collapsed": false
   },
   "outputs": [],
   "source": [
    "fun(2),g(1)"
   ]
  },
  {
   "cell_type": "markdown",
   "metadata": {},
   "source": [
    "If I pass a negative integer ..."
   ]
  },
  {
   "cell_type": "code",
   "execution_count": null,
   "metadata": {
    "collapsed": false
   },
   "outputs": [],
   "source": [
    "fun(-1)\n"
   ]
  }
 ],
 "metadata": {
  "kernelspec": {
   "display_name": "Python 2",
   "language": "python",
   "name": "python2"
  },
  "language_info": {
   "codemirror_mode": {
    "name": "ipython",
    "version": 2
   },
   "file_extension": ".py",
   "mimetype": "text/x-python",
   "name": "python",
   "nbconvert_exporter": "python",
   "pygments_lexer": "ipython2",
   "version": "2.7.10"
  },
  "widgets": {
   "state": {},
   "version": "1.1.2"
  }
 },
 "nbformat": 4,
 "nbformat_minor": 0
}
